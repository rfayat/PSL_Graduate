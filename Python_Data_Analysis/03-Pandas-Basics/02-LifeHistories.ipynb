{
 "cells": [
  {
   "cell_type": "markdown",
   "metadata": {},
   "source": [
    "# Analysis of a dataset\n",
    "\n",
    "## Step 1: Load and preprocess the dataset using pandas\n",
    "\n",
    "Load the data stored in [Mammal_lifehistories_v2.txt](http://esapubs.org/archive/ecol/E084/093/Mammal_lifehistories_v2.txt), from https://doi.org/10.1890/02-9002 using [pandas' read_csv function](https://pandas.pydata.org/pandas-docs/stable/reference/api/pandas.read_csv.html).\n",
    "\n",
    "**Hints**:\n",
    "- Pay attention to the `delimiter` used in the file containing the data\n",
    "- Missing data in this file is specified by `-999` and `-999.00`\n",
    "- You can skip the last rows using the `skipfooter` argument"
   ]
  },
  {
   "cell_type": "code",
   "execution_count": 1,
   "metadata": {},
   "outputs": [],
   "source": [
    "import pandas as pd\n",
    "import numpy as np\n",
    "import matplotlib.pyplot as plt"
   ]
  },
  {
   "cell_type": "code",
   "execution_count": 20,
   "metadata": {},
   "outputs": [
    {
     "data": {
      "text/html": [
       "<div>\n",
       "<style scoped>\n",
       "    .dataframe tbody tr th:only-of-type {\n",
       "        vertical-align: middle;\n",
       "    }\n",
       "\n",
       "    .dataframe tbody tr th {\n",
       "        vertical-align: top;\n",
       "    }\n",
       "\n",
       "    .dataframe thead th {\n",
       "        text-align: right;\n",
       "    }\n",
       "</style>\n",
       "<table border=\"1\" class=\"dataframe\">\n",
       "  <thead>\n",
       "    <tr style=\"text-align: right;\">\n",
       "      <th></th>\n",
       "      <th>order</th>\n",
       "      <th>family</th>\n",
       "      <th>Genus</th>\n",
       "      <th>species</th>\n",
       "      <th>mass(g)</th>\n",
       "      <th>gestation(mo)</th>\n",
       "      <th>newborn(g)</th>\n",
       "      <th>weaning(mo)</th>\n",
       "      <th>wean mass(g)</th>\n",
       "      <th>AFR(mo)</th>\n",
       "      <th>max. life(mo)</th>\n",
       "      <th>litter size</th>\n",
       "      <th>litters/year</th>\n",
       "      <th>refs</th>\n",
       "    </tr>\n",
       "  </thead>\n",
       "  <tbody>\n",
       "    <tr>\n",
       "      <th>0</th>\n",
       "      <td>Artiodactyla</td>\n",
       "      <td>Antilocapridae</td>\n",
       "      <td>Antilocapra</td>\n",
       "      <td>americana</td>\n",
       "      <td>45375.0</td>\n",
       "      <td>8.13</td>\n",
       "      <td>3246.36</td>\n",
       "      <td>3.00</td>\n",
       "      <td>8900.0</td>\n",
       "      <td>13.53</td>\n",
       "      <td>142.0</td>\n",
       "      <td>1.85</td>\n",
       "      <td>1.00</td>\n",
       "      <td>1,2,6,9,23,26,27</td>\n",
       "    </tr>\n",
       "    <tr>\n",
       "      <th>1</th>\n",
       "      <td>Artiodactyla</td>\n",
       "      <td>Bovidae</td>\n",
       "      <td>Addax</td>\n",
       "      <td>nasomaculatus</td>\n",
       "      <td>182375.0</td>\n",
       "      <td>9.39</td>\n",
       "      <td>5480.00</td>\n",
       "      <td>6.50</td>\n",
       "      <td>NaN</td>\n",
       "      <td>27.27</td>\n",
       "      <td>308.0</td>\n",
       "      <td>1.00</td>\n",
       "      <td>0.99</td>\n",
       "      <td>1,2,17,23,26</td>\n",
       "    </tr>\n",
       "    <tr>\n",
       "      <th>2</th>\n",
       "      <td>Artiodactyla</td>\n",
       "      <td>Bovidae</td>\n",
       "      <td>Aepyceros</td>\n",
       "      <td>melampus</td>\n",
       "      <td>41480.0</td>\n",
       "      <td>6.35</td>\n",
       "      <td>5093.00</td>\n",
       "      <td>5.63</td>\n",
       "      <td>15900.0</td>\n",
       "      <td>16.66</td>\n",
       "      <td>213.0</td>\n",
       "      <td>1.00</td>\n",
       "      <td>0.95</td>\n",
       "      <td>1,2,8,9,23,29</td>\n",
       "    </tr>\n",
       "    <tr>\n",
       "      <th>3</th>\n",
       "      <td>Artiodactyla</td>\n",
       "      <td>Bovidae</td>\n",
       "      <td>Alcelaphus</td>\n",
       "      <td>buselaphus</td>\n",
       "      <td>150000.0</td>\n",
       "      <td>7.90</td>\n",
       "      <td>10166.67</td>\n",
       "      <td>6.50</td>\n",
       "      <td>NaN</td>\n",
       "      <td>23.02</td>\n",
       "      <td>240.0</td>\n",
       "      <td>1.00</td>\n",
       "      <td>NaN</td>\n",
       "      <td>1,2,17,23</td>\n",
       "    </tr>\n",
       "    <tr>\n",
       "      <th>4</th>\n",
       "      <td>Artiodactyla</td>\n",
       "      <td>Bovidae</td>\n",
       "      <td>Ammodorcas</td>\n",
       "      <td>clarkei</td>\n",
       "      <td>28500.0</td>\n",
       "      <td>6.80</td>\n",
       "      <td>NaN</td>\n",
       "      <td>NaN</td>\n",
       "      <td>NaN</td>\n",
       "      <td>NaN</td>\n",
       "      <td>NaN</td>\n",
       "      <td>1.00</td>\n",
       "      <td>NaN</td>\n",
       "      <td>1,2</td>\n",
       "    </tr>\n",
       "    <tr>\n",
       "      <th>...</th>\n",
       "      <td>...</td>\n",
       "      <td>...</td>\n",
       "      <td>...</td>\n",
       "      <td>...</td>\n",
       "      <td>...</td>\n",
       "      <td>...</td>\n",
       "      <td>...</td>\n",
       "      <td>...</td>\n",
       "      <td>...</td>\n",
       "      <td>...</td>\n",
       "      <td>...</td>\n",
       "      <td>...</td>\n",
       "      <td>...</td>\n",
       "      <td>...</td>\n",
       "    </tr>\n",
       "    <tr>\n",
       "      <th>1435</th>\n",
       "      <td>Xenarthra</td>\n",
       "      <td>Megalonychidae</td>\n",
       "      <td>Choloepus</td>\n",
       "      <td>hoffmanni</td>\n",
       "      <td>4750.0</td>\n",
       "      <td>9.41</td>\n",
       "      <td>387.25</td>\n",
       "      <td>0.69</td>\n",
       "      <td>NaN</td>\n",
       "      <td>30.12</td>\n",
       "      <td>385.0</td>\n",
       "      <td>1.00</td>\n",
       "      <td>0.70</td>\n",
       "      <td>1,2,16,23,29</td>\n",
       "    </tr>\n",
       "    <tr>\n",
       "      <th>1436</th>\n",
       "      <td>Xenarthra</td>\n",
       "      <td>Megalonychidae</td>\n",
       "      <td>Choloepus</td>\n",
       "      <td>didactylus</td>\n",
       "      <td>6070.0</td>\n",
       "      <td>8.67</td>\n",
       "      <td>354.77</td>\n",
       "      <td>2.50</td>\n",
       "      <td>NaN</td>\n",
       "      <td>36.00</td>\n",
       "      <td>333.0</td>\n",
       "      <td>1.50</td>\n",
       "      <td>1.00</td>\n",
       "      <td>1,2,3,11,13,17,29</td>\n",
       "    </tr>\n",
       "    <tr>\n",
       "      <th>1437</th>\n",
       "      <td>Xenarthra</td>\n",
       "      <td>Myrmecophagidae</td>\n",
       "      <td>Cyclopes</td>\n",
       "      <td>didactylus</td>\n",
       "      <td>5070.0</td>\n",
       "      <td>8.92</td>\n",
       "      <td>NaN</td>\n",
       "      <td>5.00</td>\n",
       "      <td>NaN</td>\n",
       "      <td>NaN</td>\n",
       "      <td>NaN</td>\n",
       "      <td>1.00</td>\n",
       "      <td>NaN</td>\n",
       "      <td>1,3,16</td>\n",
       "    </tr>\n",
       "    <tr>\n",
       "      <th>1438</th>\n",
       "      <td>Xenarthra</td>\n",
       "      <td>Myrmecophagidae</td>\n",
       "      <td>Myrmecophaga</td>\n",
       "      <td>tridactyla</td>\n",
       "      <td>28500.0</td>\n",
       "      <td>6.19</td>\n",
       "      <td>1491.17</td>\n",
       "      <td>1.83</td>\n",
       "      <td>NaN</td>\n",
       "      <td>39.00</td>\n",
       "      <td>310.0</td>\n",
       "      <td>1.00</td>\n",
       "      <td>1.17</td>\n",
       "      <td>1,2,3,13,17,29</td>\n",
       "    </tr>\n",
       "    <tr>\n",
       "      <th>1439</th>\n",
       "      <td>Xenarthra</td>\n",
       "      <td>Myrmecophagidae</td>\n",
       "      <td>Tamandua</td>\n",
       "      <td>tetradactyla</td>\n",
       "      <td>5030.0</td>\n",
       "      <td>5.22</td>\n",
       "      <td>NaN</td>\n",
       "      <td>NaN</td>\n",
       "      <td>NaN</td>\n",
       "      <td>12.00</td>\n",
       "      <td>114.0</td>\n",
       "      <td>1.00</td>\n",
       "      <td>1.35</td>\n",
       "      <td>1,2,3,13,16</td>\n",
       "    </tr>\n",
       "  </tbody>\n",
       "</table>\n",
       "<p>1440 rows × 14 columns</p>\n",
       "</div>"
      ],
      "text/plain": [
       "             order           family         Genus        species   mass(g)  \\\n",
       "0     Artiodactyla   Antilocapridae   Antilocapra      americana   45375.0   \n",
       "1     Artiodactyla          Bovidae         Addax  nasomaculatus  182375.0   \n",
       "2     Artiodactyla          Bovidae     Aepyceros       melampus   41480.0   \n",
       "3     Artiodactyla          Bovidae    Alcelaphus     buselaphus  150000.0   \n",
       "4     Artiodactyla          Bovidae    Ammodorcas        clarkei   28500.0   \n",
       "...            ...              ...           ...            ...       ...   \n",
       "1435     Xenarthra   Megalonychidae     Choloepus      hoffmanni    4750.0   \n",
       "1436     Xenarthra   Megalonychidae     Choloepus     didactylus    6070.0   \n",
       "1437     Xenarthra  Myrmecophagidae      Cyclopes     didactylus    5070.0   \n",
       "1438     Xenarthra  Myrmecophagidae  Myrmecophaga     tridactyla   28500.0   \n",
       "1439     Xenarthra  Myrmecophagidae      Tamandua   tetradactyla    5030.0   \n",
       "\n",
       "      gestation(mo)  newborn(g)  weaning(mo)  wean mass(g)  AFR(mo)  \\\n",
       "0              8.13     3246.36         3.00        8900.0    13.53   \n",
       "1              9.39     5480.00         6.50           NaN    27.27   \n",
       "2              6.35     5093.00         5.63       15900.0    16.66   \n",
       "3              7.90    10166.67         6.50           NaN    23.02   \n",
       "4              6.80         NaN          NaN           NaN      NaN   \n",
       "...             ...         ...          ...           ...      ...   \n",
       "1435           9.41      387.25         0.69           NaN    30.12   \n",
       "1436           8.67      354.77         2.50           NaN    36.00   \n",
       "1437           8.92         NaN         5.00           NaN      NaN   \n",
       "1438           6.19     1491.17         1.83           NaN    39.00   \n",
       "1439           5.22         NaN          NaN           NaN    12.00   \n",
       "\n",
       "      max. life(mo)  litter size  litters/year               refs  \n",
       "0             142.0         1.85          1.00   1,2,6,9,23,26,27  \n",
       "1             308.0         1.00          0.99       1,2,17,23,26  \n",
       "2             213.0         1.00          0.95      1,2,8,9,23,29  \n",
       "3             240.0         1.00           NaN          1,2,17,23  \n",
       "4               NaN         1.00           NaN                1,2  \n",
       "...             ...          ...           ...                ...  \n",
       "1435          385.0         1.00          0.70       1,2,16,23,29  \n",
       "1436          333.0         1.50          1.00  1,2,3,11,13,17,29  \n",
       "1437            NaN         1.00           NaN             1,3,16  \n",
       "1438          310.0         1.00          1.17     1,2,3,13,17,29  \n",
       "1439          114.0         1.00          1.35        1,2,3,13,16  \n",
       "\n",
       "[1440 rows x 14 columns]"
      ]
     },
     "execution_count": 20,
     "metadata": {},
     "output_type": "execute_result"
    }
   ],
   "source": [
    "# TODO: Load the content of Mammal_lifehistories_v2.txt as a DataFrame\n",
    "pd.read_csv(\"Mammal_lifehistories_v2.txt\", sep='\\t', na_values=-999, skipfooter=6, engine='python')"
   ]
  },
  {
   "cell_type": "code",
   "execution_count": 5,
   "metadata": {},
   "outputs": [],
   "source": [
    "?pd.read_csv"
   ]
  },
  {
   "cell_type": "code",
   "execution_count": 5,
   "metadata": {},
   "outputs": [
    {
     "ename": "NameError",
     "evalue": "name 'df' is not defined",
     "output_type": "error",
     "traceback": [
      "\u001b[0;31m---------------------------------------------------------------------------\u001b[0m",
      "\u001b[0;31mNameError\u001b[0m                                 Traceback (most recent call last)",
      "\u001b[0;32m<ipython-input-5-3a0cb459f90f>\u001b[0m in \u001b[0;36m<module>\u001b[0;34m\u001b[0m\n\u001b[1;32m      1\u001b[0m \u001b[0;31m# Show a few properties of the dataset using pd.DataFrame.describe\u001b[0m\u001b[0;34m\u001b[0m\u001b[0;34m\u001b[0m\u001b[0;34m\u001b[0m\u001b[0m\n\u001b[0;32m----> 2\u001b[0;31m \u001b[0mdf\u001b[0m\u001b[0;34m.\u001b[0m\u001b[0mdescribe\u001b[0m\u001b[0;34m(\u001b[0m\u001b[0;34m)\u001b[0m\u001b[0;34m\u001b[0m\u001b[0;34m\u001b[0m\u001b[0m\n\u001b[0m",
      "\u001b[0;31mNameError\u001b[0m: name 'df' is not defined"
     ]
    }
   ],
   "source": [
    "# Show a few properties of the dataset using pd.DataFrame.describe\n",
    "df.describe()"
   ]
  },
  {
   "cell_type": "code",
   "execution_count": 4,
   "metadata": {
    "scrolled": true
   },
   "outputs": [
    {
     "data": {
      "text/plain": [
       "['order',\n",
       " 'family',\n",
       " 'Genus',\n",
       " 'species',\n",
       " 'mass(g)',\n",
       " 'gestation(mo)',\n",
       " 'newborn(g)',\n",
       " 'weaning(mo)',\n",
       " 'wean mass(g)',\n",
       " 'AFR(mo)',\n",
       " 'max. life(mo)',\n",
       " 'litter size',\n",
       " 'litters/year',\n",
       " 'refs']"
      ]
     },
     "execution_count": 4,
     "metadata": {},
     "output_type": "execute_result"
    }
   ],
   "source": [
    "# Show the columns' names by converting to a list\n",
    "list(df)"
   ]
  },
  {
   "cell_type": "markdown",
   "metadata": {},
   "source": [
    "## Step 2: Data visualization using matplotlib\n",
    "Graph adult mass vs. newborn mass. Label the axes and add a title."
   ]
  },
  {
   "cell_type": "code",
   "execution_count": null,
   "metadata": {},
   "outputs": [],
   "source": [
    "# TODO"
   ]
  },
  {
   "cell_type": "markdown",
   "metadata": {},
   "source": [
    "Graph the log (base 10) of adult mass vs. the log (base 10) of newborn mass. Label the axes and add a title."
   ]
  },
  {
   "cell_type": "code",
   "execution_count": 6,
   "metadata": {},
   "outputs": [],
   "source": [
    "# TODO"
   ]
  },
  {
   "cell_type": "markdown",
   "metadata": {},
   "source": [
    "For data where order is Rodentia, graph the log (base 10) of adult mass vs. the log (base 10) of newborn mass. Label the axes."
   ]
  },
  {
   "cell_type": "code",
   "execution_count": 7,
   "metadata": {},
   "outputs": [],
   "source": [
    "# TODO\n",
    "# Hint: Start by creating a boolean array which is True when the \"order\" is equal to \"Rodentia\"\n"
   ]
  },
  {
   "cell_type": "markdown",
   "metadata": {},
   "source": [
    "## Step 3: Find a simple model for the data\n",
    "\n",
    "Using for instance [scipy's linear regression function](https://docs.scipy.org/doc/scipy-0.14.0/reference/generated/scipy.stats.linregress.html), find and plot a simple model between the adults' and the offsprings' mass. Plot the resulting model over the data, label the axes and add a legend for both the experimental data and the resulting model. \n",
    "\n",
    "**Hint**: You will need to deal with missing values."
   ]
  },
  {
   "cell_type": "code",
   "execution_count": 8,
   "metadata": {},
   "outputs": [],
   "source": [
    "# Apply a linear regression to the log-log data\n",
    "from scipy import stats\n",
    "# TODO\n",
    "slope = ...\n",
    "intercept = ..."
   ]
  },
  {
   "cell_type": "code",
   "execution_count": 9,
   "metadata": {},
   "outputs": [
    {
     "ename": "NameError",
     "evalue": "name 'slope' is not defined",
     "output_type": "error",
     "traceback": [
      "\u001b[0;31m---------------------------------------------------------------------------\u001b[0m",
      "\u001b[0;31mNameError\u001b[0m                                 Traceback (most recent call last)",
      "\u001b[0;32m<ipython-input-9-1777707a94db>\u001b[0m in \u001b[0;36m<module>\u001b[0;34m\u001b[0m\n\u001b[1;32m      2\u001b[0m print(f\"\"\"------OUTPUT OF THE REGRESSION------\n\u001b[1;32m      3\u001b[0m \u001b[0mSlope\u001b[0m\u001b[0;34m:\u001b[0m \u001b[0;34m{\u001b[0m\u001b[0mslope\u001b[0m\u001b[0;34m}\u001b[0m\u001b[0;34m\u001b[0m\u001b[0;34m\u001b[0m\u001b[0m\n\u001b[0;32m----> 4\u001b[0;31m Intercept: {intercept}\"\"\")\n\u001b[0m",
      "\u001b[0;31mNameError\u001b[0m: name 'slope' is not defined"
     ]
    }
   ],
   "source": [
    "print(f\"\"\"------OUTPUT OF THE REGRESSION------\n",
    "Slope: {slope}\n",
    "Intercept: {intercept}\"\"\")"
   ]
  },
  {
   "cell_type": "code",
   "execution_count": 10,
   "metadata": {},
   "outputs": [],
   "source": [
    "# TODO, plot the log-log data and the resulting regression"
   ]
  },
  {
   "cell_type": "code",
   "execution_count": null,
   "metadata": {},
   "outputs": [],
   "source": []
  }
 ],
 "metadata": {
  "kernelspec": {
   "display_name": "Python 3",
   "language": "python",
   "name": "python3"
  },
  "language_info": {
   "codemirror_mode": {
    "name": "ipython",
    "version": 3
   },
   "file_extension": ".py",
   "mimetype": "text/x-python",
   "name": "python",
   "nbconvert_exporter": "python",
   "pygments_lexer": "ipython3",
   "version": "3.7.6"
  }
 },
 "nbformat": 4,
 "nbformat_minor": 4
}
