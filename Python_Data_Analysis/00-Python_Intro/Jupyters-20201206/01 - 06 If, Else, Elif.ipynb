{
 "cells": [
  {
   "cell_type": "markdown",
   "metadata": {},
   "source": [
    "# If-else statements\n",
    "## If\n",
    "The operator **if** allows the execution of a **block of code**, only if it is followed by a boolean having the value **True**."
   ]
  },
  {
   "cell_type": "code",
   "execution_count": 1,
   "metadata": {},
   "outputs": [
    {
     "name": "stdout",
     "output_type": "stream",
     "text": [
      "The statement was True!\n"
     ]
    }
   ],
   "source": [
    "# Example of a block of code executed in an if statement\n",
    "if True:\n",
    "    print('The statement was True!')"
   ]
  },
  {
   "cell_type": "markdown",
   "metadata": {},
   "source": [
    "A condition can follow the if operator, and the associated block of code will be executed if this condition is true."
   ]
  },
  {
   "cell_type": "code",
   "execution_count": 2,
   "metadata": {},
   "outputs": [
    {
     "name": "stdout",
     "output_type": "stream",
     "text": [
      "Wow, that is incredible!\n"
     ]
    }
   ],
   "source": [
    "# Example of an if statement\n",
    "if 2 < 10:\n",
    "    print(\"Wow, that is incredible!\")"
   ]
  },
  {
   "cell_type": "markdown",
   "metadata": {},
   "source": [
    "If the condition needs to be false for the code to be executed, the operator **\"not\"** can be added before the condition."
   ]
  },
  {
   "cell_type": "code",
   "execution_count": 3,
   "metadata": {},
   "outputs": [
    {
     "name": "stdout",
     "output_type": "stream",
     "text": [
      "Goodbye\n"
     ]
    }
   ],
   "source": [
    "if not 'H' in 'Goodbye':\n",
    "    print('Goodbye')"
   ]
  },
  {
   "cell_type": "markdown",
   "metadata": {},
   "source": [
    "## Condition chaining"
   ]
  },
  {
   "cell_type": "markdown",
   "metadata": {},
   "source": [
    "Multiple conditions can be added after an if. <br />\n",
    "In the case where you want them to be true at the same time to execute a piece of code, you can use the operator **\"and\"**.  <br />\n",
    "Also, if you only need one or more of them to be true, you can use the operator **\"or\"**."
   ]
  },
  {
   "cell_type": "code",
   "execution_count": 4,
   "metadata": {},
   "outputs": [
    {
     "name": "stdout",
     "output_type": "stream",
     "text": [
      "Python is amazing!\n"
     ]
    }
   ],
   "source": [
    "# Example of an if with two conditions and an \"and\"\n",
    "if 2 < 10 and 'H' in 'Hello':\n",
    "    print(\"Python is amazing!\")"
   ]
  },
  {
   "cell_type": "code",
   "execution_count": 5,
   "metadata": {},
   "outputs": [],
   "source": [
    "# Do an if block with to conditions and an \"or\"\n",
    "# TODO\n"
   ]
  },
  {
   "cell_type": "markdown",
   "metadata": {},
   "source": [
    "## Else\n",
    "In the case you want to execute a different block of code if the condition is true or false, you can use **\"else\"** following an if statement."
   ]
  },
  {
   "cell_type": "code",
   "execution_count": 6,
   "metadata": {},
   "outputs": [
    {
     "name": "stdout",
     "output_type": "stream",
     "text": [
      "Do you even know how to read?\n"
     ]
    }
   ],
   "source": [
    "# Example of an if statement followed by an else\n",
    "if 'H' in 'Goodbye':\n",
    "    print('Goodbye')\n",
    "else:\n",
    "    print(\"Do you even know how to read?\")"
   ]
  },
  {
   "cell_type": "markdown",
   "metadata": {},
   "source": [
    "## Elif\n",
    "In Python, there is a possibility of creating more complicated conditional structures.<br />\n",
    "For example, if you want to execute a given block of code if a condition is true, but if it is false you want to **verify an other condition to execute an other block of code**, you can use **\"elif\"**."
   ]
  },
  {
   "cell_type": "code",
   "execution_count": 7,
   "metadata": {},
   "outputs": [
    {
     "name": "stdout",
     "output_type": "stream",
     "text": [
      "x can be divided by 2\n"
     ]
    }
   ],
   "source": [
    "# Example of an if block followed by an elif\n",
    "# The first if checks if x is lesser than 10,\n",
    "# Otherwise the elif checks if x can be divided by 2.\n",
    "x = 1024\n",
    "if x < 10:\n",
    "    print(\"x is to low\")\n",
    "elif x % 2 == 0:\n",
    "    print(\"x can be divided by 2\")"
   ]
  },
  {
   "cell_type": "markdown",
   "metadata": {},
   "source": [
    "NB: As a sidenote, since if, elif and else use boolean values, you can **store your statements in variables** and use them in if blocks later.<br />"
   ]
  },
  {
   "cell_type": "code",
   "execution_count": 13,
   "metadata": {},
   "outputs": [
    {
     "name": "stdout",
     "output_type": "stream",
     "text": [
      "True\n"
     ]
    }
   ],
   "source": [
    "x = 2\n",
    "statement =  x < 10\n",
    "print(statement)"
   ]
  },
  {
   "cell_type": "code",
   "execution_count": 14,
   "metadata": {},
   "outputs": [
    {
     "name": "stdout",
     "output_type": "stream",
     "text": [
      "Statement is True\n"
     ]
    }
   ],
   "source": [
    "if statement:\n",
    "    print('Statement is True')"
   ]
  },
  {
   "cell_type": "markdown",
   "metadata": {},
   "source": [
    "## Exercise\n",
    "Create an if-else block that, for a given input month will return the season of the year corresponding to it.<br /> \n",
    "The input name can be either a string (name of the month), or an integer (number of the month)."
   ]
  },
  {
   "cell_type": "code",
   "execution_count": 8,
   "metadata": {},
   "outputs": [],
   "source": [
    "# TODO\n"
   ]
  }
 ],
 "metadata": {
  "kernelspec": {
   "display_name": "Python 3",
   "language": "python",
   "name": "python3"
  },
  "language_info": {
   "codemirror_mode": {
    "name": "ipython",
    "version": 3
   },
   "file_extension": ".py",
   "mimetype": "text/x-python",
   "name": "python",
   "nbconvert_exporter": "python",
   "pygments_lexer": "ipython3",
   "version": "3.6.9"
  }
 },
 "nbformat": 4,
 "nbformat_minor": 4
}
