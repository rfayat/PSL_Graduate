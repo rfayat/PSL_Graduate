{
 "cells": [
  {
   "cell_type": "markdown",
   "metadata": {},
   "source": [
    "# Exercise 1: Capitalization\n",
    "Remember the \"capitalize()\" built-in function of the strings? Try to recreate it by doing something similar, a function that will take the first letter of a string and make it upper case.<br /><br />\n",
    "Hint 1 : You can use other strings built-in functions<br />\n",
    "Hint 2 : Google is your best friend<br />\n",
    "Bonus point if you manage to deal with the case where the input is not a string"
   ]
  },
  {
   "cell_type": "code",
   "execution_count": 4,
   "metadata": {},
   "outputs": [],
   "source": [
    "# TODO\n"
   ]
  },
  {
   "cell_type": "markdown",
   "metadata": {},
   "source": [
    "# Exercise 2: Fibonacci sequence\n",
    "The Fibonacci sequence is a sequence of integers such as the nth element of the sequence is the sumn of the n-1th and n-2th element.\n",
    "Make a function that will return a list containing the Fibonacci sequence up to a certain number, that will be the input argument of the function.\n",
    "https://en.wikipedia.org/wiki/Fibonacci_number"
   ]
  },
  {
   "cell_type": "code",
   "execution_count": 5,
   "metadata": {},
   "outputs": [],
   "source": [
    "# TODO\n"
   ]
  },
  {
   "cell_type": "markdown",
   "metadata": {},
   "source": [
    "# Exercise 3: Decryption\n",
    "You were contacted by the CIA, who needs help to decipher crypter transmissions to prevent a catastrophic event.<br />\n",
    "They have the decryption table, however none of their agents is skilled enough in programming to pull off an automatic way to decrypt those numbers.<br />\n",
    "They heard about your skills in Python and they are asking your help to make a function that will decrypt any input string that contains only letters into the corresponding number using the following table.<br />\n",
    "The survival of the world lies in your hands, and on your keyboard. **Good luck**!"
   ]
  },
  {
   "cell_type": "markdown",
   "metadata": {},
   "source": [
    "| Decrypted Character | Crypted Number | \n",
    "| :-: | :-: | \n",
    "| a | 14 |\n",
    "| b | 15 | \n",
    "| c | 16 | \n",
    "| d | 17 | \n",
    "| e | 18 |\n",
    "| ... | ... |"
   ]
  },
  {
   "cell_type": "code",
   "execution_count": 6,
   "metadata": {},
   "outputs": [],
   "source": [
    "import string\n",
    "alphabet = string.ascii_lowercase\n",
    "print(alphabet)\n",
    "\n",
    "coded_string = '21/18/25/25/28/36/28/31/25/17'\n",
    "# TODO"
   ]
  },
  {
   "cell_type": "markdown",
   "metadata": {},
   "source": [
    "# Exercise 4: Artificial Intelligence\n",
    "Guessing a number between 0 and 100 is a simple game, we all know how to play it. But you feel kinda lazy, you would prefer your computer to play it for you!<br />\n",
    "Try to create an artificial intelligence (well... a function) that will automatically solve this game, and display the number of trials it took to solve it."
   ]
  },
  {
   "cell_type": "code",
   "execution_count": 1,
   "metadata": {},
   "outputs": [],
   "source": [
    "def check_guess(guess, target):\n",
    "    \"Check if we guessed the correct value\"\n",
    "    if guess < target:\n",
    "        return \"lower\"\n",
    "    elif guess > target:\n",
    "        return \"higher\"\n",
    "    else:\n",
    "        return \"correct !\"\n",
    "    \n",
    "\n",
    "def guess(target, max_value=100):\n",
    "    \"Guess a target number between 0 and max_value\"\n",
    "    attempts = 0\n",
    "    output = \"\"\n",
    "    \n",
    "    while output != \"correct !\":\n",
    "        # TODO\n",
    "        my_guess = ...\n",
    "        output = check_guess(my_guess, target)\n",
    "        attempts += 1\n",
    "    print(\"Attempt number : {}\".format(attempts))"
   ]
  },
  {
   "cell_type": "code",
   "execution_count": null,
   "metadata": {},
   "outputs": [],
   "source": []
  }
 ],
 "metadata": {
  "kernelspec": {
   "display_name": "Python 3",
   "language": "python",
   "name": "python3"
  },
  "language_info": {
   "codemirror_mode": {
    "name": "ipython",
    "version": 3
   },
   "file_extension": ".py",
   "mimetype": "text/x-python",
   "name": "python",
   "nbconvert_exporter": "python",
   "pygments_lexer": "ipython3",
   "version": "3.6.9"
  }
 },
 "nbformat": 4,
 "nbformat_minor": 4
}
