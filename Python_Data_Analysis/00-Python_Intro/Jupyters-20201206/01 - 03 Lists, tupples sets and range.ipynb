{
 "cells": [
  {
   "cell_type": "markdown",
   "metadata": {
    "id": "vJKx49qwPx0u"
   },
   "source": [
    "# Lists\n",
    "A list is a **data structure** and more particularilly a **sequence**, meaning that it is an ensemble of elements brought together in a single object. <br />\n",
    "Lists are declared between **\"[ ]\"**, with every element being separated by **\",\"**."
   ]
  },
  {
   "cell_type": "code",
   "execution_count": null,
   "metadata": {
    "id": "fLRynU4vPx0v"
   },
   "outputs": [],
   "source": [
    "# Assigning a list to a variable\n",
    "my_list = [1, 2, 3]"
   ]
  },
  {
   "cell_type": "code",
   "execution_count": null,
   "metadata": {
    "id": "D4R1WegBPx0x",
    "outputId": "8b8c9163-6e90-4fdb-805b-f0ec28ffb2fc"
   },
   "outputs": [
    {
     "data": {
      "text/plain": [
       "[1, 2, 3]"
      ]
     },
     "execution_count": 33,
     "metadata": {
      "tags": []
     },
     "output_type": "execute_result"
    }
   ],
   "source": [
    "my_list"
   ]
  },
  {
   "cell_type": "markdown",
   "metadata": {
    "id": "KwnWX9ftPx0z"
   },
   "source": [
    "Every element in a list is **indexed**, meaning that they are associated to a number, referring to their order.<br />\n",
    "In Python, as in most programming languages, indexing **starts at 0**.<br />\n",
    "Elements can be accessed as following:"
   ]
  },
  {
   "cell_type": "code",
   "execution_count": null,
   "metadata": {
    "id": "7jgXUAY4Px0z",
    "outputId": "177aa351-30a5-4ed9-b89f-c173b856e714"
   },
   "outputs": [
    {
     "name": "stdout",
     "output_type": "stream",
     "text": [
      "1\n",
      "2\n",
      "3\n"
     ]
    }
   ],
   "source": [
    "# Displaying the first, second and third element of a list\n",
    "print(my_list[0])\n",
    "print(my_list[1])\n",
    "print(my_list[2])"
   ]
  },
  {
   "cell_type": "markdown",
   "metadata": {
    "id": "U-RvG3-MPx0z"
   },
   "source": [
    "Lists are **mutable**, which means that all of its elements **can be modified**."
   ]
  },
  {
   "cell_type": "code",
   "execution_count": null,
   "metadata": {
    "id": "ZBnU2pplPx0z",
    "outputId": "79aa3af4-5049-40b8-9847-4b89b1f526ad"
   },
   "outputs": [
    {
     "data": {
      "text/plain": [
       "[1, 2, 5]"
      ]
     },
     "execution_count": 5,
     "metadata": {
      "tags": []
     },
     "output_type": "execute_result"
    }
   ],
   "source": [
    "# Updating the  third element of a list\n",
    "my_list[2] = 5\n",
    "my_list"
   ]
  },
  {
   "cell_type": "markdown",
   "metadata": {
    "id": "AI7aywU_Px0z"
   },
   "source": [
    "Indexing a list using a positive index will count the index from the start, while giving a **negative index** will count them **from the end of the list**.<br />\n",
    "As an example, the last element of a list can be accessed with the index -1."
   ]
  },
  {
   "cell_type": "code",
   "execution_count": null,
   "metadata": {
    "id": "7r-rY2-8Px0z",
    "outputId": "7de6fad6-8012-4cb1-b7f9-9ab6fed0d9c8"
   },
   "outputs": [
    {
     "data": {
      "text/plain": [
       "1"
      ]
     },
     "execution_count": 6,
     "metadata": {
      "tags": []
     },
     "output_type": "execute_result"
    }
   ],
   "source": [
    "# Displaying the third element of a list from the end\n",
    "my_list[-3]"
   ]
  },
  {
   "cell_type": "markdown",
   "metadata": {
    "id": "COwXK_k8Px0z"
   },
   "source": [
    "If you try to access an index that is **not in a list**, the Python interpreter will not find it and give an **IndexError**."
   ]
  },
  {
   "cell_type": "code",
   "execution_count": null,
   "metadata": {
    "id": "upknd2svPx01",
    "outputId": "707ee795-9b6b-4491-d71f-d9a8986840d4"
   },
   "outputs": [
    {
     "ename": "IndexError",
     "evalue": "list index out of range",
     "output_type": "error",
     "traceback": [
      "\u001b[0;31m---------------------------------------------------------------------------\u001b[0m",
      "\u001b[0;31mIndexError\u001b[0m                                Traceback (most recent call last)",
      "\u001b[0;32m<ipython-input-7-452c52ef7c16>\u001b[0m in \u001b[0;36m<module>\u001b[0;34m\u001b[0m\n\u001b[0;32m----> 1\u001b[0;31m \u001b[0mmy_list\u001b[0m\u001b[0;34m[\u001b[0m\u001b[0;36m100\u001b[0m\u001b[0;34m]\u001b[0m\u001b[0;34m\u001b[0m\u001b[0;34m\u001b[0m\u001b[0m\n\u001b[0m",
      "\u001b[0;31mIndexError\u001b[0m: list index out of range"
     ]
    }
   ],
   "source": [
    "my_list[100]"
   ]
  },
  {
   "cell_type": "markdown",
   "metadata": {
    "id": "Btr4aEtiPx01"
   },
   "source": [
    "## Concatenation\n",
    "You can **concatenate** multiple lists using the operator **+**."
   ]
  },
  {
   "cell_type": "code",
   "execution_count": null,
   "metadata": {
    "id": "P-FPKI_APx01",
    "outputId": "950196ce-0c4f-4788-dd5a-167f8589978f"
   },
   "outputs": [
    {
     "data": {
      "text/plain": [
       "[1, 2, 3, 4, 5]"
      ]
     },
     "execution_count": 37,
     "metadata": {
      "tags": []
     },
     "output_type": "execute_result"
    }
   ],
   "source": [
    "my_list = [1, 2, 3] + [4, 5]\n",
    "my_list"
   ]
  },
  {
   "cell_type": "markdown",
   "metadata": {
    "id": "dLr26NMhPx01"
   },
   "source": [
    "##  List length and list slicing\n",
    "The number of elements in a list can be determined using the function **\"len()\"**."
   ]
  },
  {
   "cell_type": "code",
   "execution_count": null,
   "metadata": {
    "id": "pQzMB_BqPx01",
    "outputId": "e39daf73-4bc9-407f-a67b-f174ff831a38"
   },
   "outputs": [
    {
     "data": {
      "text/plain": [
       "5"
      ]
     },
     "execution_count": 38,
     "metadata": {
      "tags": []
     },
     "output_type": "execute_result"
    }
   ],
   "source": [
    "len(my_list)"
   ]
  },
  {
   "cell_type": "markdown",
   "metadata": {
    "id": "k_PtpSr9Px01"
   },
   "source": [
    "Slicing means creating a **subset based on indexing**. It is possible to slice a list by specifiying the **first element** of the list that has to be kept followed by the **first one that should be rejected** (last index to be kept +1) using the following syntax:"
   ]
  },
  {
   "cell_type": "markdown",
   "metadata": {
    "id": "AUiftVIOPx01"
   },
   "source": [
    "list[start:end]"
   ]
  },
  {
   "cell_type": "code",
   "execution_count": null,
   "metadata": {
    "id": "A29Sp66KPx01"
   },
   "outputs": [],
   "source": [
    "my_list = [1, 2, 3, 4, 5, 6, 7, 8, 9, 10]"
   ]
  },
  {
   "cell_type": "code",
   "execution_count": null,
   "metadata": {
    "id": "9VKn4OdFPx01",
    "outputId": "c25fa609-f5b3-4277-d131-a8d9c0d8c9f2"
   },
   "outputs": [
    {
     "data": {
      "text/plain": [
       "[3, 4, 5, 6]"
      ]
     },
     "execution_count": 40,
     "metadata": {
      "tags": []
     },
     "output_type": "execute_result"
    }
   ],
   "source": [
    "# Slicing a list, keeping from the 3rd element to the 6th\n",
    "my_list[2:6]"
   ]
  },
  {
   "cell_type": "markdown",
   "metadata": {
    "id": "VhPCCX8_Px01"
   },
   "source": [
    "**WARNING**: keep in mind that **indexing starts at 0** (first element is considered index 0) and that while slicing, the end index is the **first element to be rejected**."
   ]
  },
  {
   "cell_type": "markdown",
   "metadata": {
    "id": "9Fj39wc1Px01"
   },
   "source": [
    "If the **first index is not provided** during slicing, it will consider that it is 0 and **slice the list from the start**. <br />\n",
    "If the **end index is not provided**, it will **slice the list to the end**."
   ]
  },
  {
   "cell_type": "code",
   "execution_count": null,
   "metadata": {
    "id": "x2nmyG4bPx01",
    "outputId": "2d0cfd31-639d-4677-fe76-50e946083cf6"
   },
   "outputs": [
    {
     "data": {
      "text/plain": [
       "[1, 2, 3, 4, 5]"
      ]
     },
     "execution_count": 41,
     "metadata": {
      "tags": []
     },
     "output_type": "execute_result"
    }
   ],
   "source": [
    "# Slicing a list, keeping from the 1st element to the 5th\n",
    "my_list[:5]"
   ]
  },
  {
   "cell_type": "code",
   "execution_count": null,
   "metadata": {
    "id": "_iKiJLUqPx02",
    "outputId": "2dac20f5-8331-4185-f746-60080ccdedf5"
   },
   "outputs": [
    {
     "data": {
      "text/plain": [
       "[6, 7, 8, 9, 10]"
      ]
     },
     "execution_count": 42,
     "metadata": {
      "tags": []
     },
     "output_type": "execute_result"
    }
   ],
   "source": [
    "# Slicing a list, keeping from the 5th element to the end\n",
    "my_list[5:]"
   ]
  },
  {
   "cell_type": "code",
   "execution_count": null,
   "metadata": {
    "id": "OEon5KSqPx02",
    "outputId": "e6b9a8a7-7bbb-4960-e527-6aa707efd819"
   },
   "outputs": [
    {
     "data": {
      "text/plain": [
       "[3, 4, 5, 6, 7, 8]"
      ]
     },
     "execution_count": 43,
     "metadata": {
      "tags": []
     },
     "output_type": "execute_result"
    }
   ],
   "source": [
    "# Slicing a list, keeping from the 2nd element to the 3rd element from the end\n",
    "my_list[2:-2]"
   ]
  },
  {
   "cell_type": "markdown",
   "metadata": {
    "id": "_VgU70AMPx02"
   },
   "source": [
    "## Element checking\n",
    "It is possible to know if an element is in a list using the operator **in**"
   ]
  },
  {
   "cell_type": "code",
   "execution_count": null,
   "metadata": {
    "id": "f6h0SbztPx02",
    "outputId": "a32dbc5f-7b49-4a1f-c255-002b2a1f9747"
   },
   "outputs": [
    {
     "data": {
      "text/plain": [
       "False"
      ]
     },
     "execution_count": 44,
     "metadata": {
      "tags": []
     },
     "output_type": "execute_result"
    }
   ],
   "source": [
    "#Checking if a number is in a list\n",
    "100 in my_list"
   ]
  },
  {
   "cell_type": "code",
   "execution_count": null,
   "metadata": {
    "id": "k-VYV-zvPx02",
    "outputId": "341fd8b0-5283-40ce-b6c5-3595ce7152f5"
   },
   "outputs": [
    {
     "data": {
      "text/plain": [
       "True"
      ]
     },
     "execution_count": 45,
     "metadata": {
      "tags": []
     },
     "output_type": "execute_result"
    }
   ],
   "source": [
    "#Checking if a number is not in a list\n",
    "100 not in my_list"
   ]
  },
  {
   "cell_type": "markdown",
   "metadata": {
    "id": "rvLzIPo0Px03"
   },
   "source": [
    "## List nesting\n",
    "In Python, data structures such as lists support **nesting**, which means that they can be host other data structures as elements. <br />\n",
    "For example, **a list can contain other lists**."
   ]
  },
  {
   "cell_type": "code",
   "execution_count": null,
   "metadata": {
    "id": "E5o0Ciu6Px03",
    "outputId": "5a69d5ca-41b7-4e64-981f-7da0ae444d0a"
   },
   "outputs": [
    {
     "data": {
      "text/plain": [
       "[[1, 2, 3], [4, 5, 6], [7, 8, 9]]"
      ]
     },
     "execution_count": 46,
     "metadata": {
      "tags": []
     },
     "output_type": "execute_result"
    }
   ],
   "source": [
    "# Creation of a list composed of three other lists\n",
    "list_1=[1, 2, 3]\n",
    "list_2=[4, 5, 6]\n",
    "list_3=[7, 8, 9]\n",
    "new_list = [list_1, list_2, list_3]\n",
    "new_list"
   ]
  },
  {
   "cell_type": "markdown",
   "metadata": {
    "id": "iocpk_G6Px03"
   },
   "source": [
    "## Lists built-in functions"
   ]
  },
  {
   "cell_type": "markdown",
   "metadata": {
    "id": "8k-I9auiPx03"
   },
   "source": [
    "### Append\n",
    "The **\"append()\"** function allows to add a **new element** at the **end of a list**."
   ]
  },
  {
   "cell_type": "code",
   "execution_count": 1,
   "metadata": {
    "id": "O7DEr7CaPx03",
    "outputId": "457a89e7-e0f9-4f8c-d717-aced88f08772"
   },
   "outputs": [
    {
     "name": "stdout",
     "output_type": "stream",
     "text": [
      "[6, 1, 3, 5, 7, 2, 4, 5, 5]\n"
     ]
    }
   ],
   "source": [
    "# Adding 5 at the end of a list\n",
    "my_list = [6, 1, 3, 5, 7, 2, 4, 5]\n",
    "my_list.append(5)\n",
    "print(my_list)"
   ]
  },
  {
   "cell_type": "markdown",
   "metadata": {
    "id": "2pHvkdIRZ18W"
   },
   "source": [
    "### Index\n",
    "The **\"index()\"** function will return the first index of an element in a list. However, if the element is not in the list, it will give an **ValueError**."
   ]
  },
  {
   "cell_type": "code",
   "execution_count": 2,
   "metadata": {
    "executionInfo": {
     "elapsed": 739,
     "status": "ok",
     "timestamp": 1606475574416,
     "user": {
      "displayName": "Romain SALA",
      "photoUrl": "",
      "userId": "14479574911465450553"
     },
     "user_tz": -60
    },
    "id": "0_bp6PFTZ6Wd"
   },
   "outputs": [
    {
     "data": {
      "text/plain": [
       "3"
      ]
     },
     "execution_count": 2,
     "metadata": {},
     "output_type": "execute_result"
    }
   ],
   "source": [
    "# Find the index of 5\n",
    "my_list = [6, 1, 3, 5, 7, 2, 4, 5]\n",
    "my_list.index(5)"
   ]
  },
  {
   "cell_type": "markdown",
   "metadata": {
    "id": "1_NW9mVqPx03"
   },
   "source": [
    "#### Extend\n",
    "The **\"extend()\"** function allows to **add new elements at the end of a list**. This is equivalent to list concatenation."
   ]
  },
  {
   "cell_type": "code",
   "execution_count": null,
   "metadata": {
    "id": "dYRRfGw1Px03",
    "outputId": "23d7e392-0d31-445d-b828-a8ea573d9f49"
   },
   "outputs": [
    {
     "name": "stdout",
     "output_type": "stream",
     "text": [
      "[1, 2, 3, 4, 5, 6, 7, 8, 9, 10, 5]\n",
      "[1, 2, 3, 4, 5, 6, 7, 8, 9, 10, 5, 6, 7, 8]\n"
     ]
    }
   ],
   "source": [
    "# Add a list at the end of a list\n",
    "print(my_list)\n",
    "# TODO\n",
    "\n",
    "print(my_list)"
   ]
  },
  {
   "cell_type": "markdown",
   "metadata": {
    "id": "Kz73XW3dPx03"
   },
   "source": [
    "### Insert\n",
    "The **\"insert()\"** function allows to add a **new element** at a **given index** of a list."
   ]
  },
  {
   "cell_type": "code",
   "execution_count": null,
   "metadata": {
    "id": "y2BlbuaHPx03",
    "outputId": "5acfba9d-e21c-4f30-dd14-70cea4c596ae"
   },
   "outputs": [
    {
     "name": "stdout",
     "output_type": "stream",
     "text": [
      "[1, 2, 3, 4, 5, 6, 7, 8, 9, 10, 5, 6, 7, 8]\n",
      "[1, 2, 3, 4, 100, 5, 6, 7, 8, 9, 10, 5, 6, 7, 8]\n"
     ]
    }
   ],
   "source": [
    "# Add a 100 as the 5th element of a list\n",
    "print(my_list)\n",
    "# TODO\n",
    "\n",
    "print(my_list)"
   ]
  },
  {
   "cell_type": "markdown",
   "metadata": {
    "id": "eDTXYvKCPx03"
   },
   "source": [
    "### Remove\n",
    "The **\"remove()\"** function **removes the first iteration of a value** in a list.<br />\n",
    "If the value is not in the list, it will give us a **ValueError**."
   ]
  },
  {
   "cell_type": "code",
   "execution_count": null,
   "metadata": {
    "id": "xMXzhbU1Px03",
    "outputId": "4dc11e33-1d7d-4230-85b9-378ed27e1fbb"
   },
   "outputs": [
    {
     "name": "stdout",
     "output_type": "stream",
     "text": [
      "[1, 2, 3, 4, 100, 5, 6, 7, 8, 9, 10, 5, 6, 7, 8]\n",
      "[1, 2, 3, 4, 5, 6, 7, 8, 9, 10, 5, 6, 7, 8]\n"
     ]
    }
   ],
   "source": [
    "# Remove 100 from the list\n",
    "print(my_list)\n",
    "# TODO\n",
    "\n",
    "print(my_list)"
   ]
  },
  {
   "cell_type": "markdown",
   "metadata": {
    "id": "Ev820UAOPx03"
   },
   "source": [
    "### Pop\n",
    "The **\"pop()\"** function **removes an element** of a list at a **given index**. If no index is provided, it will remove the last element of a list."
   ]
  },
  {
   "cell_type": "code",
   "execution_count": 6,
   "metadata": {
    "executionInfo": {
     "elapsed": 632,
     "status": "ok",
     "timestamp": 1606475441617,
     "user": {
      "displayName": "Romain SALA",
      "photoUrl": "",
      "userId": "14479574911465450553"
     },
     "user_tz": -60
    },
    "id": "ecHHjemlZUsf"
   },
   "outputs": [],
   "source": [
    "# Displays the associated documentation\n",
    "?list.pop"
   ]
  },
  {
   "cell_type": "code",
   "execution_count": null,
   "metadata": {
    "id": "F4hoBlEjPx03",
    "outputId": "31cb2c74-4821-4ed2-af34-50ed562ad635"
   },
   "outputs": [
    {
     "name": "stdout",
     "output_type": "stream",
     "text": [
      "[6, 1, 3, 5, 2, 4, 5]\n"
     ]
    }
   ],
   "source": [
    "# Remove the 5th element from the list\n",
    "my_list = [6, 1, 3, 5, 7, 2, 4, 5]\n",
    "# TODO\n",
    "\n",
    "print(my_list)"
   ]
  },
  {
   "cell_type": "code",
   "execution_count": null,
   "metadata": {
    "id": "iliIBS8YPx03",
    "outputId": "da5812ef-5e0b-4088-ee89-82f759c335b5"
   },
   "outputs": [
    {
     "name": "stdout",
     "output_type": "stream",
     "text": [
      "[6, 1, 3, 5, 7, 2, 4]\n"
     ]
    }
   ],
   "source": [
    "# Remove the last element from the list\n",
    "my_list = [6, 1, 3, 5, 7, 2, 4, 5]\n",
    "# TODO\n",
    "\n",
    "print(my_list)"
   ]
  },
  {
   "cell_type": "markdown",
   "metadata": {
    "id": "5dXdZgWlPx03"
   },
   "source": [
    "### Clear\n",
    "The **\"clear()\"** function **removes every element** in a list, making it an empty list."
   ]
  },
  {
   "cell_type": "code",
   "execution_count": null,
   "metadata": {
    "id": "5Ls_ddkLPx03",
    "outputId": "ef53ce68-f45d-4be8-e31a-fae5aa69c0be"
   },
   "outputs": [
    {
     "name": "stdout",
     "output_type": "stream",
     "text": [
      "[]\n"
     ]
    }
   ],
   "source": [
    "# Removes every element from the list\n",
    "my_list = [6, 1, 3, 5, 7, 2, 4, 5]\n",
    "# TODO\n",
    "\n",
    "print(my_list)"
   ]
  },
  {
   "cell_type": "markdown",
   "metadata": {
    "id": "ridGV81gPx03"
   },
   "source": [
    "### Count\n",
    "The **\"count()\"** function returns the number of occurence of one element in a list."
   ]
  },
  {
   "cell_type": "code",
   "execution_count": null,
   "metadata": {
    "id": "BQ1EyXfVPx03",
    "outputId": "9bfb7a8e-acaf-40ab-d881-c0c395f95f06"
   },
   "outputs": [
    {
     "data": {
      "text/plain": [
       "2"
      ]
     },
     "execution_count": 55,
     "metadata": {
      "tags": []
     },
     "output_type": "execute_result"
    }
   ],
   "source": [
    "# Display the number of 5 in the list\n",
    "my_list = [6, 1, 3, 5, 7, 2, 4, 5]\n",
    "# TODO\n"
   ]
  },
  {
   "cell_type": "markdown",
   "metadata": {
    "id": "uU_sauV6Px03"
   },
   "source": [
    "### Sort\n",
    "The **\"sort()\"** function orders the elements of a list in an **ascending order**."
   ]
  },
  {
   "cell_type": "code",
   "execution_count": null,
   "metadata": {
    "id": "NYBJe6wePx03",
    "outputId": "7d701e17-ba33-4a5e-94da-9368a2ca33b9"
   },
   "outputs": [
    {
     "name": "stdout",
     "output_type": "stream",
     "text": [
      "[1, 2, 3, 4, 5, 6, 7]\n"
     ]
    }
   ],
   "source": [
    "# Display the sorted list\n",
    "my_list = [6, 1, 3, 5, 7, 2, 4]\n",
    "# TODO\n",
    "\n",
    "print(my_list)"
   ]
  },
  {
   "cell_type": "markdown",
   "metadata": {
    "id": "JbWvLj3cPx03"
   },
   "source": [
    "If a **descending order** is desired the argument **reverse can be put to True** (it is False by default to achieve ascending order)."
   ]
  },
  {
   "cell_type": "code",
   "execution_count": null,
   "metadata": {
    "id": "rXLpSsfgPx04",
    "outputId": "8d61095e-fa41-4dcc-94da-4b68d361d497"
   },
   "outputs": [
    {
     "name": "stdout",
     "output_type": "stream",
     "text": [
      "[7, 6, 5, 4, 3, 2, 1]\n"
     ]
    }
   ],
   "source": [
    "# Display the list sorted in reverse\n",
    "my_list = [6, 1, 3, 5, 7, 2, 4]\n",
    "# TODO\n",
    "\n",
    "print(my_list)"
   ]
  },
  {
   "cell_type": "markdown",
   "metadata": {
    "id": "4oUdJouvPx04"
   },
   "source": [
    "### Reverse\n",
    "The **\"reverse()\"** function inverts the order of a list."
   ]
  },
  {
   "cell_type": "code",
   "execution_count": null,
   "metadata": {
    "id": "lBwycUvLPx04",
    "outputId": "2b6b6f05-8b5b-4c4e-b911-3340d1bc7b09"
   },
   "outputs": [
    {
     "name": "stdout",
     "output_type": "stream",
     "text": [
      "[4, 2, 7, 5, 3, 1, 6]\n"
     ]
    }
   ],
   "source": [
    "# Display the reversed list\n",
    "my_list = [6, 1, 3, 5, 7, 2, 4]\n",
    "# TODO\n",
    "\n",
    "print(my_list)"
   ]
  },
  {
   "cell_type": "markdown",
   "metadata": {
    "id": "zhjmv316Px04"
   },
   "source": [
    "### Copy\n",
    "The **\"copy()\"** function returns a copy of the original list."
   ]
  },
  {
   "cell_type": "code",
   "execution_count": null,
   "metadata": {
    "id": "zWwO0XkkPx04",
    "outputId": "25cfe0f5-920a-44c7-e5dd-7f2db1591340"
   },
   "outputs": [
    {
     "name": "stdout",
     "output_type": "stream",
     "text": [
      "[6, 1, 3, 5, 7, 2, 4]\n"
     ]
    }
   ],
   "source": [
    "my_list = [6, 1, 3, 5, 7, 2, 4]\n",
    "my_new_list = my_list.copy()\n",
    "print(my_new_list)"
   ]
  },
  {
   "cell_type": "markdown",
   "metadata": {
    "id": "U_APVAnIPx04"
   },
   "source": [
    "# Tuples\n",
    "Tuples are also **data structures**, and as a matter of fact they are very **similar to lists**. But, in opposition to lists, they are **immutable**, which means that once the are declared, they **cannot be modified**. <br />\n",
    "As a result, they will share most of lists features and built-in functions, except the ones that are imply modification (i.e. \"append()\", \"sort()\", remove()\",...).<br />\n",
    "Tuples are declared between **\"( )\"**."
   ]
  },
  {
   "cell_type": "code",
   "execution_count": null,
   "metadata": {
    "id": "GZz8hpWHPx04",
    "outputId": "a764eff7-3905-4a33-eaf1-afd09e3e0154"
   },
   "outputs": [
    {
     "data": {
      "text/plain": [
       "(1, 2, 3)"
      ]
     },
     "execution_count": 60,
     "metadata": {
      "tags": []
     },
     "output_type": "execute_result"
    }
   ],
   "source": [
    "# Assigning a tuple to a variable\n",
    "my_tuple = (1, 2, 3)\n",
    "my_tuple"
   ]
  },
  {
   "cell_type": "code",
   "execution_count": null,
   "metadata": {
    "id": "hXcZNr-HPx04",
    "outputId": "1bcb5977-2cc9-4cbe-daff-8f3a237699dc"
   },
   "outputs": [
    {
     "name": "stdout",
     "output_type": "stream",
     "text": [
      "2\n"
     ]
    }
   ],
   "source": [
    "# Displaying the second element of a tuple\n",
    "print(my_tuple[1])"
   ]
  },
  {
   "cell_type": "markdown",
   "metadata": {
    "id": "I00g-YpuPx04"
   },
   "source": [
    "# Sets\n",
    "Sets are also **data structures**, but they are only composed of **unique elements**. This means that each element can only occur once inside the set.<br />\n",
    "NB: The elements are not ordered inside a set."
   ]
  },
  {
   "cell_type": "markdown",
   "metadata": {
    "id": "aw1lMSH2Px04"
   },
   "source": [
    "Other **data structures can be converted to sets** using the **\"set()\"** function. "
   ]
  },
  {
   "cell_type": "code",
   "execution_count": null,
   "metadata": {
    "id": "FM4K56VhPx04",
    "outputId": "f3a306ae-68b3-4af9-d14e-a3d07068d51d"
   },
   "outputs": [
    {
     "data": {
      "text/plain": [
       "{1, 2, 3, 4, 5, 6, 7}"
      ]
     },
     "execution_count": 68,
     "metadata": {
      "tags": []
     },
     "output_type": "execute_result"
    }
   ],
   "source": [
    "my_list = [6, 1, 3, 5, 7, 2, 4, 6, 6, 6, 7]\n",
    "my_set = set(my_list)\n",
    "my_set"
   ]
  },
  {
   "cell_type": "markdown",
   "metadata": {
    "id": "ZnVitoF6Px05"
   },
   "source": [
    "And conversively, a set can be converted to a list. "
   ]
  },
  {
   "cell_type": "code",
   "execution_count": null,
   "metadata": {
    "id": "yiY7ugcfPx05",
    "outputId": "19ab0f38-e6dd-4f81-ea8f-599ca4064bd8"
   },
   "outputs": [
    {
     "data": {
      "text/plain": [
       "[1, 2, 3, 4, 5, 6, 7]"
      ]
     },
     "execution_count": 69,
     "metadata": {
      "tags": []
     },
     "output_type": "execute_result"
    }
   ],
   "source": [
    "new_list = list(my_set)\n",
    "new_list"
   ]
  },
  {
   "cell_type": "markdown",
   "metadata": {
    "id": "RFHe-q0qPx05"
   },
   "source": [
    "# Range\n",
    "Range are a particular kind **data structures**, they are used to create an ordered list of number, in an ascending order.\n",
    "As a result, they are composed of **ordered unique elements**. They are also **immutable**.<br />\n",
    "They are declared using the function **\"range()\"**. This function has three arguments, the **first number to start** the range, the **first number to be rejected** (will not be included in the range), and the **increment**. "
   ]
  },
  {
   "cell_type": "code",
   "execution_count": null,
   "metadata": {
    "id": "zeLI5jt7Px05",
    "outputId": "f92aa783-5c70-408b-b227-7f6a05b99080"
   },
   "outputs": [
    {
     "data": {
      "text/plain": [
       "range(4, 12, 2)"
      ]
     },
     "execution_count": 73,
     "metadata": {
      "tags": []
     },
     "output_type": "execute_result"
    }
   ],
   "source": [
    "# Creates a range that starts at 4, will stop at 12 and is incrementing by 2.\n",
    "x = range(4, 12, 2)\n",
    "x"
   ]
  },
  {
   "cell_type": "markdown",
   "metadata": {
    "id": "ihKaR4T5Px05"
   },
   "source": [
    "Displaying a range will not show the numbers that are contained inside. For this, it needs to be converted to a list using the **\"list()\"** function. "
   ]
  },
  {
   "cell_type": "code",
   "execution_count": null,
   "metadata": {
    "id": "EMz4WKH8Px05",
    "outputId": "257dff6a-6023-4939-e398-f10bd3896109"
   },
   "outputs": [
    {
     "data": {
      "text/plain": [
       "[4, 6, 8, 10]"
      ]
     },
     "execution_count": 75,
     "metadata": {
      "tags": []
     },
     "output_type": "execute_result"
    }
   ],
   "source": [
    "list(x)"
   ]
  },
  {
   "cell_type": "markdown",
   "metadata": {
    "id": "ieATAUOwPx05"
   },
   "source": [
    "It is **not necessary to provide the three arguments** to the range. For example, if the **incrementing argument** is not provided (only the start and the end are), the function will consider it **1 by default**."
   ]
  },
  {
   "cell_type": "code",
   "execution_count": null,
   "metadata": {
    "id": "7wRxxrz1Px05",
    "outputId": "deae0318-f511-484b-ded5-429cae4c9e7b"
   },
   "outputs": [
    {
     "data": {
      "text/plain": [
       "[4, 5, 6, 7, 8, 9, 10, 11]"
      ]
     },
     "execution_count": 77,
     "metadata": {
      "tags": []
     },
     "output_type": "execute_result"
    }
   ],
   "source": [
    "# Creates a range that starts at 4, will stop at 12 and is incrementing by 1.\n",
    "x = range(4, 12)\n",
    "list(x)"
   ]
  },
  {
   "cell_type": "markdown",
   "metadata": {
    "id": "Q5YRS79sPx06"
   },
   "source": [
    "Similarily, the **start argument is optional**. If it is not provided, it will be considered as **0 by default**."
   ]
  },
  {
   "cell_type": "code",
   "execution_count": null,
   "metadata": {
    "id": "bY60Hkp0Px06",
    "outputId": "937cfcd3-1f73-4aae-f891-01c6f552b029"
   },
   "outputs": [
    {
     "data": {
      "text/plain": [
       "[0, 1, 2, 3, 4, 5, 6, 7, 8, 9, 10, 11]"
      ]
     },
     "execution_count": 78,
     "metadata": {
      "tags": []
     },
     "output_type": "execute_result"
    }
   ],
   "source": [
    "# Creates a range that starts at 0, will stop at 12 and is incrementing by 1.\n",
    "x = range(12)\n",
    "list(x)"
   ]
  },
  {
   "cell_type": "markdown",
   "metadata": {
    "id": "eRGS-M3IPx06"
   },
   "source": [
    "As a matter of fact, only the **end argument is necessary**."
   ]
  }
 ],
 "metadata": {
  "colab": {
   "collapsed_sections": [],
   "name": "01-03 Lists, tupples, sets and range.ipynb",
   "provenance": []
  },
  "kernelspec": {
   "display_name": "Python 3",
   "language": "python",
   "name": "python3"
  },
  "language_info": {
   "codemirror_mode": {
    "name": "ipython",
    "version": 3
   },
   "file_extension": ".py",
   "mimetype": "text/x-python",
   "name": "python",
   "nbconvert_exporter": "python",
   "pygments_lexer": "ipython3",
   "version": "3.6.9"
  }
 },
 "nbformat": 4,
 "nbformat_minor": 1
}
