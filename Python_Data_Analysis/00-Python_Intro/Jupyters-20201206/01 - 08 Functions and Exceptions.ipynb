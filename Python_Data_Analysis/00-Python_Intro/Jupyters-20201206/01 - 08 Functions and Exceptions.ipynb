{
 "cells": [
  {
   "cell_type": "markdown",
   "metadata": {},
   "source": [
    "# Functions\n",
    "A function is a **block of code** stored inside an object that, once declared, can be called when wanted.<br />\n",
    "Functions are declared using **\"def\"** followed by the name of the function, and **()**, as follows:"
   ]
  },
  {
   "cell_type": "code",
   "execution_count": 9,
   "metadata": {},
   "outputs": [],
   "source": [
    "def say_hello():\n",
    "    print('Hello')"
   ]
  },
  {
   "cell_type": "code",
   "execution_count": 10,
   "metadata": {},
   "outputs": [
    {
     "name": "stdout",
     "output_type": "stream",
     "text": [
      "Hello\n"
     ]
    }
   ],
   "source": [
    "say_hello()"
   ]
  },
  {
   "cell_type": "markdown",
   "metadata": {},
   "source": [
    "## Parameters\n",
    "The **brackets** used during the declaration and the calling of a function have a very specific purpose, they allow the use of **parameters**.<br />\n",
    "Parameters are variables that will be passed to a function, and that will be **useable within the code block** of the function."
   ]
  },
  {
   "cell_type": "code",
   "execution_count": 3,
   "metadata": {},
   "outputs": [],
   "source": [
    "def add(a, b):\n",
    "    print(a)\n",
    "    print(b)\n",
    "    print(a + b)"
   ]
  },
  {
   "cell_type": "code",
   "execution_count": 4,
   "metadata": {},
   "outputs": [
    {
     "name": "stdout",
     "output_type": "stream",
     "text": [
      "2\n",
      "3\n",
      "5\n"
     ]
    }
   ],
   "source": [
    "add(2, 3)"
   ]
  },
  {
   "cell_type": "markdown",
   "metadata": {},
   "source": [
    "NB: Notice that the parameters are **ordered**."
   ]
  },
  {
   "cell_type": "markdown",
   "metadata": {},
   "source": [
    "Parameters can be set to have a **default value**. If so, the function can be called without giving a value to these parameters, and thus will take their default values.<br />\n",
    "NB: Parameters that have default values should be **placed last** while **declaring the function**."
   ]
  },
  {
   "cell_type": "code",
   "execution_count": 5,
   "metadata": {},
   "outputs": [],
   "source": [
    "def multiply(a, b=2):\n",
    "    print(a)\n",
    "    print(b)\n",
    "    print(a * b)"
   ]
  },
  {
   "cell_type": "code",
   "execution_count": 6,
   "metadata": {},
   "outputs": [
    {
     "name": "stdout",
     "output_type": "stream",
     "text": [
      "8\n",
      "2\n",
      "16\n"
     ]
    }
   ],
   "source": [
    "multiply(8)"
   ]
  },
  {
   "cell_type": "markdown",
   "metadata": {},
   "source": [
    "The parameters are ordered by default. However, the parameters can be assigned **out of order** if they are **called with their name**.<br />\n",
    "By doing so, you directly create the variables that will be used within the block of code, thus their order do not matter anymore.<br />\n",
    "NB: Parameters that are assigned by name **should be assigned last** while **calling the function**."
   ]
  },
  {
   "cell_type": "code",
   "execution_count": 7,
   "metadata": {},
   "outputs": [
    {
     "name": "stdout",
     "output_type": "stream",
     "text": [
      "1\n",
      "3\n",
      "3\n"
     ]
    }
   ],
   "source": [
    "multiply(b=3, a=1)"
   ]
  },
  {
   "cell_type": "markdown",
   "metadata": {},
   "source": [
    "## Return value\n",
    "Ultimately, a function can return a value. This is done using **\"return\"** at the end of the block of code."
   ]
  },
  {
   "cell_type": "code",
   "execution_count": 8,
   "metadata": {},
   "outputs": [],
   "source": [
    "def divide(a, b=2):\n",
    "    return a / b"
   ]
  },
  {
   "cell_type": "code",
   "execution_count": 9,
   "metadata": {},
   "outputs": [
    {
     "data": {
      "text/plain": [
       "4.0"
      ]
     },
     "execution_count": 9,
     "metadata": {},
     "output_type": "execute_result"
    }
   ],
   "source": [
    "divide(8, 2)"
   ]
  },
  {
   "cell_type": "markdown",
   "metadata": {},
   "source": [
    "NB: It is not necessary to put the **\"return\"** at the end of the block of code. For example, you can put it several times within a if-else block, as you want to return different values.<br />\n",
    "However, remember that executing \"return\" will stop the execution of a function."
   ]
  },
  {
   "cell_type": "code",
   "execution_count": 12,
   "metadata": {},
   "outputs": [],
   "source": [
    "def divide(a, b=2):\n",
    "    if b == 0:\n",
    "        return \"Wait... What?\"\n",
    "    else:\n",
    "        return a / b"
   ]
  },
  {
   "cell_type": "code",
   "execution_count": 13,
   "metadata": {},
   "outputs": [
    {
     "data": {
      "text/plain": [
       "'Wait... What?'"
      ]
     },
     "execution_count": 13,
     "metadata": {},
     "output_type": "execute_result"
    }
   ],
   "source": [
    "divide(8, 0)"
   ]
  },
  {
   "cell_type": "markdown",
   "metadata": {},
   "source": [
    "# Exceptions\n",
    "In computer sciences, things can go sideways pretty fast. The good news is that you can prevent this using **exceptions**.<br />\n",
    "You can see the exceptions as a **shield** that will protect a part of your code and **prevent crashing**. If an error was supposed to happen during the execution of your code (i.e. IndexError), the execution of the code will be stopped, and an other block of code can be executed."
   ]
  },
  {
   "cell_type": "code",
   "execution_count": 14,
   "metadata": {},
   "outputs": [
    {
     "name": "stdout",
     "output_type": "stream",
     "text": [
      "Operation cannot be performed\n",
      "Hey, my code didn't break!\n"
     ]
    }
   ],
   "source": [
    "a = 8\n",
    "b = 0\n",
    "\n",
    "try:\n",
    "    # Sensitive block of code\n",
    "    c = a / b\n",
    "except:\n",
    "    # Code to be executed if the sensitive code fails\n",
    "    print('Operation cannot be performed')\n",
    "\n",
    "# The code continues\n",
    "print(\"Hey, my code didn't break!\")"
   ]
  }
 ],
 "metadata": {
  "kernelspec": {
   "display_name": "Python 3",
   "language": "python",
   "name": "python3"
  },
  "language_info": {
   "codemirror_mode": {
    "name": "ipython",
    "version": 3
   },
   "file_extension": ".py",
   "mimetype": "text/x-python",
   "name": "python",
   "nbconvert_exporter": "python",
   "pygments_lexer": "ipython3",
   "version": "3.6.9"
  }
 },
 "nbformat": 4,
 "nbformat_minor": 4
}
