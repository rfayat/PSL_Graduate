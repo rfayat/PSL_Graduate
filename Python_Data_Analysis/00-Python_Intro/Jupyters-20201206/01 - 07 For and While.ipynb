{
 "cells": [
  {
   "cell_type": "markdown",
   "metadata": {},
   "source": [
    "# For loops\n",
    "We saw that some **data structures** were a collection of elements.<br />\n",
    "Those data structures are called **iterables**, meaning that you can separate all of its elements and **sequentially execute a block of code** on all of them using a **for loop**. "
   ]
  },
  {
   "cell_type": "code",
   "execution_count": 1,
   "metadata": {},
   "outputs": [
    {
     "name": "stdout",
     "output_type": "stream",
     "text": [
      "5\n",
      "4\n",
      "3\n",
      "2\n",
      "1\n",
      "Happy New Year!\n"
     ]
    }
   ],
   "source": [
    "# Iterates over all elements of a list and print them\n",
    "my_list = [5, 4, 3, 2, 1, \"Happy New Year!\"]\n",
    "\n",
    "for element in my_list:\n",
    "    print(element)"
   ]
  },
  {
   "cell_type": "markdown",
   "metadata": {},
   "source": [
    "In this situation, a loop is created and will iterate through the list. At every step of that loop, the variable \"element\" takes the value of the next element of the list.<br />\n",
    "At then end of the loop, the execution of the rest of the code is resumed."
   ]
  },
  {
   "cell_type": "markdown",
   "metadata": {},
   "source": [
    "## Exercise\n",
    "Compute an approximation of $\\\\pi$ using Wallis' product:<img src=\"https://render.githubusercontent.com/render/math?math=\\pi = 2 \\prod_{n=1}^\\infty \\frac{4 n^2}{4 n^2 - 1}\">\n",
    "NB: You can use the ranges, that are declared using the **range()** function."
   ]
  },
  {
   "cell_type": "code",
   "execution_count": 1,
   "metadata": {},
   "outputs": [
    {
     "name": "stdout",
     "output_type": "stream",
     "text": [
      "1\n",
      "2\n",
      "3\n",
      "4\n",
      "5\n",
      "6\n",
      "7\n",
      "8\n",
      "9\n"
     ]
    }
   ],
   "source": [
    "# Use a range as an iterable within a for loop\n",
    "for i in range(1, 10):\n",
    "    print(i)\n",
    "# TODO\n"
   ]
  },
  {
   "cell_type": "markdown",
   "metadata": {},
   "source": [
    "# While loops"
   ]
  },
  {
   "cell_type": "markdown",
   "metadata": {},
   "source": [
    "**While loops** are an other type of loops that will iteratively run a block of code. <br/>\n",
    "However, in opposition to for loops, they do not rely on an iterable, but rather on a **condition**.<br/>\n",
    "They will execute a block of code **as long as the condition they rely on is true**."
   ]
  },
  {
   "cell_type": "code",
   "execution_count": 3,
   "metadata": {},
   "outputs": [
    {
     "name": "stdout",
     "output_type": "stream",
     "text": [
      "I iterate\n",
      "I iterate\n",
      "I iterate\n",
      "I sleep\n"
     ]
    }
   ],
   "source": [
    "# Print a message while the variable i is inferior to 3.\n",
    "i = 0\n",
    "\n",
    "while i < 3:\n",
    "    print(\"I iterate\")\n",
    "    i += 1\n",
    "print(\"I sleep\")"
   ]
  },
  {
   "cell_type": "markdown",
   "metadata": {},
   "source": [
    "## Exercise\n",
    "We are almost done with loops! Now to show that you understood while loops, try to create one that will duplicate the string 'Hello' until the total number of characters exceeds 50.<br/>\n",
    "After this, display the result."
   ]
  },
  {
   "cell_type": "code",
   "execution_count": 4,
   "metadata": {},
   "outputs": [],
   "source": [
    "string = 'Hello'\n",
    "# TODO\n"
   ]
  },
  {
   "cell_type": "markdown",
   "metadata": {},
   "source": [
    "# Break\n",
    "Loops can take a while to execute. But more importantly, they are situations where you want to **exit the loop** at a certain moment (i.e. if a threshold is crossed).<br/>\n",
    "For this, you can use **\"break\"** within a loop."
   ]
  },
  {
   "cell_type": "code",
   "execution_count": 5,
   "metadata": {},
   "outputs": [
    {
     "name": "stdout",
     "output_type": "stream",
     "text": [
      "1000\n"
     ]
    }
   ],
   "source": [
    "i = 0\n",
    "\n",
    "# An infinite loop of incrementation\n",
    "while True:\n",
    "    i += 1\n",
    "    \n",
    "    # Breaks the loop if i has crossed a threshold\n",
    "    if i >= 1000:\n",
    "        print(i)\n",
    "        break"
   ]
  }
 ],
 "metadata": {
  "kernelspec": {
   "display_name": "Python 3",
   "language": "python",
   "name": "python3"
  },
  "language_info": {
   "codemirror_mode": {
    "name": "ipython",
    "version": 3
   },
   "file_extension": ".py",
   "mimetype": "text/x-python",
   "name": "python",
   "nbconvert_exporter": "python",
   "pygments_lexer": "ipython3",
   "version": "3.6.9"
  }
 },
 "nbformat": 4,
 "nbformat_minor": 4
}
