{
 "cells": [
  {
   "cell_type": "markdown",
   "metadata": {},
   "source": [
    "# Dictionaries"
   ]
  },
  {
   "cell_type": "markdown",
   "metadata": {},
   "source": [
    "Dictionaries are an other forme of **data structure**. But in opposition to lists or tuples, they store information in pairs, with a **key** and a **value**.<br />\n",
    "They can be declared using **{ }**."
   ]
  },
  {
   "cell_type": "code",
   "execution_count": 3,
   "metadata": {},
   "outputs": [
    {
     "name": "stdout",
     "output_type": "stream",
     "text": [
      "{}\n"
     ]
    }
   ],
   "source": [
    "# Declaring an empty dictionary\n",
    "my_dict = {}\n",
    "print(my_dict)"
   ]
  },
  {
   "cell_type": "markdown",
   "metadata": {},
   "source": [
    "They are **mutable** and **unordered**.<br />\n",
    "As a result, we can now insert data in the declared dictionary. This is done by specifiying the **key** and the **value** we want to insert in the dictionary, as follows: "
   ]
  },
  {
   "cell_type": "raw",
   "metadata": {},
   "source": [
    "dictionary[key] = value"
   ]
  },
  {
   "cell_type": "code",
   "execution_count": 4,
   "metadata": {},
   "outputs": [
    {
     "name": "stdout",
     "output_type": "stream",
     "text": [
      "{'Age': 25, 'Job': 'PhD Student'}\n"
     ]
    }
   ],
   "source": [
    "# Adding pairs of keys and values to the dictionary\n",
    "my_dict['Age'] = 25\n",
    "my_dict['Job'] = 'PhD Student'\n",
    "print(my_dict)"
   ]
  },
  {
   "cell_type": "markdown",
   "metadata": {},
   "source": [
    "Accessing a value in a key-pair value can be done by calling the key within the dictionary."
   ]
  },
  {
   "cell_type": "code",
   "execution_count": 5,
   "metadata": {},
   "outputs": [
    {
     "data": {
      "text/plain": [
       "25"
      ]
     },
     "execution_count": 5,
     "metadata": {},
     "output_type": "execute_result"
    }
   ],
   "source": [
    "# Accessing the value associated to the key 'Age'\n",
    "my_dict['Age']"
   ]
  },
  {
   "cell_type": "markdown",
   "metadata": {},
   "source": [
    "NB: Notice how the data are organized inside the dictionary. They are separated by commas, and presented as a sequence of key : value.<br />\n",
    "It is also possible to declare a dictionary and insert key-value pairs in it at the same time using the same syntax."
   ]
  },
  {
   "cell_type": "code",
   "execution_count": 6,
   "metadata": {},
   "outputs": [
    {
     "name": "stdout",
     "output_type": "stream",
     "text": [
      "{'Age': 25, 'Job': 'PhD Student'}\n"
     ]
    }
   ],
   "source": [
    "# Declaring a dictionary with key-value pairs\n",
    "my_new_dict = {'Age': 25, 'Job': 'PhD Student'}\n",
    "print(my_new_dict)"
   ]
  },
  {
   "cell_type": "markdown",
   "metadata": {},
   "source": [
    "Dictionaries **do not tolerate duplicates of keys**. As such, if you enter a new value with a key that was already in the dictionary, it will only update the value associated to the key in the dictionary."
   ]
  },
  {
   "cell_type": "code",
   "execution_count": 7,
   "metadata": {},
   "outputs": [
    {
     "name": "stdout",
     "output_type": "stream",
     "text": [
      "{'Age': 26, 'Job': 'PhD Student'}\n"
     ]
    }
   ],
   "source": [
    "# Trying to add a new 'Age' key-value pair\n",
    "my_dict['Age'] = 26\n",
    "print(my_dict)"
   ]
  },
  {
   "cell_type": "markdown",
   "metadata": {},
   "source": [
    "## Dictionary nesting and subkeys\n",
    "As other **data structures**, dictionaries allow **nesting**, can have other data structures as elements, including other dictionaries.<br />\n",
    "To access a value in a dictionary within a dictionary, the **keys need to be called consecutively**."
   ]
  },
  {
   "cell_type": "code",
   "execution_count": 10,
   "metadata": {},
   "outputs": [
    {
     "data": {
      "text/plain": [
       "'Python'"
      ]
     },
     "execution_count": 10,
     "metadata": {},
     "output_type": "execute_result"
    }
   ],
   "source": [
    "# Accessing the value associated to the key 'Programming' within the key 'Skills'\n",
    "my_new_dict = {'Age': 25, 'Skills': {'Programing':'Python', 'Software':'Excel'}}\n",
    "my_new_dict['Skills']['Programing']"
   ]
  },
  {
   "cell_type": "markdown",
   "metadata": {},
   "source": [
    "## Dictionary built-in functions\n",
    "### Keys\n",
    "To retrieve the keys in a dictionary, use the **\"keys()\"** function."
   ]
  },
  {
   "cell_type": "code",
   "execution_count": null,
   "metadata": {},
   "outputs": [],
   "source": [
    "# Retrieve the keys of a dictionary\n",
    "my_new_dict = {'Age': 25, 'Job': 'PhD Student'}\n",
    "# TODO\n"
   ]
  },
  {
   "cell_type": "markdown",
   "metadata": {},
   "source": [
    "### Values\n",
    "To retrieve the values in a dictionary, use the **\"values()\"** function."
   ]
  },
  {
   "cell_type": "code",
   "execution_count": 15,
   "metadata": {},
   "outputs": [],
   "source": [
    "# Retrieve the values of a dictionary\n",
    "my_new_dict = {'Age': 25, 'Job': 'PhD Student'}\n",
    "# TODO\n"
   ]
  },
  {
   "cell_type": "markdown",
   "metadata": {},
   "source": [
    "### Items\n",
    "To retrieve the key-value pairs in a dictionary, use the **\"items()\"** function."
   ]
  },
  {
   "cell_type": "code",
   "execution_count": 14,
   "metadata": {},
   "outputs": [],
   "source": [
    "# Retrieve the values of a dictionary\n",
    "my_new_dict = {'Age': 25, 'Job': 'PhD Student'}\n",
    "# TODO\n"
   ]
  }
 ],
 "metadata": {
  "kernelspec": {
   "display_name": "Python 3",
   "language": "python",
   "name": "python3"
  },
  "language_info": {
   "codemirror_mode": {
    "name": "ipython",
    "version": 3
   },
   "file_extension": ".py",
   "mimetype": "text/x-python",
   "name": "python",
   "nbconvert_exporter": "python",
   "pygments_lexer": "ipython3",
   "version": "3.6.9"
  }
 },
 "nbformat": 4,
 "nbformat_minor": 4
}
