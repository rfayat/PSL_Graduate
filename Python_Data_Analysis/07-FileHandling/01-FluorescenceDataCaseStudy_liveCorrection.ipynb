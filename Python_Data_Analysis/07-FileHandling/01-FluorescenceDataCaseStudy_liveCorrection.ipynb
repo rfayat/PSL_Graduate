{
 "cells": [
  {
   "cell_type": "markdown",
   "metadata": {},
   "source": [
    "# Analysis of the response of olfactory receptors to VOC\n",
    "\n",
    "## Dataset presentation\n",
    "### Experimental protocol\n",
    "- HELA cells were genetically engineered to express a mammalian olfactory receptor on their surface (OR1).\n",
    "- They also express a range in of proteins allowing their fluorescence level to be correlated to the level of activation this olfactory receptor.\n",
    "- A population of cells is kept in an incubator in DMSO and maintained for several days before they are dispensed into the wells of a 96-wells plate.\n",
    "- The plate is inserted into a machine recording fluorescence over time.\n",
    "- After a few seconds of recording, a certain volume of liquid compounds (VOC: Volatile organic compounds) is dispensed into each well.\n",
    "\n",
    "### Data organization\n",
    "The resulting recording files are available in the `data` folder. It contains:\n",
    "- `plate_map_XXX.csv`: For each well, the olfactory receptor expressed by the HELA cells as well as the injected compound and its concentration (DMSO is a negative control).\n",
    "- `parameters.txt`: A small text file containing a few acquisition parameters.\n",
    "- `fluo_data_XX.csv`: The resulting fluorescence versus time for well XX.\n",
    "\n",
    "### Goal\n",
    "Our objective is here to determine if the olfactory receptor OR1 is activated by one of the compounds used during the experiment. "
   ]
  },
  {
   "cell_type": "markdown",
   "metadata": {},
   "source": [
    "## Data Parsing"
   ]
  },
  {
   "cell_type": "code",
   "execution_count": 1,
   "metadata": {},
   "outputs": [],
   "source": [
    "# Import the main libraries we will use here\n",
    "import pandas as pd\n",
    "import numpy as np\n",
    "import re\n",
    "import matplotlib.pyplot as plt\n",
    "from pathlib import Path"
   ]
  },
  {
   "cell_type": "code",
   "execution_count": 2,
   "metadata": {},
   "outputs": [],
   "source": [
    "# Data directory\n",
    "data_dir = Path.cwd() / \"data\""
   ]
  },
  {
   "cell_type": "markdown",
   "metadata": {},
   "source": [
    "### Parameters\n",
    "Extract the stimulation time (`TransferTime`) and the number of points for each time series (`NPoints`) from parameters.txt, you can for instance use regular expressions."
   ]
  },
  {
   "cell_type": "code",
   "execution_count": 3,
   "metadata": {},
   "outputs": [
    {
     "data": {
      "text/plain": [
       "['ReadMode=\"Fluorescence\"\\n',\n",
       " 'PlateType=\"96WP black bottom\"\\n',\n",
       " 'TimeTagged=\"True\"\\n',\n",
       " 'Name=\"Fam1-DoseResponseTest\"\\n',\n",
       " 'ReadTime=\"3:36 PM 9/27/2020\"\\n',\n",
       " 'RunTime=\"2:00\"\\n',\n",
       " 'KineticInterval=\"1.600\"\\n',\n",
       " 'NPoints=\"76\"\\n',\n",
       " 'Excitation=\"430\"\\n',\n",
       " 'Emission=\"485\"\\n',\n",
       " 'TransferTime=\"19\"\\n',\n",
       " 'Rate=\"1\"\\n',\n",
       " 'Volume=\"10\"\\n',\n",
       " 'PipetteHeight=\"80\"']"
      ]
     },
     "execution_count": 3,
     "metadata": {},
     "output_type": "execute_result"
    }
   ],
   "source": [
    "file_name_parameters = \"parameters.txt\"\n",
    "parameter_path = data_dir / file_name_parameters\n",
    "\n",
    "with parameter_path.open(mode=\"r\") as f:\n",
    "    parameter_raw = f.readlines()\n",
    "parameter_raw"
   ]
  },
  {
   "cell_type": "code",
   "execution_count": 4,
   "metadata": {},
   "outputs": [
    {
     "data": {
      "text/plain": [
       "{'ReadMode': 'Fluorescence',\n",
       " 'TimeTagged': 'True',\n",
       " 'NPoints': '76',\n",
       " 'Excitation': '430',\n",
       " 'Emission': '485',\n",
       " 'TransferTime': '19',\n",
       " 'Rate': '1',\n",
       " 'Volume': '10',\n",
       " 'PipetteHeight': '80'}"
      ]
     },
     "execution_count": 4,
     "metadata": {},
     "output_type": "execute_result"
    }
   ],
   "source": [
    "parameters = {}\n",
    "\n",
    "pattern = '(?P<parameter_name>\\w+)=\"(?P<parameter_value>\\w+)\"'\n",
    "for row in parameter_raw:\n",
    "    my_match = re.search(pattern, row)\n",
    "\n",
    "    if my_match:\n",
    "        param_dict = my_match.groupdict()\n",
    "        parameters[param_dict[\"parameter_name\"]] = param_dict[\"parameter_value\"]\n",
    "parameters"
   ]
  },
  {
   "cell_type": "code",
   "execution_count": 5,
   "metadata": {},
   "outputs": [
    {
     "name": "stdout",
     "output_type": "stream",
     "text": [
      "76 19.0\n"
     ]
    }
   ],
   "source": [
    "n_points = int(parameters[\"NPoints\"])\n",
    "stim_time = float(parameters[\"TransferTime\"])\n",
    "print(n_points, stim_time)"
   ]
  },
  {
   "cell_type": "markdown",
   "metadata": {},
   "source": [
    "### Fluorescence and time data\n",
    "Select the files corresponding to fluorescence data (E.G. using a regular expression on the file name) and create two pandas DataFrame with rows corresponding to the time index and columns corresponding to each well with content:\n",
    "\n",
    "- A first dataframe containing the time data for each well\n",
    "- A second dataframe containing the fluorescence data for each well"
   ]
  },
  {
   "cell_type": "code",
   "execution_count": 6,
   "metadata": {},
   "outputs": [
    {
     "name": "stdout",
     "output_type": "stream",
     "text": [
      "['A1', 'A2', 'A3', 'A4', 'A5', 'A6', 'A7', 'A8', 'A9', 'A10', 'A11', 'A12', 'B1', 'B2', 'B3', 'B4', 'B5', 'B6', 'B7', 'B8', 'B9', 'B10', 'B11', 'B12', 'C1', 'C2', 'C3', 'C4', 'C5', 'C6', 'C7', 'C8', 'C9', 'C10', 'C11', 'C12', 'D1', 'D2', 'D3', 'D4', 'D5', 'D6', 'D7', 'D8', 'D9', 'D10', 'D11', 'D12', 'E1', 'E2', 'E3', 'E4', 'E5', 'E6', 'E7', 'E8', 'E9', 'E10', 'E11', 'E12', 'F1', 'F2', 'F3', 'F4', 'F5', 'F6', 'F7', 'F8', 'F9', 'F10', 'F11', 'F12', 'G1', 'G2', 'G3', 'G4', 'G5', 'G6', 'G7', 'G8', 'G9', 'G10', 'G11', 'G12', 'H1', 'H2', 'H3', 'H4', 'H5', 'H6', 'H7', 'H8', 'H9', 'H10', 'H11', 'H12']\n"
     ]
    }
   ],
   "source": [
    "# Create the names of the columns\n",
    "plate_rows = [\"A\", \"B\", \"C\", \"D\", \"E\", \"F\", \"G\", \"H\"]\n",
    "plate_columns = [str(i) for i in range(1, 13)]\n",
    "plate_wells = [r + c for r in plate_rows for c in plate_columns]\n",
    "print(plate_wells)"
   ]
  },
  {
   "cell_type": "code",
   "execution_count": 7,
   "metadata": {},
   "outputs": [
    {
     "data": {
      "text/plain": [
       "PosixPath('/home/fayat/Documents/python_course/PSL_Graduate/Python_Data_Analysis/07-FileHandling/data')"
      ]
     },
     "execution_count": 7,
     "metadata": {},
     "output_type": "execute_result"
    }
   ],
   "source": [
    "data_dir"
   ]
  },
  {
   "cell_type": "code",
   "execution_count": 8,
   "metadata": {},
   "outputs": [],
   "source": [
    "# Preallocate the time and fluorescence dataframes\n",
    "time_df = pd.DataFrame(columns=plate_wells, index=np.arange(n_points))\n",
    "fluo_df = pd.DataFrame(columns=plate_wells, index=np.arange(n_points))\n",
    "\n",
    "pattern = \"fluo_data_(?P<well>\\w{2,3}).csv\"\n",
    "\n",
    "# Loop over the fluorescence files and store their content in the dataframes\n",
    "for file_path in data_dir.iterdir():\n",
    "    my_match = re.search(pattern, file_path.name)\n",
    "    if my_match:  # filter the fluorescence data files\n",
    "        well = my_match.groupdict()[\"well\"] \n",
    "        d = pd.read_csv(file_path)\n",
    "        time_df[well] = d[\"time\"]\n",
    "        fluo_df[well] = d[\"raw_data\"]\n"
   ]
  },
  {
   "cell_type": "markdown",
   "metadata": {},
   "source": [
    "### Plate maps\n",
    "Read the metadata contained in `plate_map.csv` and create a pandas DataFrame containing one row per well and the following columns:\n",
    "\n",
    "    - The well number as index (E.G. \"A1\")\n",
    "    - The letter corresponding to the row on the plate (E.G. \"A\")\n",
    "    - The number corresponding to the column on the plate (E.G. 1)\n",
    "    - The name of the olfactory receptor\n",
    "    - The compound (VOC)\n",
    "    - The concentration"
   ]
  },
  {
   "cell_type": "code",
   "execution_count": 9,
   "metadata": {},
   "outputs": [
    {
     "data": {
      "text/html": [
       "<div>\n",
       "<style scoped>\n",
       "    .dataframe tbody tr th:only-of-type {\n",
       "        vertical-align: middle;\n",
       "    }\n",
       "\n",
       "    .dataframe tbody tr th {\n",
       "        vertical-align: top;\n",
       "    }\n",
       "\n",
       "    .dataframe thead th {\n",
       "        text-align: right;\n",
       "    }\n",
       "</style>\n",
       "<table border=\"1\" class=\"dataframe\">\n",
       "  <thead>\n",
       "    <tr style=\"text-align: right;\">\n",
       "      <th></th>\n",
       "      <th>plate_row</th>\n",
       "      <th>plate_col</th>\n",
       "    </tr>\n",
       "  </thead>\n",
       "  <tbody>\n",
       "    <tr>\n",
       "      <th>A1</th>\n",
       "      <td>A</td>\n",
       "      <td>1</td>\n",
       "    </tr>\n",
       "    <tr>\n",
       "      <th>A2</th>\n",
       "      <td>A</td>\n",
       "      <td>2</td>\n",
       "    </tr>\n",
       "    <tr>\n",
       "      <th>A3</th>\n",
       "      <td>A</td>\n",
       "      <td>3</td>\n",
       "    </tr>\n",
       "    <tr>\n",
       "      <th>A4</th>\n",
       "      <td>A</td>\n",
       "      <td>4</td>\n",
       "    </tr>\n",
       "    <tr>\n",
       "      <th>A5</th>\n",
       "      <td>A</td>\n",
       "      <td>5</td>\n",
       "    </tr>\n",
       "    <tr>\n",
       "      <th>...</th>\n",
       "      <td>...</td>\n",
       "      <td>...</td>\n",
       "    </tr>\n",
       "    <tr>\n",
       "      <th>H8</th>\n",
       "      <td>H</td>\n",
       "      <td>8</td>\n",
       "    </tr>\n",
       "    <tr>\n",
       "      <th>H9</th>\n",
       "      <td>H</td>\n",
       "      <td>9</td>\n",
       "    </tr>\n",
       "    <tr>\n",
       "      <th>H10</th>\n",
       "      <td>H</td>\n",
       "      <td>10</td>\n",
       "    </tr>\n",
       "    <tr>\n",
       "      <th>H11</th>\n",
       "      <td>H</td>\n",
       "      <td>11</td>\n",
       "    </tr>\n",
       "    <tr>\n",
       "      <th>H12</th>\n",
       "      <td>H</td>\n",
       "      <td>12</td>\n",
       "    </tr>\n",
       "  </tbody>\n",
       "</table>\n",
       "<p>96 rows × 2 columns</p>\n",
       "</div>"
      ],
      "text/plain": [
       "    plate_row  plate_col\n",
       "A1          A          1\n",
       "A2          A          2\n",
       "A3          A          3\n",
       "A4          A          4\n",
       "A5          A          5\n",
       "..        ...        ...\n",
       "H8          H          8\n",
       "H9          H          9\n",
       "H10         H         10\n",
       "H11         H         11\n",
       "H12         H         12\n",
       "\n",
       "[96 rows x 2 columns]"
      ]
     },
     "execution_count": 9,
     "metadata": {},
     "output_type": "execute_result"
    }
   ],
   "source": [
    "# Create the plate map dataframe using the wells' names as index\n",
    "plate_map = pd.DataFrame(index=plate_wells)\n",
    "\n",
    "# Grab the column and row corresponding to the well and add them to the dataframe\n",
    "plate_row = [w[0] for w in plate_wells]  # Grab the letter corresponding to the column on the 96-wells plate\n",
    "plate_col = [int(w[1:]) for w in plate_wells]  # idem with the number corresponding to the row \n",
    "plate_map[\"plate_row\"] = plate_row\n",
    "plate_map[\"plate_col\"] = plate_col\n",
    "\n",
    "plate_map"
   ]
  },
  {
   "cell_type": "code",
   "execution_count": 10,
   "metadata": {},
   "outputs": [
    {
     "data": {
      "text/html": [
       "<div>\n",
       "<style scoped>\n",
       "    .dataframe tbody tr th:only-of-type {\n",
       "        vertical-align: middle;\n",
       "    }\n",
       "\n",
       "    .dataframe tbody tr th {\n",
       "        vertical-align: top;\n",
       "    }\n",
       "\n",
       "    .dataframe thead th {\n",
       "        text-align: right;\n",
       "    }\n",
       "</style>\n",
       "<table border=\"1\" class=\"dataframe\">\n",
       "  <thead>\n",
       "    <tr style=\"text-align: right;\">\n",
       "      <th></th>\n",
       "      <th>plate_row</th>\n",
       "      <th>plate_col</th>\n",
       "      <th>OR</th>\n",
       "    </tr>\n",
       "  </thead>\n",
       "  <tbody>\n",
       "    <tr>\n",
       "      <th>A1</th>\n",
       "      <td>A</td>\n",
       "      <td>1</td>\n",
       "      <td>OR1</td>\n",
       "    </tr>\n",
       "    <tr>\n",
       "      <th>A2</th>\n",
       "      <td>A</td>\n",
       "      <td>2</td>\n",
       "      <td>OR1</td>\n",
       "    </tr>\n",
       "    <tr>\n",
       "      <th>A3</th>\n",
       "      <td>A</td>\n",
       "      <td>3</td>\n",
       "      <td>OR1</td>\n",
       "    </tr>\n",
       "    <tr>\n",
       "      <th>A4</th>\n",
       "      <td>A</td>\n",
       "      <td>4</td>\n",
       "      <td>OR1</td>\n",
       "    </tr>\n",
       "    <tr>\n",
       "      <th>A5</th>\n",
       "      <td>A</td>\n",
       "      <td>5</td>\n",
       "      <td>OR1</td>\n",
       "    </tr>\n",
       "    <tr>\n",
       "      <th>...</th>\n",
       "      <td>...</td>\n",
       "      <td>...</td>\n",
       "      <td>...</td>\n",
       "    </tr>\n",
       "    <tr>\n",
       "      <th>H8</th>\n",
       "      <td>H</td>\n",
       "      <td>8</td>\n",
       "      <td>OR1</td>\n",
       "    </tr>\n",
       "    <tr>\n",
       "      <th>H9</th>\n",
       "      <td>H</td>\n",
       "      <td>9</td>\n",
       "      <td>OR1</td>\n",
       "    </tr>\n",
       "    <tr>\n",
       "      <th>H10</th>\n",
       "      <td>H</td>\n",
       "      <td>10</td>\n",
       "      <td>OR1</td>\n",
       "    </tr>\n",
       "    <tr>\n",
       "      <th>H11</th>\n",
       "      <td>H</td>\n",
       "      <td>11</td>\n",
       "      <td>OR1</td>\n",
       "    </tr>\n",
       "    <tr>\n",
       "      <th>H12</th>\n",
       "      <td>H</td>\n",
       "      <td>12</td>\n",
       "      <td>OR1</td>\n",
       "    </tr>\n",
       "  </tbody>\n",
       "</table>\n",
       "<p>96 rows × 3 columns</p>\n",
       "</div>"
      ],
      "text/plain": [
       "    plate_row  plate_col   OR\n",
       "A1          A          1  OR1\n",
       "A2          A          2  OR1\n",
       "A3          A          3  OR1\n",
       "A4          A          4  OR1\n",
       "A5          A          5  OR1\n",
       "..        ...        ...  ...\n",
       "H8          H          8  OR1\n",
       "H9          H          9  OR1\n",
       "H10         H         10  OR1\n",
       "H11         H         11  OR1\n",
       "H12         H         12  OR1\n",
       "\n",
       "[96 rows x 3 columns]"
      ]
     },
     "execution_count": 10,
     "metadata": {},
     "output_type": "execute_result"
    }
   ],
   "source": [
    "# Read the OR CSV and add its content to plate_map\n",
    "plate_map[\"OR\"] = \"\"\n",
    "\n",
    "path_plate_map_OR = data_dir / \"plate_map_OR.csv\"\n",
    "\n",
    "plate_map_OR = pd.read_csv(path_plate_map_OR, index_col=0)\n",
    "\n",
    "for col in list(plate_map_OR):\n",
    "    for row in plate_map_OR.index:\n",
    "        well = row + col\n",
    "        plate_map.loc[well, \"OR\"] = plate_map_OR.loc[row, col]\n",
    "plate_map"
   ]
  },
  {
   "cell_type": "code",
   "execution_count": 11,
   "metadata": {},
   "outputs": [
    {
     "data": {
      "text/html": [
       "<div>\n",
       "<style scoped>\n",
       "    .dataframe tbody tr th:only-of-type {\n",
       "        vertical-align: middle;\n",
       "    }\n",
       "\n",
       "    .dataframe tbody tr th {\n",
       "        vertical-align: top;\n",
       "    }\n",
       "\n",
       "    .dataframe thead th {\n",
       "        text-align: right;\n",
       "    }\n",
       "</style>\n",
       "<table border=\"1\" class=\"dataframe\">\n",
       "  <thead>\n",
       "    <tr style=\"text-align: right;\">\n",
       "      <th></th>\n",
       "      <th>plate_row</th>\n",
       "      <th>plate_col</th>\n",
       "      <th>OR</th>\n",
       "      <th>VOC</th>\n",
       "    </tr>\n",
       "  </thead>\n",
       "  <tbody>\n",
       "    <tr>\n",
       "      <th>A1</th>\n",
       "      <td>A</td>\n",
       "      <td>1</td>\n",
       "      <td>OR1</td>\n",
       "      <td>Menthol</td>\n",
       "    </tr>\n",
       "    <tr>\n",
       "      <th>A2</th>\n",
       "      <td>A</td>\n",
       "      <td>2</td>\n",
       "      <td>OR1</td>\n",
       "      <td>Menthol</td>\n",
       "    </tr>\n",
       "    <tr>\n",
       "      <th>A3</th>\n",
       "      <td>A</td>\n",
       "      <td>3</td>\n",
       "      <td>OR1</td>\n",
       "      <td>Menthol</td>\n",
       "    </tr>\n",
       "    <tr>\n",
       "      <th>A4</th>\n",
       "      <td>A</td>\n",
       "      <td>4</td>\n",
       "      <td>OR1</td>\n",
       "      <td>Menthol</td>\n",
       "    </tr>\n",
       "    <tr>\n",
       "      <th>A5</th>\n",
       "      <td>A</td>\n",
       "      <td>5</td>\n",
       "      <td>OR1</td>\n",
       "      <td>Pinene</td>\n",
       "    </tr>\n",
       "    <tr>\n",
       "      <th>...</th>\n",
       "      <td>...</td>\n",
       "      <td>...</td>\n",
       "      <td>...</td>\n",
       "      <td>...</td>\n",
       "    </tr>\n",
       "    <tr>\n",
       "      <th>H8</th>\n",
       "      <td>H</td>\n",
       "      <td>8</td>\n",
       "      <td>OR1</td>\n",
       "      <td>Pinene</td>\n",
       "    </tr>\n",
       "    <tr>\n",
       "      <th>H9</th>\n",
       "      <td>H</td>\n",
       "      <td>9</td>\n",
       "      <td>OR1</td>\n",
       "      <td>DMSO</td>\n",
       "    </tr>\n",
       "    <tr>\n",
       "      <th>H10</th>\n",
       "      <td>H</td>\n",
       "      <td>10</td>\n",
       "      <td>OR1</td>\n",
       "      <td>DMSO</td>\n",
       "    </tr>\n",
       "    <tr>\n",
       "      <th>H11</th>\n",
       "      <td>H</td>\n",
       "      <td>11</td>\n",
       "      <td>OR1</td>\n",
       "      <td>DMSO</td>\n",
       "    </tr>\n",
       "    <tr>\n",
       "      <th>H12</th>\n",
       "      <td>H</td>\n",
       "      <td>12</td>\n",
       "      <td>OR1</td>\n",
       "      <td>DMSO</td>\n",
       "    </tr>\n",
       "  </tbody>\n",
       "</table>\n",
       "<p>96 rows × 4 columns</p>\n",
       "</div>"
      ],
      "text/plain": [
       "    plate_row  plate_col   OR      VOC\n",
       "A1          A          1  OR1  Menthol\n",
       "A2          A          2  OR1  Menthol\n",
       "A3          A          3  OR1  Menthol\n",
       "A4          A          4  OR1  Menthol\n",
       "A5          A          5  OR1   Pinene\n",
       "..        ...        ...  ...      ...\n",
       "H8          H          8  OR1   Pinene\n",
       "H9          H          9  OR1     DMSO\n",
       "H10         H         10  OR1     DMSO\n",
       "H11         H         11  OR1     DMSO\n",
       "H12         H         12  OR1     DMSO\n",
       "\n",
       "[96 rows x 4 columns]"
      ]
     },
     "execution_count": 11,
     "metadata": {},
     "output_type": "execute_result"
    }
   ],
   "source": [
    "# Read the VOC CSV and add its content to plate_map\n",
    "plate_map[\"VOC\"] = \"\"\n",
    "\n",
    "path_plate_map_VOC = data_dir / \"plate_map_VOC.csv\"\n",
    "\n",
    "plate_map_VOC = pd.read_csv(path_plate_map_VOC, index_col=0)\n",
    "\n",
    "for col in list(plate_map_VOC):\n",
    "    for row in plate_map_VOC.index:\n",
    "        well = row + col\n",
    "        plate_map.loc[well, \"VOC\"] = plate_map_VOC.loc[row, col]\n",
    "plate_map"
   ]
  },
  {
   "cell_type": "code",
   "execution_count": 12,
   "metadata": {},
   "outputs": [
    {
     "data": {
      "text/html": [
       "<div>\n",
       "<style scoped>\n",
       "    .dataframe tbody tr th:only-of-type {\n",
       "        vertical-align: middle;\n",
       "    }\n",
       "\n",
       "    .dataframe tbody tr th {\n",
       "        vertical-align: top;\n",
       "    }\n",
       "\n",
       "    .dataframe thead th {\n",
       "        text-align: right;\n",
       "    }\n",
       "</style>\n",
       "<table border=\"1\" class=\"dataframe\">\n",
       "  <thead>\n",
       "    <tr style=\"text-align: right;\">\n",
       "      <th></th>\n",
       "      <th>plate_row</th>\n",
       "      <th>plate_col</th>\n",
       "      <th>OR</th>\n",
       "      <th>VOC</th>\n",
       "      <th>C</th>\n",
       "    </tr>\n",
       "  </thead>\n",
       "  <tbody>\n",
       "    <tr>\n",
       "      <th>A1</th>\n",
       "      <td>A</td>\n",
       "      <td>1</td>\n",
       "      <td>OR1</td>\n",
       "      <td>Menthol</td>\n",
       "      <td>0.00001</td>\n",
       "    </tr>\n",
       "    <tr>\n",
       "      <th>A2</th>\n",
       "      <td>A</td>\n",
       "      <td>2</td>\n",
       "      <td>OR1</td>\n",
       "      <td>Menthol</td>\n",
       "      <td>0.00001</td>\n",
       "    </tr>\n",
       "    <tr>\n",
       "      <th>A3</th>\n",
       "      <td>A</td>\n",
       "      <td>3</td>\n",
       "      <td>OR1</td>\n",
       "      <td>Menthol</td>\n",
       "      <td>0.00001</td>\n",
       "    </tr>\n",
       "    <tr>\n",
       "      <th>A4</th>\n",
       "      <td>A</td>\n",
       "      <td>4</td>\n",
       "      <td>OR1</td>\n",
       "      <td>Menthol</td>\n",
       "      <td>0.00001</td>\n",
       "    </tr>\n",
       "    <tr>\n",
       "      <th>A5</th>\n",
       "      <td>A</td>\n",
       "      <td>5</td>\n",
       "      <td>OR1</td>\n",
       "      <td>Pinene</td>\n",
       "      <td>0.00010</td>\n",
       "    </tr>\n",
       "    <tr>\n",
       "      <th>...</th>\n",
       "      <td>...</td>\n",
       "      <td>...</td>\n",
       "      <td>...</td>\n",
       "      <td>...</td>\n",
       "      <td>...</td>\n",
       "    </tr>\n",
       "    <tr>\n",
       "      <th>H8</th>\n",
       "      <td>H</td>\n",
       "      <td>8</td>\n",
       "      <td>OR1</td>\n",
       "      <td>Pinene</td>\n",
       "      <td>0.00000</td>\n",
       "    </tr>\n",
       "    <tr>\n",
       "      <th>H9</th>\n",
       "      <td>H</td>\n",
       "      <td>9</td>\n",
       "      <td>OR1</td>\n",
       "      <td>DMSO</td>\n",
       "      <td>0.00000</td>\n",
       "    </tr>\n",
       "    <tr>\n",
       "      <th>H10</th>\n",
       "      <td>H</td>\n",
       "      <td>10</td>\n",
       "      <td>OR1</td>\n",
       "      <td>DMSO</td>\n",
       "      <td>0.00000</td>\n",
       "    </tr>\n",
       "    <tr>\n",
       "      <th>H11</th>\n",
       "      <td>H</td>\n",
       "      <td>11</td>\n",
       "      <td>OR1</td>\n",
       "      <td>DMSO</td>\n",
       "      <td>0.00000</td>\n",
       "    </tr>\n",
       "    <tr>\n",
       "      <th>H12</th>\n",
       "      <td>H</td>\n",
       "      <td>12</td>\n",
       "      <td>OR1</td>\n",
       "      <td>DMSO</td>\n",
       "      <td>0.00000</td>\n",
       "    </tr>\n",
       "  </tbody>\n",
       "</table>\n",
       "<p>96 rows × 5 columns</p>\n",
       "</div>"
      ],
      "text/plain": [
       "    plate_row  plate_col   OR      VOC        C\n",
       "A1          A          1  OR1  Menthol  0.00001\n",
       "A2          A          2  OR1  Menthol  0.00001\n",
       "A3          A          3  OR1  Menthol  0.00001\n",
       "A4          A          4  OR1  Menthol  0.00001\n",
       "A5          A          5  OR1   Pinene  0.00010\n",
       "..        ...        ...  ...      ...      ...\n",
       "H8          H          8  OR1   Pinene  0.00000\n",
       "H9          H          9  OR1     DMSO  0.00000\n",
       "H10         H         10  OR1     DMSO  0.00000\n",
       "H11         H         11  OR1     DMSO  0.00000\n",
       "H12         H         12  OR1     DMSO  0.00000\n",
       "\n",
       "[96 rows x 5 columns]"
      ]
     },
     "execution_count": 12,
     "metadata": {},
     "output_type": "execute_result"
    }
   ],
   "source": [
    "# Read the concentration CSV and add its content to plate_map\n",
    "plate_map[\"C\"] = 0.\n",
    "\n",
    "path_plate_map_concentration = data_dir / \"plate_map_concentration.csv\"\n",
    "\n",
    "plate_map_concentration = pd.read_csv(path_plate_map_concentration, index_col=0)\n",
    "\n",
    "for col in list(plate_map_concentration):\n",
    "    for row in plate_map_concentration.index:\n",
    "        well = row + col\n",
    "        plate_map.loc[well, \"C\"] = plate_map_concentration.loc[row, col]\n",
    "plate_map"
   ]
  },
  {
   "cell_type": "markdown",
   "metadata": {},
   "source": [
    "## Computation of a metric indicating the level of activation the olfactory receptor\n",
    "### Visualization of the time series\n",
    "For a selected well, plot the raw fluo fluorescence versus time\n",
    "\n"
   ]
  },
  {
   "cell_type": "code",
   "execution_count": 13,
   "metadata": {},
   "outputs": [
    {
     "data": {
      "text/plain": [
       "Text(0.5, 1.0, 'Fluorescence data for well A1\\nOR1, Menthol at 1e-05M')"
      ]
     },
     "execution_count": 13,
     "metadata": {},
     "output_type": "execute_result"
    },
    {
     "data": {
      "image/png": "[encoded data removed]",
      "text/plain": [
       "<Figure size 432x288 with 1 Axes>"
      ]
     },
     "metadata": {
      "needs_background": "light"
     },
     "output_type": "display_data"
    }
   ],
   "source": [
    "# Grab the data for a particular well\n",
    "well = \"A1\"\n",
    "time = time_df[well]\n",
    "fluo = fluo_df[well]\n",
    "\n",
    "plt.figure()\n",
    "plt.plot(time, fluo)\n",
    "plt.xlabel(\"Time [s]\")\n",
    "plt.ylabel(\"Fluorescence [A.U.]\")\n",
    "plt.title(f\"Fluorescence data for well {well}\\n\"\n",
    "        f\"{plate_map.loc[well, 'OR']}, {plate_map.loc[well, 'VOC']} at {plate_map.loc[well, 'C']}M\")\n"
   ]
  },
  {
   "cell_type": "code",
   "execution_count": 14,
   "metadata": {},
   "outputs": [
    {
     "data": {
      "text/plain": [
       "19.0"
      ]
     },
     "execution_count": 14,
     "metadata": {},
     "output_type": "execute_result"
    }
   ],
   "source": [
    "stim_time"
   ]
  },
  {
   "cell_type": "markdown",
   "metadata": {},
   "source": [
    "### Write a function to compute the AUC on our data\n",
    "The Area Under the Curve (AUC) is a common metric used to measure the level of activation of a protein to a particular compound. After subtracting the baseline, it is simply defined as the sum of a signal's after a stimulation times the width of the window:\n",
    "\n",
    "\n",
    "<img src=\"ressources/AUC.png\" width=\"600\">\n",
    "\n",
    "The stimulation can create a small artefact, we therefore only consider the fluorescence after a short time delay after the stimulation."
   ]
  },
  {
   "cell_type": "code",
   "execution_count": 15,
   "metadata": {},
   "outputs": [],
   "source": [
    "def compute_baseline(fluo, time, stim_time):\n",
    "    \"Compute the baseline for a fluorescence time series\"\n",
    "    is_before_stim = time < stim_time\n",
    "    return fluo[is_before_stim].mean()\n",
    "\n",
    "def auc(fluo, time, stim_time, delay_after_stim=0.):\n",
    "    \"\"\"Compute the AUC for a fluorescence  time series.\n",
    "    \n",
    "    Parameters\n",
    "    ----------\n",
    "    fluo, array\n",
    "        The fluorescence data\n",
    "    \n",
    "    time, array\n",
    "        The associated timestamps (same length as fluo)\n",
    "    \n",
    "    stim_time, float\n",
    "        The stimulation time.\n",
    "    \n",
    "    delay_after_stim, float (default: 0.)\n",
    "        A short time delay after the stimulation time that will be\n",
    "        ignored when computing the AUC to avoid the stimulation artifact\n",
    "        to have an effect on the result. \n",
    "    \n",
    "    Returns\n",
    "    -------\n",
    "    float,\n",
    "        The area under the curve\n",
    "    \n",
    "    \"\"\"\n",
    "    baseline = compute_baseline(fluo, time, stim_time)\n",
    "    fluo_minus_baseline = fluo - baseline\n",
    "    # Sum the fluorescence after the stimulation time\n",
    "    # adding an extra time delay\n",
    "    is_after_stim = time > stim_time + delay_after_stim\n",
    "    summed_fluo = fluo_minus_baseline[is_after_stim].sum()\n",
    "    # width of the interval in seconds\n",
    "    width = time[-1] - time[is_after_stim][0]\n",
    "    # Return the auc\n",
    "    return width * summed_fluo"
   ]
  },
  {
   "cell_type": "code",
   "execution_count": 16,
   "metadata": {},
   "outputs": [
    {
     "data": {
      "text/plain": [
       "59.48091666666667"
      ]
     },
     "execution_count": 16,
     "metadata": {},
     "output_type": "execute_result"
    }
   ],
   "source": [
    "well = \"A1\"\n",
    "time = time_df[well].values\n",
    "fluo = fluo_df[well].values\n",
    "\n",
    "compute_baseline(fluo, time, stim_time=stim_time)"
   ]
  },
  {
   "cell_type": "code",
   "execution_count": 17,
   "metadata": {},
   "outputs": [
    {
     "data": {
      "text/plain": [
       "370390.7336447999"
      ]
     },
     "execution_count": 17,
     "metadata": {},
     "output_type": "execute_result"
    }
   ],
   "source": [
    "auc(fluo, time, stim_time=stim_time, delay_after_stim=1.)"
   ]
  },
  {
   "cell_type": "markdown",
   "metadata": {},
   "source": [
    "## Computation of the AUC for all wells\n",
    "Add a column corresponding to the AUC in the DataFrame created from the plate map file"
   ]
  },
  {
   "cell_type": "code",
   "execution_count": 18,
   "metadata": {},
   "outputs": [
    {
     "data": {
      "text/html": [
       "<div>\n",
       "<style scoped>\n",
       "    .dataframe tbody tr th:only-of-type {\n",
       "        vertical-align: middle;\n",
       "    }\n",
       "\n",
       "    .dataframe tbody tr th {\n",
       "        vertical-align: top;\n",
       "    }\n",
       "\n",
       "    .dataframe thead th {\n",
       "        text-align: right;\n",
       "    }\n",
       "</style>\n",
       "<table border=\"1\" class=\"dataframe\">\n",
       "  <thead>\n",
       "    <tr style=\"text-align: right;\">\n",
       "      <th></th>\n",
       "      <th>plate_row</th>\n",
       "      <th>plate_col</th>\n",
       "      <th>OR</th>\n",
       "      <th>VOC</th>\n",
       "      <th>C</th>\n",
       "      <th>AUC</th>\n",
       "    </tr>\n",
       "  </thead>\n",
       "  <tbody>\n",
       "    <tr>\n",
       "      <th>A1</th>\n",
       "      <td>A</td>\n",
       "      <td>1</td>\n",
       "      <td>OR1</td>\n",
       "      <td>Menthol</td>\n",
       "      <td>0.00001</td>\n",
       "      <td>370390.733645</td>\n",
       "    </tr>\n",
       "    <tr>\n",
       "      <th>A2</th>\n",
       "      <td>A</td>\n",
       "      <td>2</td>\n",
       "      <td>OR1</td>\n",
       "      <td>Menthol</td>\n",
       "      <td>0.00001</td>\n",
       "      <td>315984.220877</td>\n",
       "    </tr>\n",
       "    <tr>\n",
       "      <th>A3</th>\n",
       "      <td>A</td>\n",
       "      <td>3</td>\n",
       "      <td>OR1</td>\n",
       "      <td>Menthol</td>\n",
       "      <td>0.00001</td>\n",
       "      <td>318452.507290</td>\n",
       "    </tr>\n",
       "    <tr>\n",
       "      <th>A4</th>\n",
       "      <td>A</td>\n",
       "      <td>4</td>\n",
       "      <td>OR1</td>\n",
       "      <td>Menthol</td>\n",
       "      <td>0.00001</td>\n",
       "      <td>340731.879322</td>\n",
       "    </tr>\n",
       "    <tr>\n",
       "      <th>A5</th>\n",
       "      <td>A</td>\n",
       "      <td>5</td>\n",
       "      <td>OR1</td>\n",
       "      <td>Pinene</td>\n",
       "      <td>0.00010</td>\n",
       "      <td>42297.757632</td>\n",
       "    </tr>\n",
       "    <tr>\n",
       "      <th>...</th>\n",
       "      <td>...</td>\n",
       "      <td>...</td>\n",
       "      <td>...</td>\n",
       "      <td>...</td>\n",
       "      <td>...</td>\n",
       "      <td>...</td>\n",
       "    </tr>\n",
       "    <tr>\n",
       "      <th>H8</th>\n",
       "      <td>H</td>\n",
       "      <td>8</td>\n",
       "      <td>OR1</td>\n",
       "      <td>Pinene</td>\n",
       "      <td>0.00000</td>\n",
       "      <td>36221.098121</td>\n",
       "    </tr>\n",
       "    <tr>\n",
       "      <th>H9</th>\n",
       "      <td>H</td>\n",
       "      <td>9</td>\n",
       "      <td>OR1</td>\n",
       "      <td>DMSO</td>\n",
       "      <td>0.00000</td>\n",
       "      <td>32457.621879</td>\n",
       "    </tr>\n",
       "    <tr>\n",
       "      <th>H10</th>\n",
       "      <td>H</td>\n",
       "      <td>10</td>\n",
       "      <td>OR1</td>\n",
       "      <td>DMSO</td>\n",
       "      <td>0.00000</td>\n",
       "      <td>33534.504209</td>\n",
       "    </tr>\n",
       "    <tr>\n",
       "      <th>H11</th>\n",
       "      <td>H</td>\n",
       "      <td>11</td>\n",
       "      <td>OR1</td>\n",
       "      <td>DMSO</td>\n",
       "      <td>0.00000</td>\n",
       "      <td>40162.868053</td>\n",
       "    </tr>\n",
       "    <tr>\n",
       "      <th>H12</th>\n",
       "      <td>H</td>\n",
       "      <td>12</td>\n",
       "      <td>OR1</td>\n",
       "      <td>DMSO</td>\n",
       "      <td>0.00000</td>\n",
       "      <td>24355.801207</td>\n",
       "    </tr>\n",
       "  </tbody>\n",
       "</table>\n",
       "<p>96 rows × 6 columns</p>\n",
       "</div>"
      ],
      "text/plain": [
       "    plate_row  plate_col   OR      VOC        C            AUC\n",
       "A1          A          1  OR1  Menthol  0.00001  370390.733645\n",
       "A2          A          2  OR1  Menthol  0.00001  315984.220877\n",
       "A3          A          3  OR1  Menthol  0.00001  318452.507290\n",
       "A4          A          4  OR1  Menthol  0.00001  340731.879322\n",
       "A5          A          5  OR1   Pinene  0.00010   42297.757632\n",
       "..        ...        ...  ...      ...      ...            ...\n",
       "H8          H          8  OR1   Pinene  0.00000   36221.098121\n",
       "H9          H          9  OR1     DMSO  0.00000   32457.621879\n",
       "H10         H         10  OR1     DMSO  0.00000   33534.504209\n",
       "H11         H         11  OR1     DMSO  0.00000   40162.868053\n",
       "H12         H         12  OR1     DMSO  0.00000   24355.801207\n",
       "\n",
       "[96 rows x 6 columns]"
      ]
     },
     "execution_count": 18,
     "metadata": {},
     "output_type": "execute_result"
    }
   ],
   "source": [
    "plate_map[\"AUC\"] = 0.\n",
    "\n",
    "for well in plate_map.index:\n",
    "    time = time_df[well].values\n",
    "    fluo = fluo_df[well].values\n",
    "    plate_map.loc[well, \"AUC\"] = auc(fluo, time, stim_time=stim_time, delay_after_stim=1.)\n",
    "plate_map"
   ]
  },
  {
   "cell_type": "markdown",
   "metadata": {},
   "source": [
    "### Dose response\n",
    "For each compound, plot the dose response curves (AUC versus concentration) associated with the corresponding columns of the 96-wells plate.\n",
    "\n",
    "**Bonus** You can replace the individual traces for each compound by an average and error bars corresponding for instance to the standard deviation."
   ]
  },
  {
   "cell_type": "code",
   "execution_count": 21,
   "metadata": {},
   "outputs": [
    {
     "data": {
      "text/plain": [
       "Text(0.5, 1.0, 'Dose response curve for compound Menthol')"
      ]
     },
     "execution_count": 21,
     "metadata": {},
     "output_type": "execute_result"
    },
    {
     "data": {
      "image/png": "[encoded data removed]",
      "text/plain": [
       "<Figure size 432x288 with 1 Axes>"
      ]
     },
     "metadata": {
      "needs_background": "light"
     },
     "output_type": "display_data"
    }
   ],
   "source": [
    "# Simple example for one compound\n",
    "compound = \"Menthol\"\n",
    "selected_data = plate_map[(plate_map.VOC == compound) & (plate_map.C != 0)]\n",
    "\n",
    "plt.figure()\n",
    "\n",
    "for plate_col in np.unique(selected_data.plate_col):\n",
    "    selected_data_col = selected_data[selected_data.plate_col == plate_col]\n",
    "    log_c = np.log10(selected_data_col.C)\n",
    "    selected_auc = selected_data_col.AUC\n",
    "    plt.plot(log_c, selected_auc)\n",
    "plt.xlabel(\"log C\")\n",
    "plt.ylabel(\"AUC\")\n",
    "plt.title(f\"Dose response curve for compound {compound}\")"
   ]
  },
  {
   "cell_type": "code",
   "execution_count": 22,
   "metadata": {},
   "outputs": [
    {
     "data": {
      "image/png": "[encoded data removed]",
      "text/plain": [
       "<Figure size 432x576 with 3 Axes>"
      ]
     },
     "metadata": {
      "needs_background": "light"
     },
     "output_type": "display_data"
    }
   ],
   "source": [
    "# Nicer plot if you wish:\n",
    "# HEX code for the colors of the lines\n",
    "colors = [\"#07398a\", \"#5c8de0\", \"#9fbced\", \"#d8dee8\"]\n",
    "\n",
    "fig, axs = plt.subplots(3, 1, figsize=(6, 8), sharex=True, sharey=True)\n",
    "# Loop over the compounds\n",
    "for i, compound in enumerate(np.unique(plate_map.VOC)):\n",
    "    # Filter the data, here we simply discard the wells where the concentration is 0\n",
    "    # N.B. We could instead plot the AUC divided by the AUC obtained for a concentration of 0\n",
    "    selected_data = plate_map[(plate_map.VOC == compound) & (plate_map.C != 0)]\n",
    "    \n",
    "    selected_plate_columns = np.unique(selected_data.plate_col)\n",
    "    ax = axs[i]  # Select the ax on which the data will be plotted\n",
    "    for j, col in enumerate(selected_plate_columns):\n",
    "        # Select the data to plot\n",
    "        log_c = np.log10(selected_data[selected_data.plate_col == col].C)  # log concentration\n",
    "        auc_to_plot = selected_data[selected_data.plate_col == col].AUC  # AUC\n",
    "        # Plot the data\n",
    "        ax.plot(log_c, auc_to_plot, label=f\"Column {col}\", c=colors[j])\n",
    "        ax.legend()\n",
    "        ax.set_title(f\"Dose response for {compound}\")\n",
    "        ax.set_ylabel(\"AUC\")\n",
    "\n",
    "    ax.set_xlabel(\"Log10([C] in M)\")\n",
    "fig.suptitle(f\"Dose responses for {plate_map.OR[0]}\")\n",
    "# Make the figure a bit nicer\n",
    "fig.tight_layout(rect=[0, 0.03, 1, 0.95])"
   ]
  },
  {
   "cell_type": "markdown",
   "metadata": {},
   "source": [
    "## To go further\n",
    "**Bonus** Select an appropriate statistical test and use statsmodels to conclude on the activation of the olfactory receptor by menthol and pinene."
   ]
  },
  {
   "cell_type": "code",
   "execution_count": null,
   "metadata": {},
   "outputs": [],
   "source": [
    "import statsmodels"
   ]
  },
  {
   "cell_type": "code",
   "execution_count": null,
   "metadata": {},
   "outputs": [],
   "source": []
  }
 ],
 "metadata": {
  "kernelspec": {
   "display_name": "Python 3",
   "language": "python",
   "name": "python3"
  },
  "language_info": {
   "codemirror_mode": {
    "name": "ipython",
    "version": 3
   },
   "file_extension": ".py",
   "mimetype": "text/x-python",
   "name": "python",
   "nbconvert_exporter": "python",
   "pygments_lexer": "ipython3",
   "version": "3.7.6"
  }
 },
 "nbformat": 4,
 "nbformat_minor": 4
}
