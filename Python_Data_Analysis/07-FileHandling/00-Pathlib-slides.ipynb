{
 "cells": [
  {
   "cell_type": "markdown",
   "metadata": {
    "slideshow": {
     "slide_type": "slide"
    }
   },
   "source": [
    "# Handling files and paths with pathlib\n",
    "\n",
    "Some parts of this tutorial are inspired by [this](https://realpython.com/python-pathlib/) and [this](https://towardsdatascience.com/10-examples-to-master-python-pathlib-1249cc77de0b) tutorials as well as [this article](https://treyhunner.com/2019/01/no-really-pathlib-is-great/). You can also have a look at [pathlib's documentation](https://docs.python.org/3/library/pathlib.html).\n"
   ]
  },
  {
   "cell_type": "markdown",
   "metadata": {
    "slideshow": {
     "slide_type": "slide"
    }
   },
   "source": [
    "When dealing with experimental data, you will necessarily come to a point where you need to handle input and output files, potentially stored in multiple directories organized hierarchically which can pretty quickly become a true headache. This is especially the case with windows where for instance a double \"\\\\\" needs to be used for indicating subdirectories:\n",
    "\n",
    "```python\n",
    "# Doesn't work on windows\n",
    "open(\"Documents/data/my_data.txt\")\n",
    "# Works on windows\n",
    "open(\"Documents\\\\data\\\\my_data.txt\")\n",
    "```"
   ]
  },
  {
   "cell_type": "markdown",
   "metadata": {
    "slideshow": {
     "slide_type": "slide"
    }
   },
   "source": [
    "Paths were traditionally represented as strings and some file operations could only be performed by combining the use of multiple modules even for simple operations. Take a look at the following example which requires three imports simply to move all `txt` files to an archive directory: \n",
    "\n",
    "```python\n",
    "import glob\n",
    "import os\n",
    "import shutil\n",
    "\n",
    "for file_name in glob.glob('*.txt'):\n",
    "    new_path = os.path.join('archive', file_name)\n",
    "    shutil.move(file_name, new_path)\n",
    "```"
   ]
  },
  {
   "cell_type": "markdown",
   "metadata": {},
   "source": [
    "\n",
    "To solve this issues and dealing with paths in a much more straightforward and \"pythonic\" way, the `pathlib` module was introduced with the release of python 3.4 and is now available in the standard library (the modules installed by default with python) since the 3.6 release.\n"
   ]
  },
  {
   "cell_type": "code",
   "execution_count": 1,
   "metadata": {
    "slideshow": {
     "slide_type": "slide"
    }
   },
   "outputs": [],
   "source": [
    "# Import the Path class from pathlib\n",
    "from pathlib import Path"
   ]
  },
  {
   "cell_type": "markdown",
   "metadata": {},
   "source": [
    "## Basic path operations\n",
    "\n",
    "- `Path.home()`\n",
    "- `Path.cwd()`\n",
    "- `Path(\"path/to/something\")`\n",
    "- `Path(...) / \"subfolder\"`\n",
    "- `.joinpath(subfolder1, subfolder2...)`\n",
    "- `.parent`\n",
    "- `.name`\n",
    "- `.exists()`\n",
    "- `.is_file()`\n",
    "- `.is_dir()`\n",
    "- `.iterdir()`"
   ]
  },
  {
   "cell_type": "markdown",
   "metadata": {
    "slideshow": {
     "slide_type": "slide"
    }
   },
   "source": [
    "### Creating Path objects"
   ]
  },
  {
   "cell_type": "code",
   "execution_count": 2,
   "metadata": {},
   "outputs": [
    {
     "data": {
      "text/plain": [
       "PosixPath('/home/fayat/Documents')"
      ]
     },
     "execution_count": 2,
     "metadata": {},
     "output_type": "execute_result"
    }
   ],
   "source": [
    "# Path objects can be created from a string using the following syntax\n",
    "Path(\"/home/fayat/Documents\")"
   ]
  },
  {
   "cell_type": "code",
   "execution_count": 3,
   "metadata": {
    "slideshow": {
     "slide_type": "slide"
    }
   },
   "outputs": [
    {
     "data": {
      "text/plain": [
       "PosixPath('/home/fayat')"
      ]
     },
     "execution_count": 3,
     "metadata": {},
     "output_type": "execute_result"
    }
   ],
   "source": [
    "# Create a Path object corresponding to the home directory\n",
    "home_path = Path.home()\n",
    "\n",
    "home_path"
   ]
  },
  {
   "cell_type": "code",
   "execution_count": 4,
   "metadata": {},
   "outputs": [
    {
     "data": {
      "text/plain": [
       "PosixPath('/home/fayat/Documents/python_course/PSL_Graduate/Python_Data_Analysis/07-FileHandling')"
      ]
     },
     "execution_count": 4,
     "metadata": {},
     "output_type": "execute_result"
    }
   ],
   "source": [
    "# Create a Path object corresponding to the Current Working Directory\n",
    "cwd_path = Path.cwd()\n",
    "\n",
    "cwd_path"
   ]
  },
  {
   "cell_type": "code",
   "execution_count": 31,
   "metadata": {
    "slideshow": {
     "slide_type": "slide"
    }
   },
   "outputs": [
    {
     "data": {
      "text/plain": [
       "PosixPath('/home/fayat/Documents')"
      ]
     },
     "execution_count": 31,
     "metadata": {},
     "output_type": "execute_result"
    }
   ],
   "source": [
    "# Create the path to a subfolder of the home directory\n",
    "# using the division by a string\n",
    "home_path / \"Documents\""
   ]
  },
  {
   "cell_type": "code",
   "execution_count": 5,
   "metadata": {
    "scrolled": true
   },
   "outputs": [
    {
     "data": {
      "text/plain": [
       "PosixPath('/home/fayat/Documents/python_course/PSL_Graduate/Python_Data_Analysis/07-FileHandling/data/metadata.csv')"
      ]
     },
     "execution_count": 5,
     "metadata": {},
     "output_type": "execute_result"
    }
   ],
   "source": [
    "# Join the path of multiple folders / files\n",
    "metadata_path = Path.cwd().joinpath(\"data\", \"metadata.csv\")\n",
    "metadata_path"
   ]
  },
  {
   "cell_type": "code",
   "execution_count": 6,
   "metadata": {
    "slideshow": {
     "slide_type": "slide"
    }
   },
   "outputs": [
    {
     "data": {
      "text/plain": [
       "PosixPath('/home/fayat/Documents/python_course/PSL_Graduate/Python_Data_Analysis/07-FileHandling/data')"
      ]
     },
     "execution_count": 6,
     "metadata": {},
     "output_type": "execute_result"
    }
   ],
   "source": [
    "# Get the parent\n",
    "metadata_path.parent"
   ]
  },
  {
   "cell_type": "markdown",
   "metadata": {
    "slideshow": {
     "slide_type": "slide"
    }
   },
   "source": [
    "### Common path shortcuts"
   ]
  },
  {
   "cell_type": "code",
   "execution_count": 7,
   "metadata": {},
   "outputs": [
    {
     "data": {
      "text/plain": [
       "PosixPath('~')"
      ]
     },
     "execution_count": 7,
     "metadata": {},
     "output_type": "execute_result"
    }
   ],
   "source": [
    "# The home folder is often symbolised using \"~\"\n",
    "Path(\"~\")"
   ]
  },
  {
   "cell_type": "code",
   "execution_count": 8,
   "metadata": {},
   "outputs": [
    {
     "data": {
      "text/plain": [
       "PosixPath('/home/fayat')"
      ]
     },
     "execution_count": 8,
     "metadata": {},
     "output_type": "execute_result"
    }
   ],
   "source": [
    "# The full path can be obtained as follows:\n",
    "Path(\"~\").expanduser()\n"
   ]
  },
  {
   "cell_type": "code",
   "execution_count": 36,
   "metadata": {},
   "outputs": [
    {
     "data": {
      "text/plain": [
       "PosixPath('.')"
      ]
     },
     "execution_count": 36,
     "metadata": {},
     "output_type": "execute_result"
    }
   ],
   "source": [
    "# The current working directory is often symbolised using \".\"\n",
    "Path(\".\")"
   ]
  },
  {
   "cell_type": "code",
   "execution_count": 37,
   "metadata": {},
   "outputs": [
    {
     "data": {
      "text/plain": [
       "PosixPath('/home/fayat/Documents/python_course/PSL_Graduate/Python_Data_Analysis/07-FileHandling')"
      ]
     },
     "execution_count": 37,
     "metadata": {},
     "output_type": "execute_result"
    }
   ],
   "source": [
    "# The absolute path can be obtained as follows:\n",
    "Path(\".\").absolute()"
   ]
  },
  {
   "cell_type": "markdown",
   "metadata": {
    "slideshow": {
     "slide_type": "slide"
    }
   },
   "source": [
    "### Extracting information from a path object\n",
    "The file name and suffix:"
   ]
  },
  {
   "cell_type": "code",
   "execution_count": 40,
   "metadata": {},
   "outputs": [
    {
     "data": {
      "text/plain": [
       "'metadata.csv'"
      ]
     },
     "execution_count": 40,
     "metadata": {},
     "output_type": "execute_result"
    }
   ],
   "source": [
    "metadata_path.name  # Also works for a directory's name"
   ]
  },
  {
   "cell_type": "code",
   "execution_count": 41,
   "metadata": {},
   "outputs": [
    {
     "data": {
      "text/plain": [
       "'.csv'"
      ]
     },
     "execution_count": 41,
     "metadata": {},
     "output_type": "execute_result"
    }
   ],
   "source": [
    "metadata_path.suffix"
   ]
  },
  {
   "cell_type": "markdown",
   "metadata": {
    "slideshow": {
     "slide_type": "slide"
    }
   },
   "source": [
    "Making sure that a Path object corresponds to file / folder that exists:"
   ]
  },
  {
   "cell_type": "code",
   "execution_count": 15,
   "metadata": {},
   "outputs": [],
   "source": [
    "metadata_path = Path.cwd().joinpath(\"data\", \"plate_map_OR.csv\")"
   ]
  },
  {
   "cell_type": "code",
   "execution_count": 16,
   "metadata": {},
   "outputs": [
    {
     "data": {
      "text/plain": [
       "True"
      ]
     },
     "execution_count": 16,
     "metadata": {},
     "output_type": "execute_result"
    }
   ],
   "source": [
    "metadata_path.exists()"
   ]
  },
  {
   "cell_type": "code",
   "execution_count": 17,
   "metadata": {},
   "outputs": [
    {
     "data": {
      "text/plain": [
       "False"
      ]
     },
     "execution_count": 17,
     "metadata": {},
     "output_type": "execute_result"
    }
   ],
   "source": [
    "metadata_path.is_dir()  # True if the Path is a directory"
   ]
  },
  {
   "cell_type": "code",
   "execution_count": 18,
   "metadata": {},
   "outputs": [
    {
     "data": {
      "text/plain": [
       "True"
      ]
     },
     "execution_count": 18,
     "metadata": {},
     "output_type": "execute_result"
    }
   ],
   "source": [
    "metadata_path.is_file()  # True if the Path is a file"
   ]
  },
  {
   "cell_type": "markdown",
   "metadata": {
    "slideshow": {
     "slide_type": "slide"
    }
   },
   "source": [
    "#### Exercise:\n",
    "Make sure that `test.txt` exists in the current working directory and is a file:"
   ]
  },
  {
   "cell_type": "code",
   "execution_count": 21,
   "metadata": {},
   "outputs": [
    {
     "data": {
      "text/plain": [
       "True"
      ]
     },
     "execution_count": 21,
     "metadata": {},
     "output_type": "execute_result"
    }
   ],
   "source": [
    "path_to_test = Path.cwd() / \"test.txt\"\n",
    "path_to_test.exists()"
   ]
  },
  {
   "cell_type": "code",
   "execution_count": 22,
   "metadata": {},
   "outputs": [
    {
     "data": {
      "text/plain": [
       "True"
      ]
     },
     "execution_count": 22,
     "metadata": {},
     "output_type": "execute_result"
    }
   ],
   "source": [
    "path_to_test.is_file()"
   ]
  },
  {
   "cell_type": "markdown",
   "metadata": {
    "slideshow": {
     "slide_type": "slide"
    }
   },
   "source": [
    "## Getting an iterator of the content of a directory\n",
    "Reminder:\n",
    "An `iterator` is a Python object representing a series of element that can be accessed using this syntax:\n",
    "```python\n",
    "for element in iterator:\n",
    "    ... # do something with element\n",
    "```\n",
    "For instance, lists are iterable (meaning their elements can be accessed using an iterator syntax):\n",
    "```python\n",
    "for element in [\"a\", 1, [1, 2, 3]]:\n",
    "    print(element)\n",
    "```\n"
   ]
  },
  {
   "cell_type": "code",
   "execution_count": 23,
   "metadata": {
    "scrolled": true,
    "slideshow": {
     "slide_type": "slide"
    }
   },
   "outputs": [
    {
     "name": "stdout",
     "output_type": "stream",
     "text": [
      "/home/fayat/Documents/python_course/PSL_Graduate/Python_Data_Analysis/07-FileHandling/.ipynb_checkpoints\n",
      "/home/fayat/Documents/python_course/PSL_Graduate/Python_Data_Analysis/07-FileHandling/00-Pathlib-slides.ipynb\n",
      "/home/fayat/Documents/python_course/PSL_Graduate/Python_Data_Analysis/07-FileHandling/00-Pathlib.ipynb\n",
      "/home/fayat/Documents/python_course/PSL_Graduate/Python_Data_Analysis/07-FileHandling/.virtual_documents\n",
      "/home/fayat/Documents/python_course/PSL_Graduate/Python_Data_Analysis/07-FileHandling/01-FluorescenceDataCaseStudy_corrected.ipynb\n",
      "/home/fayat/Documents/python_course/PSL_Graduate/Python_Data_Analysis/07-FileHandling/01-FluorescenceDataCaseStudy.ipynb\n",
      "/home/fayat/Documents/python_course/PSL_Graduate/Python_Data_Analysis/07-FileHandling/test.txt\n",
      "/home/fayat/Documents/python_course/PSL_Graduate/Python_Data_Analysis/07-FileHandling/ressources\n",
      "/home/fayat/Documents/python_course/PSL_Graduate/Python_Data_Analysis/07-FileHandling/data\n"
     ]
    }
   ],
   "source": [
    "# Iterator of the content of the current working directory\n",
    "for my_path in Path.cwd().iterdir():\n",
    "    print(my_path)"
   ]
  },
  {
   "cell_type": "markdown",
   "metadata": {
    "slideshow": {
     "slide_type": "slide"
    }
   },
   "source": [
    "#### Exercise:\n",
    "Grab the file names of all csv files in the `data` folder as strings, make sure that they exist before adding them to the `csv_file_all` list:"
   ]
  },
  {
   "cell_type": "code",
   "execution_count": 27,
   "metadata": {},
   "outputs": [],
   "source": [
    "csv_file_all = []\n",
    "\n",
    "data_path = Path.cwd() / \"data\"\n",
    "\n",
    "for subpath in data_path.iterdir():\n",
    "    if subpath.exists():\n",
    "        if subpath.suffix == \".csv\":\n",
    "            csv_file_all.append(subpath.name)"
   ]
  },
  {
   "cell_type": "code",
   "execution_count": 28,
   "metadata": {},
   "outputs": [
    {
     "data": {
      "text/plain": [
       "['fluo_data_B3.csv',\n",
       " 'fluo_data_B4.csv',\n",
       " 'fluo_data_A12.csv',\n",
       " 'fluo_data_D12.csv',\n",
       " 'fluo_data_B2.csv',\n",
       " 'fluo_data_C9.csv',\n",
       " 'fluo_data_D2.csv',\n",
       " 'fluo_data_D10.csv',\n",
       " 'fluo_data_C1.csv',\n",
       " 'fluo_data_E6.csv',\n",
       " 'fluo_data_H5.csv',\n",
       " 'fluo_data_E12.csv',\n",
       " 'fluo_data_G5.csv',\n",
       " 'fluo_data_F9.csv',\n",
       " 'fluo_data_H7.csv',\n",
       " 'fluo_data_A4.csv',\n",
       " 'fluo_data_F8.csv',\n",
       " 'fluo_data_D7.csv',\n",
       " 'fluo_data_E9.csv',\n",
       " 'fluo_data_A11.csv',\n",
       " 'fluo_data_G9.csv',\n",
       " 'fluo_data_D8.csv',\n",
       " 'fluo_data_E4.csv',\n",
       " 'fluo_data_G7.csv',\n",
       " 'plate_map_concentration.csv',\n",
       " 'fluo_data_E11.csv',\n",
       " 'fluo_data_A9.csv',\n",
       " 'fluo_data_A6.csv',\n",
       " 'fluo_data_C2.csv',\n",
       " 'fluo_data_G6.csv',\n",
       " 'fluo_data_G8.csv',\n",
       " 'fluo_data_F11.csv',\n",
       " 'fluo_data_H4.csv',\n",
       " 'fluo_data_G10.csv',\n",
       " 'fluo_data_B7.csv',\n",
       " 'fluo_data_D3.csv',\n",
       " 'fluo_data_C4.csv',\n",
       " 'fluo_data_H10.csv',\n",
       " 'fluo_data_B12.csv',\n",
       " 'fluo_data_B9.csv',\n",
       " 'fluo_data_F12.csv',\n",
       " 'fluo_data_H3.csv',\n",
       " 'fluo_data_H6.csv',\n",
       " 'fluo_data_C11.csv',\n",
       " 'fluo_data_B8.csv',\n",
       " 'fluo_data_E8.csv',\n",
       " 'fluo_data_G3.csv',\n",
       " 'fluo_data_D11.csv',\n",
       " 'fluo_data_A7.csv',\n",
       " 'fluo_data_G4.csv',\n",
       " 'fluo_data_A2.csv',\n",
       " 'fluo_data_A8.csv',\n",
       " 'fluo_data_E3.csv',\n",
       " 'fluo_data_G11.csv',\n",
       " 'fluo_data_F4.csv',\n",
       " 'fluo_data_F10.csv',\n",
       " 'plate_map_VOC.csv',\n",
       " 'fluo_data_E10.csv',\n",
       " 'fluo_data_G12.csv',\n",
       " 'fluo_data_B1.csv',\n",
       " 'fluo_data_F5.csv',\n",
       " 'fluo_data_E5.csv',\n",
       " 'fluo_data_C10.csv',\n",
       " 'fluo_data_A3.csv',\n",
       " 'fluo_data_F1.csv',\n",
       " 'fluo_data_G1.csv',\n",
       " 'fluo_data_A5.csv',\n",
       " 'fluo_data_E2.csv',\n",
       " 'fluo_data_D6.csv',\n",
       " 'fluo_data_D5.csv',\n",
       " 'fluo_data_H1.csv',\n",
       " 'fluo_data_D4.csv',\n",
       " 'plate_map_OR.csv',\n",
       " 'fluo_data_A1.csv',\n",
       " 'fluo_data_D9.csv',\n",
       " 'fluo_data_F7.csv',\n",
       " 'fluo_data_B10.csv',\n",
       " 'fluo_data_B11.csv',\n",
       " 'fluo_data_H11.csv',\n",
       " 'fluo_data_D1.csv',\n",
       " 'fluo_data_C6.csv',\n",
       " 'fluo_data_B5.csv',\n",
       " 'fluo_data_C3.csv',\n",
       " 'fluo_data_F3.csv',\n",
       " 'fluo_data_A10.csv',\n",
       " 'fluo_data_H12.csv',\n",
       " 'fluo_data_G2.csv',\n",
       " 'fluo_data_C5.csv',\n",
       " 'fluo_data_E7.csv',\n",
       " 'fluo_data_F2.csv',\n",
       " 'fluo_data_H8.csv',\n",
       " 'fluo_data_B6.csv',\n",
       " 'fluo_data_H2.csv',\n",
       " 'fluo_data_E1.csv',\n",
       " 'fluo_data_C8.csv',\n",
       " 'fluo_data_F6.csv',\n",
       " 'fluo_data_C12.csv',\n",
       " 'fluo_data_C7.csv',\n",
       " 'fluo_data_H9.csv']"
      ]
     },
     "execution_count": 28,
     "metadata": {},
     "output_type": "execute_result"
    }
   ],
   "source": [
    "csv_file_all"
   ]
  },
  {
   "cell_type": "markdown",
   "metadata": {
    "slideshow": {
     "slide_type": "slide"
    }
   },
   "source": [
    "## File / folder handling"
   ]
  },
  {
   "cell_type": "markdown",
   "metadata": {},
   "source": [
    "### Creating a directory"
   ]
  },
  {
   "cell_type": "code",
   "execution_count": null,
   "metadata": {},
   "outputs": [],
   "source": [
    "# Use this method to create the directory from the Path object called path\n",
    "path.mkdir()"
   ]
  },
  {
   "cell_type": "code",
   "execution_count": 31,
   "metadata": {},
   "outputs": [],
   "source": [
    "new_dir = Path.cwd() / \"new_folder\"\n",
    "new_dir.mkdir()"
   ]
  },
  {
   "cell_type": "code",
   "execution_count": 51,
   "metadata": {},
   "outputs": [
    {
     "data": {
      "text/plain": [
       "\u001b[0;31mSignature:\u001b[0m \u001b[0mPath\u001b[0m\u001b[0;34m.\u001b[0m\u001b[0mmkdir\u001b[0m\u001b[0;34m(\u001b[0m\u001b[0mself\u001b[0m\u001b[0;34m,\u001b[0m \u001b[0mmode\u001b[0m\u001b[0;34m=\u001b[0m\u001b[0;36m511\u001b[0m\u001b[0;34m,\u001b[0m \u001b[0mparents\u001b[0m\u001b[0;34m=\u001b[0m\u001b[0;32mFalse\u001b[0m\u001b[0;34m,\u001b[0m \u001b[0mexist_ok\u001b[0m\u001b[0;34m=\u001b[0m\u001b[0;32mFalse\u001b[0m\u001b[0;34m)\u001b[0m\u001b[0;34m\u001b[0m\u001b[0;34m\u001b[0m\u001b[0m\n",
       "\u001b[0;31mDocstring:\u001b[0m Create a new directory at this given path.\n",
       "\u001b[0;31mFile:\u001b[0m      ~/miniconda3/lib/python3.7/pathlib.py\n",
       "\u001b[0;31mType:\u001b[0m      function\n"
      ]
     },
     "metadata": {},
     "output_type": "display_data"
    }
   ],
   "source": [
    "# Reminder: You can access the function's documentation as follows:\n",
    "?Path.mkdir\n",
    "# Don't hesitate to consult pathlib's documentation to get more information about its arguments !"
   ]
  },
  {
   "cell_type": "markdown",
   "metadata": {
    "slideshow": {
     "slide_type": "slide"
    }
   },
   "source": [
    "### File operation"
   ]
  },
  {
   "cell_type": "code",
   "execution_count": 32,
   "metadata": {},
   "outputs": [],
   "source": [
    "# File operations (e.g. copying a file) can also be performed\n",
    "# by combining pathlib's Path object with shutil\n",
    "import shutil\n",
    "?shutil.copy\n"
   ]
  },
  {
   "cell_type": "markdown",
   "metadata": {
    "slideshow": {
     "slide_type": "slide"
    }
   },
   "source": [
    "#### Exercise:\n",
    "Create a `test` directory in the current working directory after making sure that it doesn't already exists. Create a copy of `test.txt` in this newly created directory called `test_copy.txt`. "
   ]
  },
  {
   "cell_type": "code",
   "execution_count": 35,
   "metadata": {},
   "outputs": [
    {
     "data": {
      "text/plain": [
       "PosixPath('/home/fayat/Documents/python_course/PSL_Graduate/Python_Data_Analysis/07-FileHandling/test/test_copy.txt')"
      ]
     },
     "execution_count": 35,
     "metadata": {},
     "output_type": "execute_result"
    }
   ],
   "source": [
    "file_path = Path.cwd() / \"test.txt\"\n",
    "new_dir = Path.cwd() / \"test\"\n",
    "new_file_path = new_dir / \"test_copy.txt\"\n",
    "shutil.copy(file_path, new_file_path)"
   ]
  },
  {
   "cell_type": "markdown",
   "metadata": {
    "slideshow": {
     "slide_type": "slide"
    }
   },
   "source": [
    "## File reading / writing\n",
    "Files can be created / edited and their content accessed using the `.open()` method.\n",
    "\n",
    "The most important argument here is `mode` which indicates *how* the file should be accessed, for instance (see [here](https://stackabuse.com/file-handling-in-python/) for more details):\n",
    "\n",
    "- `mode=\"r\"`: Read-only mode\n",
    "- `mode=\"w+\"`: Writing and reading\n",
    "- `mode=\"a\"`: Append new information to a file, a new file is created if one with the same name doesn't exist.\n",
    "\n"
   ]
  },
  {
   "cell_type": "markdown",
   "metadata": {
    "slideshow": {
     "slide_type": "slide"
    }
   },
   "source": [
    "N.B.: You could also simply use `open(\"path/to/file/as/string\")` but as mentioned before, pathlib's Path objects come handy when dealing with file paths."
   ]
  },
  {
   "cell_type": "code",
   "execution_count": 36,
   "metadata": {},
   "outputs": [
    {
     "data": {
      "text/plain": [
       "['Hi everyone !\\n', 'This is a small example text file.']"
      ]
     },
     "execution_count": 36,
     "metadata": {},
     "output_type": "execute_result"
    }
   ],
   "source": [
    "# You can for instance open test.txt and read its content as follows\n",
    "file_path = Path.cwd() / \"test.txt\"\n",
    "\n",
    "with file_path.open(mode=\"r\") as f:\n",
    "    # Inside of the with statement, f can be used to interact\n",
    "    # with the file\n",
    "    content = f.readlines()\n",
    "\n",
    "content"
   ]
  },
  {
   "cell_type": "markdown",
   "metadata": {
    "slideshow": {
     "slide_type": "slide"
    }
   },
   "source": [
    "**Note:** You might be unfamiliar with this `with ... as ...` syntax, it simply guaranties that python will take care of cleanly destroying the f variable after reading the file, alternatively you can use the following code. Note that **bad things can happen if you forget to close your file after interacting with its content** which is why I recommend you to use `with` :"
   ]
  },
  {
   "cell_type": "code",
   "execution_count": 58,
   "metadata": {
    "slideshow": {
     "slide_type": "-"
    }
   },
   "outputs": [
    {
     "data": {
      "text/plain": [
       "['Hi everyone !\\n', 'This is a small example text file.']"
      ]
     },
     "execution_count": 58,
     "metadata": {},
     "output_type": "execute_result"
    }
   ],
   "source": [
    "# possible but not recommended\n",
    "file_path = Path.cwd() / \"test.txt\"\n",
    "f = file_path.open(mode=\"r\") # Open the file\n",
    "content = f.readlines()\n",
    "f.close()  # WARNING don't forget to close the file\n",
    "content"
   ]
  },
  {
   "cell_type": "markdown",
   "metadata": {
    "slideshow": {
     "slide_type": "slide"
    }
   },
   "source": [
    "#### Exercise:\n",
    "Add a new line to  `test.txt` with the content of your choice. \n",
    "\n",
    "As always, don't hesitate to look online for code snippets that could help you (for instance [here](https://stackabuse.com/file-handling-in-python))."
   ]
  },
  {
   "cell_type": "code",
   "execution_count": 38,
   "metadata": {},
   "outputs": [],
   "source": [
    "file_path = Path.cwd() / \"test.txt\"\n",
    "\n",
    "with file_path.open(mode=\"a\") as f:\n",
    "    f.write(\"\\nCoucou\")"
   ]
  },
  {
   "cell_type": "code",
   "execution_count": 39,
   "metadata": {},
   "outputs": [
    {
     "data": {
      "text/plain": [
       "['Hi everyone !\\n', 'This is a small example text file.\\n', 'Coucou']"
      ]
     },
     "execution_count": 39,
     "metadata": {},
     "output_type": "execute_result"
    }
   ],
   "source": [
    "# You can for instance open test.txt and read its content as follows\n",
    "file_path = Path.cwd() / \"test.txt\"\n",
    "\n",
    "with file_path.open(mode=\"r\") as f:\n",
    "    # Inside of the with statement, f can be used to interact\n",
    "    # with the file\n",
    "    content = f.readlines()\n",
    "\n",
    "content"
   ]
  },
  {
   "cell_type": "code",
   "execution_count": null,
   "metadata": {},
   "outputs": [],
   "source": []
  }
 ],
 "metadata": {
  "celltoolbar": "Slideshow",
  "kernelspec": {
   "display_name": "Python 3",
   "language": "python",
   "name": "python3"
  },
  "language_info": {
   "codemirror_mode": {
    "name": "ipython",
    "version": 3
   },
   "file_extension": ".py",
   "mimetype": "text/x-python",
   "name": "python",
   "nbconvert_exporter": "python",
   "pygments_lexer": "ipython3",
   "version": "3.7.6"
  }
 },
 "nbformat": 4,
 "nbformat_minor": 4
}
