{
 "cells": [
  {
   "cell_type": "markdown",
   "metadata": {},
   "source": [
    "# Handling files and paths with pathlib\n",
    "\n",
    "Some parts of this tutorial are inspired by [this](https://realpython.com/python-pathlib/) and [this](https://towardsdatascience.com/10-examples-to-master-python-pathlib-1249cc77de0b) tutorials as well as [this article](https://treyhunner.com/2019/01/no-really-pathlib-is-great/). You can also have a look at [pathlib's documentation](https://docs.python.org/3/library/pathlib.html).\n",
    " \n",
    "When dealing with experimental data, you will necessarily come to a point where you need to handle input and output files, potentially stored in multiple directories organized hierarchically which can pretty quickly become a true headache. This is especially the case with windows where for instance a double \"\\\\\" needs to be used for indicating subdirectories:\n",
    "\n",
    "```python\n",
    "# Doesn't work on windows\n",
    "open(\"Documents/data/my_data.txt\")\n",
    "# Works on windows\n",
    "open(\"Documents\\\\data\\\\my_data.txt\")\n",
    "```\n",
    "\n",
    "Paths were traditionally represented as strings and some file operations could only be performed by combining the use of multiple modules even for simple operations. Take a look at the following example which requires three imports simply to move all `txt` files to an archive directory: \n",
    "\n",
    "```python\n",
    "import glob\n",
    "import os\n",
    "import shutil\n",
    "\n",
    "for file_name in glob.glob('*.txt'):\n",
    "    new_path = os.path.join('archive', file_name)\n",
    "    shutil.move(file_name, new_path)\n",
    "```\n",
    "\n",
    "To solve this issues and dealing with paths in a much more straightforward and \"pythonic\" way, the `pathlib` module was introduced with the release of python 3.4 and is now available in the standard library (the modules installed by default with python) since the 3.6 release.\n"
   ]
  },
  {
   "cell_type": "code",
   "execution_count": 2,
   "metadata": {},
   "outputs": [],
   "source": [
    "# Import the Path class from pathlib\n",
    "from pathlib import Path"
   ]
  },
  {
   "cell_type": "markdown",
   "metadata": {},
   "source": [
    "## Basic path operations\n",
    "\n",
    "- `Path.home()`\n",
    "- `Path.cwd()`\n",
    "- `Path(\"path/to/something\")`\n",
    "- `Path(...) / \"subfolder\"`\n",
    "- `.joinpath(subfolder1, subfolder2...)`\n",
    "- `.parent`\n",
    "- `.name`\n",
    "- `.exists()`\n",
    "- `.is_file()`\n",
    "- `.is_dir()`\n",
    "- `.iterdir()`\n",
    "\n",
    "### Creating Path objects"
   ]
  },
  {
   "cell_type": "code",
   "execution_count": 49,
   "metadata": {},
   "outputs": [
    {
     "data": {
      "text/plain": [
       "PosixPath('/home/fayat/Documents')"
      ]
     },
     "execution_count": 49,
     "metadata": {},
     "output_type": "execute_result"
    }
   ],
   "source": [
    "# Path objects can be created from a string using the following syntax\n",
    "Path(\"/home/fayat/Documents\")"
   ]
  },
  {
   "cell_type": "code",
   "execution_count": 29,
   "metadata": {},
   "outputs": [
    {
     "data": {
      "text/plain": [
       "PosixPath('/home/fayat')"
      ]
     },
     "execution_count": 29,
     "metadata": {},
     "output_type": "execute_result"
    }
   ],
   "source": [
    "# Create a Path object corresponding to the home directory\n",
    "home_path = Path.home()\n",
    "\n",
    "home_path"
   ]
  },
  {
   "cell_type": "code",
   "execution_count": 30,
   "metadata": {},
   "outputs": [
    {
     "data": {
      "text/plain": [
       "PosixPath('/home/fayat/Documents/python_course/PSL_Graduate/Python_Data_Analysis/07-FileHandling')"
      ]
     },
     "execution_count": 30,
     "metadata": {},
     "output_type": "execute_result"
    }
   ],
   "source": [
    "# Create a Path object corresponding to the Current Working Directory\n",
    "cwd_path = Path.cwd()\n",
    "\n",
    "cwd_path"
   ]
  },
  {
   "cell_type": "code",
   "execution_count": 31,
   "metadata": {},
   "outputs": [
    {
     "data": {
      "text/plain": [
       "PosixPath('/home/fayat/Documents')"
      ]
     },
     "execution_count": 31,
     "metadata": {},
     "output_type": "execute_result"
    }
   ],
   "source": [
    "# Create the path to a subfolder of the home directory\n",
    "# using the division by a string\n",
    "home_path / \"Documents\""
   ]
  },
  {
   "cell_type": "code",
   "execution_count": 32,
   "metadata": {},
   "outputs": [
    {
     "data": {
      "text/plain": [
       "PosixPath('/home/fayat/Documents/python_course/PSL_Graduate/Python_Data_Analysis/07-FileHandling/data/metadata.csv')"
      ]
     },
     "execution_count": 32,
     "metadata": {},
     "output_type": "execute_result"
    }
   ],
   "source": [
    "# Join the path of multiple folders / files\n",
    "metadata_path = Path.cwd().joinpath(\"data\", \"metadata.csv\")\n",
    "metadata_path"
   ]
  },
  {
   "cell_type": "code",
   "execution_count": 33,
   "metadata": {},
   "outputs": [
    {
     "data": {
      "text/plain": [
       "PosixPath('/home/fayat/Documents/python_course/PSL_Graduate/Python_Data_Analysis/07-FileHandling/data')"
      ]
     },
     "execution_count": 33,
     "metadata": {},
     "output_type": "execute_result"
    }
   ],
   "source": [
    "# Get the parent\n",
    "metadata_path.parent"
   ]
  },
  {
   "cell_type": "markdown",
   "metadata": {},
   "source": [
    "### Common path shortcuts"
   ]
  },
  {
   "cell_type": "code",
   "execution_count": 34,
   "metadata": {},
   "outputs": [
    {
     "data": {
      "text/plain": [
       "PosixPath('~')"
      ]
     },
     "execution_count": 34,
     "metadata": {},
     "output_type": "execute_result"
    }
   ],
   "source": [
    "# The home folder is often symbolised using \"~\"\n",
    "Path(\"~\")"
   ]
  },
  {
   "cell_type": "code",
   "execution_count": 35,
   "metadata": {},
   "outputs": [
    {
     "data": {
      "text/plain": [
       "PosixPath('/home/fayat')"
      ]
     },
     "execution_count": 35,
     "metadata": {},
     "output_type": "execute_result"
    }
   ],
   "source": [
    "# The full path can be obtained as follows:\n",
    "Path(\"~\").expanduser()\n"
   ]
  },
  {
   "cell_type": "code",
   "execution_count": 36,
   "metadata": {},
   "outputs": [
    {
     "data": {
      "text/plain": [
       "PosixPath('.')"
      ]
     },
     "execution_count": 36,
     "metadata": {},
     "output_type": "execute_result"
    }
   ],
   "source": [
    "# The current working directory is often symbolised using \".\"\n",
    "Path(\".\")"
   ]
  },
  {
   "cell_type": "code",
   "execution_count": 37,
   "metadata": {},
   "outputs": [
    {
     "data": {
      "text/plain": [
       "PosixPath('/home/fayat/Documents/python_course/PSL_Graduate/Python_Data_Analysis/07-FileHandling')"
      ]
     },
     "execution_count": 37,
     "metadata": {},
     "output_type": "execute_result"
    }
   ],
   "source": [
    "# The absolute path can be obtained as follows:\n",
    "Path(\".\").absolute()"
   ]
  },
  {
   "cell_type": "markdown",
   "metadata": {},
   "source": [
    "### Extracting information from a path object\n",
    "The file name and suffix:"
   ]
  },
  {
   "cell_type": "code",
   "execution_count": 40,
   "metadata": {},
   "outputs": [
    {
     "data": {
      "text/plain": [
       "'metadata.csv'"
      ]
     },
     "execution_count": 40,
     "metadata": {},
     "output_type": "execute_result"
    }
   ],
   "source": [
    "metadata_path.name  # Also works for a directory's name"
   ]
  },
  {
   "cell_type": "code",
   "execution_count": 41,
   "metadata": {},
   "outputs": [
    {
     "data": {
      "text/plain": [
       "'.csv'"
      ]
     },
     "execution_count": 41,
     "metadata": {},
     "output_type": "execute_result"
    }
   ],
   "source": [
    "metadata_path.suffix"
   ]
  },
  {
   "cell_type": "markdown",
   "metadata": {},
   "source": [
    "Making sure that a Path object corresponds to file / folder that exists:"
   ]
  },
  {
   "cell_type": "code",
   "execution_count": 43,
   "metadata": {},
   "outputs": [
    {
     "data": {
      "text/plain": [
       "True"
      ]
     },
     "execution_count": 43,
     "metadata": {},
     "output_type": "execute_result"
    }
   ],
   "source": [
    "metadata_path.exists()"
   ]
  },
  {
   "cell_type": "code",
   "execution_count": 44,
   "metadata": {},
   "outputs": [
    {
     "data": {
      "text/plain": [
       "False"
      ]
     },
     "execution_count": 44,
     "metadata": {},
     "output_type": "execute_result"
    }
   ],
   "source": [
    "metadata_path.is_dir()  # True if the Path is a directory"
   ]
  },
  {
   "cell_type": "code",
   "execution_count": 45,
   "metadata": {},
   "outputs": [
    {
     "data": {
      "text/plain": [
       "True"
      ]
     },
     "execution_count": 45,
     "metadata": {},
     "output_type": "execute_result"
    }
   ],
   "source": [
    "metadata_path.is_file()  # True if the Path is a file"
   ]
  },
  {
   "cell_type": "markdown",
   "metadata": {},
   "source": [
    "#### Exercise:\n",
    "Make sure that `test.txt` exists in the current working directory and is a file:"
   ]
  },
  {
   "cell_type": "code",
   "execution_count": null,
   "metadata": {},
   "outputs": [],
   "source": [
    "# TODO"
   ]
  },
  {
   "cell_type": "markdown",
   "metadata": {},
   "source": [
    "## Getting an iterator of the content of a directory\n",
    "Reminder:\n",
    "An `iterator` is a Python object representing a series of element that can be accessed using this syntax:\n",
    "```python\n",
    "for element in iterator:\n",
    "    ... # do something with element\n",
    "```\n",
    "For instance, lists are iterable (meaning their elements can be accessed using an iterator syntax):\n",
    "```python\n",
    "for element in [\"a\", 1, [1, 2, 3]]:\n",
    "    print(element)\n",
    "```\n"
   ]
  },
  {
   "cell_type": "code",
   "execution_count": 48,
   "metadata": {},
   "outputs": [
    {
     "data": {
      "text/plain": [
       "<generator object Path.iterdir at 0x7fcc186722d0>"
      ]
     },
     "execution_count": 48,
     "metadata": {},
     "output_type": "execute_result"
    }
   ],
   "source": [
    "Path.cwd().iterdir()"
   ]
  },
  {
   "cell_type": "markdown",
   "metadata": {},
   "source": [
    "#### Exercise:\n",
    "Grab the file names of all csv files in the `data` folder as strings, make sure that they exist before adding them to the `csv_file_all` list:"
   ]
  },
  {
   "cell_type": "code",
   "execution_count": null,
   "metadata": {},
   "outputs": [],
   "source": [
    "csv_file_all = []\n",
    "# TODO"
   ]
  },
  {
   "cell_type": "markdown",
   "metadata": {},
   "source": [
    "## File / folder handling"
   ]
  },
  {
   "cell_type": "markdown",
   "metadata": {},
   "source": [
    "### Creating a directory"
   ]
  },
  {
   "cell_type": "code",
   "execution_count": null,
   "metadata": {},
   "outputs": [],
   "source": [
    "# Use this method to create the directory from the Path object called path\n",
    "path.mkdir()"
   ]
  },
  {
   "cell_type": "code",
   "execution_count": 51,
   "metadata": {},
   "outputs": [
    {
     "data": {
      "text/plain": [
       "\u001b[0;31mSignature:\u001b[0m \u001b[0mPath\u001b[0m\u001b[0;34m.\u001b[0m\u001b[0mmkdir\u001b[0m\u001b[0;34m(\u001b[0m\u001b[0mself\u001b[0m\u001b[0;34m,\u001b[0m \u001b[0mmode\u001b[0m\u001b[0;34m=\u001b[0m\u001b[0;36m511\u001b[0m\u001b[0;34m,\u001b[0m \u001b[0mparents\u001b[0m\u001b[0;34m=\u001b[0m\u001b[0;32mFalse\u001b[0m\u001b[0;34m,\u001b[0m \u001b[0mexist_ok\u001b[0m\u001b[0;34m=\u001b[0m\u001b[0;32mFalse\u001b[0m\u001b[0;34m)\u001b[0m\u001b[0;34m\u001b[0m\u001b[0;34m\u001b[0m\u001b[0m\n",
       "\u001b[0;31mDocstring:\u001b[0m Create a new directory at this given path.\n",
       "\u001b[0;31mFile:\u001b[0m      ~/miniconda3/lib/python3.7/pathlib.py\n",
       "\u001b[0;31mType:\u001b[0m      function\n"
      ]
     },
     "metadata": {},
     "output_type": "display_data"
    }
   ],
   "source": [
    "# Reminder: You can access the function's documentation as follows:\n",
    "?Path.mkdir\n",
    "# Don't hesitate to consult pathlib's documentation to get more information about its arguments !"
   ]
  },
  {
   "cell_type": "markdown",
   "metadata": {},
   "source": [
    "### File operation"
   ]
  },
  {
   "cell_type": "code",
   "execution_count": 52,
   "metadata": {},
   "outputs": [
    {
     "data": {
      "text/plain": [
       "\u001b[0;31mSignature:\u001b[0m \u001b[0mshutil\u001b[0m\u001b[0;34m.\u001b[0m\u001b[0mcopy\u001b[0m\u001b[0;34m(\u001b[0m\u001b[0msrc\u001b[0m\u001b[0;34m,\u001b[0m \u001b[0mdst\u001b[0m\u001b[0;34m,\u001b[0m \u001b[0;34m*\u001b[0m\u001b[0;34m,\u001b[0m \u001b[0mfollow_symlinks\u001b[0m\u001b[0;34m=\u001b[0m\u001b[0;32mTrue\u001b[0m\u001b[0;34m)\u001b[0m\u001b[0;34m\u001b[0m\u001b[0;34m\u001b[0m\u001b[0m\n",
       "\u001b[0;31mDocstring:\u001b[0m\n",
       "Copy data and mode bits (\"cp src dst\"). Return the file's destination.\n",
       "\n",
       "The destination may be a directory.\n",
       "\n",
       "If follow_symlinks is false, symlinks won't be followed. This\n",
       "resembles GNU's \"cp -P src dst\".\n",
       "\n",
       "If source and destination are the same file, a SameFileError will be\n",
       "raised.\n",
       "\u001b[0;31mFile:\u001b[0m      ~/miniconda3/lib/python3.7/shutil.py\n",
       "\u001b[0;31mType:\u001b[0m      function\n"
      ]
     },
     "metadata": {},
     "output_type": "display_data"
    }
   ],
   "source": [
    "# File operations (e.g. copying a file) can also be performed\n",
    "# by combining pathlib's Path object with shutil\n",
    "import shutil\n",
    "?shutil.copy\n"
   ]
  },
  {
   "cell_type": "markdown",
   "metadata": {},
   "source": [
    "#### Exercise:\n",
    "Create a `test` directory in the current working directory after making sure that it doesn't already exists. Create a copy of `test.txt` in this newly created directory called `test_copy.txt`. "
   ]
  },
  {
   "cell_type": "code",
   "execution_count": null,
   "metadata": {},
   "outputs": [],
   "source": [
    "# TODO"
   ]
  },
  {
   "cell_type": "markdown",
   "metadata": {},
   "source": [
    "## File reading / writing\n",
    "Files can be created / edited and their content accessed using the `.open()` method.\n",
    "\n",
    "The most important argument here is `mode` which indicates *how* the file should be accessed, for instance (see [here](https://stackabuse.com/file-handling-in-python/) for more details):\n",
    "\n",
    "- `mode=\"r\"`: Read-only mode\n",
    "- `mode=\"w+\"`: Writing and reading\n",
    "- `mode=\"a\"`: Append new information to a file, a new file is created if one with the same name doesn't exist.\n",
    "\n",
    "N.B.: You could also simply use `open(\"path/to/file/as/string\")` but as mentioned before, pathlib's Path objects come handy when dealing with file paths."
   ]
  },
  {
   "cell_type": "code",
   "execution_count": 56,
   "metadata": {},
   "outputs": [
    {
     "data": {
      "text/plain": [
       "['Hi everyone !\\n', 'This is a small example text file.']"
      ]
     },
     "execution_count": 56,
     "metadata": {},
     "output_type": "execute_result"
    }
   ],
   "source": [
    "# You can for instance open test.txt and read its content as follows\n",
    "file_path = Path.cwd() / \"test.txt\"\n",
    "with file_path.open(mode=\"r\") as f:\n",
    "    # Inside of the with statement, f can be used to interact\n",
    "    # with the file\n",
    "    content = f.readlines()\n",
    "    \n",
    "content"
   ]
  },
  {
   "cell_type": "markdown",
   "metadata": {},
   "source": [
    "**Note:** You might be unfamiliar with this `with ... as ...` syntax, it simply guaranties that python will take care of cleanly destroying the f variable after reading the file, alternatively you can use the following code. Note that **bad things can happen if you forget to close your file after interacting with its content** which is why I recommend you to use `with` :"
   ]
  },
  {
   "cell_type": "code",
   "execution_count": 58,
   "metadata": {},
   "outputs": [
    {
     "data": {
      "text/plain": [
       "['Hi everyone !\\n', 'This is a small example text file.']"
      ]
     },
     "execution_count": 58,
     "metadata": {},
     "output_type": "execute_result"
    }
   ],
   "source": [
    "# possible but not recommended\n",
    "file_path = Path.cwd() / \"test.txt\"\n",
    "f = file_path.open(mode=\"r\") # Open the file\n",
    "content = f.readlines()\n",
    "f.close()  # WARNING don't forget to close the file\n",
    "content"
   ]
  },
  {
   "cell_type": "markdown",
   "metadata": {},
   "source": [
    "#### Exercise:\n",
    "Add a new line to  `test.txt` with the content of your choice. \n",
    "\n",
    "As always, don't hesitate to look online for code snippets that could help you (for instance [here](https://stackabuse.com/file-handling-in-python))."
   ]
  },
  {
   "cell_type": "code",
   "execution_count": null,
   "metadata": {},
   "outputs": [],
   "source": [
    "# TODO"
   ]
  }
 ],
 "metadata": {
  "kernelspec": {
   "display_name": "Python 3",
   "language": "python",
   "name": "python3"
  },
  "language_info": {
   "codemirror_mode": {
    "name": "ipython",
    "version": 3
   },
   "file_extension": ".py",
   "mimetype": "text/x-python",
   "name": "python",
   "nbconvert_exporter": "python",
   "pygments_lexer": "ipython3",
   "version": "3.7.6"
  }
 },
 "nbformat": 4,
 "nbformat_minor": 4
}
