{
 "cells": [
  {
   "cell_type": "markdown",
   "metadata": {},
   "source": [
    "# Session 10 - Object Oriented Programming\n",
    "\n",
    "## Notions of object oriented programming\n",
    "Object-oriented programming is a programming paradigm that provides a means of structuring programs so that properties and behaviors are bundled into individual objects (from [here](https://realpython.com/python3-object-oriented-programming/)).\n",
    "\n",
    "For instance, an object could represent the results from an experiment with properties like the date, the acquisition parameters, the raw data as well as have associated transformations (e.g. plot the data, compute a given features...). \n",
    "\n",
    "Just like Jourdain speaking prose all his life without knowing it, you've been doing Object Oriented Programming since the beginning ! Let see for instance the `np.ndarray` object you have been manipulating for quite some time:"
   ]
  },
  {
   "cell_type": "code",
   "execution_count": null,
   "metadata": {},
   "outputs": [],
   "source": [
    "import matplotlib.pyplot as plt\n",
    "import numpy as np"
   ]
  },
  {
   "cell_type": "code",
   "execution_count": null,
   "metadata": {},
   "outputs": [],
   "source": [
    "arr = np.array([1, 2, 3, 4, 5, 6])  # initialize an array from a list\n",
    "arr"
   ]
  },
  {
   "cell_type": "code",
   "execution_count": null,
   "metadata": {},
   "outputs": [],
   "source": [
    "arr.shape  # property/attribute of np.ndarray"
   ]
  },
  {
   "cell_type": "code",
   "execution_count": null,
   "metadata": {},
   "outputs": [],
   "source": [
    "np.reshape(arr, (3, 2))  # function that can take a np.ndarray as input"
   ]
  },
  {
   "cell_type": "code",
   "execution_count": null,
   "metadata": {},
   "outputs": [],
   "source": [
    "arr.reshape(3, 2)  # np.ndarray method"
   ]
  },
  {
   "cell_type": "code",
   "execution_count": null,
   "metadata": {},
   "outputs": [],
   "source": [
    "arr + 1  # special behavior of the \"+\" sign"
   ]
  },
  {
   "cell_type": "markdown",
   "metadata": {},
   "source": [
    "### Creating a class\n",
    "- Method called `__name__` (E.G. `__init__`, `__len__`) have special meaning in python. These are the ones allowing operations such as `+` on an object.\n",
    "- The `__init__` method in particular is called when running `ClassName(...)` and create the object.\n",
    "- The first argument of the methods of a class, traditionally called `self`, is a reference to the object itself.\n",
    "- The `property` decorator allows to get the result of a method using the property syntax (without parenthesis)."
   ]
  },
  {
   "cell_type": "code",
   "execution_count": null,
   "metadata": {},
   "outputs": [],
   "source": [
    "from matplotlib.patches import Rectangle as RectanglePlot\n",
    "\n",
    "\n",
    "class Rectangle():\n",
    "    \"Class representing a rectangle\"\n",
    "\n",
    "    def __init__(self, h, w, origin_x=0., origin_y=0.):\n",
    "        \"\"\"Instantiate a rectangle from a height, a width and an origin.\n",
    "        \n",
    "        The origin here corresponds to the bottom-left point.\n",
    "        \"\"\"\n",
    "        self.h = h  # height\n",
    "        self.w = w  # width\n",
    "        self.origin = [origin_x, origin_y]\n",
    "\n",
    "    @property\n",
    "    def area(self):\n",
    "        \"Return the area of the rectangle\"\n",
    "        return self.h * self.w    \n",
    "    \n",
    "    def translate(self, x=0., y=0.):\n",
    "        \"Translate the rectangle.\"\n",
    "        self.origin[0] += x\n",
    "        self.origin[1] += y\n",
    "    \n",
    "    def get_corners(self):\n",
    "        \"\"\"Return a list of the coordinates of the rectangle's corners.\n",
    "        \n",
    "        The coordinates are given from bottom to top then from left to right.\n",
    "        \"\"\"\n",
    "        bottom_left = self.origin\n",
    "        ... # TODO\n",
    "        return [bottom_left, bottom_right, top_left, top_right]\n",
    "    \n",
    "    def plot(self, ax=None, **kwargs):\n",
    "        if ax is None:\n",
    "            ax = plt.gca()  # grab the currently active axis\n",
    "        rect = RectanglePlot(self.origin, self.w, self.h, **kwargs)\n",
    "        ax.add_patch(rect)\n",
    "    \n",
    "    def adjust_plot_limits(self, ax):\n",
    "        \"Change the limits of an input ax to match the rectangle's dimension\"\n",
    "        # TODO\n",
    "        ax.set_xlim([..., ...])\n",
    "        ay.set_ylim([..., ...])\n"
   ]
  },
  {
   "cell_type": "code",
   "execution_count": null,
   "metadata": {},
   "outputs": [],
   "source": [
    "my_rect = Rectangle(4, 2)\n",
    "my_rect.translate(x=2)\n",
    "my_rect"
   ]
  },
  {
   "cell_type": "code",
   "execution_count": null,
   "metadata": {},
   "outputs": [],
   "source": [
    "my_rect.h"
   ]
  },
  {
   "cell_type": "code",
   "execution_count": null,
   "metadata": {},
   "outputs": [],
   "source": [
    "my_rect.origin"
   ]
  },
  {
   "cell_type": "code",
   "execution_count": null,
   "metadata": {},
   "outputs": [],
   "source": [
    "my_rect.area  # result of a method with the property syntax"
   ]
  },
  {
   "cell_type": "code",
   "execution_count": null,
   "metadata": {},
   "outputs": [],
   "source": [
    "fig, ax = plt.subplots()\n",
    "my_rect.plot(ax=ax, color=\"pink\")  # Note the kwarg passed to RectanglePlot\n",
    "# Change the limits of the x and y axis\n",
    "ax.set_xlim([0, 6])\n",
    "ax.set_ylim([-1, 5])"
   ]
  },
  {
   "cell_type": "markdown",
   "metadata": {},
   "source": [
    "**TODO**\n",
    "- Complete the method `get_corners` above so that it returns the coordinates of the four corners of the rectangle.\n",
    "- Complete `adjust_plot_limits` using the corners's coordinates so that the rectangle is visible when plotting it.\n",
    "- Add a new method called `rescale` which rescales the height and width by a common factor given as input.\n",
    "- **Optional**, create a new method called `rotate` which takes as input a center and an angle and rotate the rectangle. Adapt the plot method accordingly."
   ]
  },
  {
   "cell_type": "markdown",
   "metadata": {},
   "source": [
    "### Class inheritance\n",
    "All properties and method of a given class can be passed to a new one using the following syntax:"
   ]
  },
  {
   "cell_type": "code",
   "execution_count": null,
   "metadata": {},
   "outputs": [],
   "source": [
    "class MyCustomList(list):\n",
    "    \"Example of an extension of a numpy array\"\n",
    "    \n",
    "    def linear_transformation(self, scale, offset=0.):\n",
    "        \"Apply a linear transformation (multiply by a scale and add an offset)\"\n",
    "        return [e * scale + offset for e in self]\n",
    "    \n",
    "# Same __init__ as a list !\n",
    "l = MyCustomList([1, 2, 42])\n",
    "l"
   ]
  },
  {
   "cell_type": "code",
   "execution_count": null,
   "metadata": {},
   "outputs": [],
   "source": [
    "l.linear_transformation(3, -1)"
   ]
  },
  {
   "cell_type": "markdown",
   "metadata": {},
   "source": [
    "## Exercise: Reader for an aln file\n",
    "Using the data and functions already implemented during **session 6** (originally inspired by some content by [Antonin Affholder](https://www.ens.psl.eu/actualites/antonin-affholder), data by [Guillaume Borrel](https://research.pasteur.fr/en/member/guillaume-borrel/) from Institut Pasteur), we will create our own `class` for parsing and processing aln files. \n",
    "\n",
    "### Data loading"
   ]
  },
  {
   "cell_type": "code",
   "execution_count": null,
   "metadata": {},
   "outputs": [],
   "source": [
    "import aln_parser\n",
    "import numpy as np\n",
    "import pandas as pd\n",
    "from pathlib import Path"
   ]
  },
  {
   "cell_type": "code",
   "execution_count": null,
   "metadata": {},
   "outputs": [],
   "source": [
    "# Path to the data\n",
    "path_aln = Path.cwd() / \"data\" / \"Ftr_A.aln\"\n",
    "path_metadata = Path.cwd() / \"data\" / \"metadata.csv\"\n",
    "\n",
    "# Check that the path exists\n",
    "path_aln.exists()"
   ]
  },
  {
   "cell_type": "code",
   "execution_count": null,
   "metadata": {},
   "outputs": [],
   "source": [
    "data = aln_parser.file_parsing.load_aln_data(path_aln)\n",
    "data.head(5)"
   ]
  },
  {
   "cell_type": "code",
   "execution_count": null,
   "metadata": {},
   "outputs": [],
   "source": [
    "metadata = pd.read_csv(path_metadata)\n",
    "metadata.head(5)"
   ]
  },
  {
   "cell_type": "markdown",
   "metadata": {},
   "source": [
    "### Number of substitutions between two sequences"
   ]
  },
  {
   "cell_type": "code",
   "execution_count": null,
   "metadata": {},
   "outputs": [],
   "source": [
    "import aln_parser.substitutions"
   ]
  },
  {
   "cell_type": "code",
   "execution_count": null,
   "metadata": {},
   "outputs": [],
   "source": [
    "# 1st and 2nd columns of the dataframe\n",
    "seq1 = data.iloc[:, 0]\n",
    "seq2 = data.iloc[:, 1]\n",
    "seq1"
   ]
  },
  {
   "cell_type": "code",
   "execution_count": null,
   "metadata": {},
   "outputs": [],
   "source": [
    "aln_parser.substitutions.compute_substitution_count(seq1, seq2)"
   ]
  },
  {
   "cell_type": "markdown",
   "metadata": {},
   "source": [
    "### Substitution matrix between two sets of sequences"
   ]
  },
  {
   "cell_type": "code",
   "execution_count": null,
   "metadata": {},
   "outputs": [],
   "source": [
    "multiple_sequences_1 = data.iloc[:, :10].values.T\n",
    "multiple_sequences_2 = data.iloc[:, 10:20].values.T\n",
    "\n",
    "multiple_sequences_1"
   ]
  },
  {
   "cell_type": "code",
   "execution_count": null,
   "metadata": {},
   "outputs": [],
   "source": [
    "aln_parser.substitutions.compute_substition_matrix(multiple_sequences_1, multiple_sequences_2)"
   ]
  },
  {
   "cell_type": "markdown",
   "metadata": {},
   "source": [
    "### TODO: A class for parsing the data and visualizing a substitution matrix"
   ]
  },
  {
   "cell_type": "code",
   "execution_count": null,
   "metadata": {},
   "outputs": [],
   "source": [
    "class AlnParser():\n",
    "    \"Object used for parsing and visualizing data from an aln file.\"\n",
    "\n",
    "    def __init__(self, path):\n",
    "        \"Read an aln file and store its content as a dataframe.\"\n",
    "        self.path = path\n",
    "        # TODO\n",
    "        pass\n",
    "    \n",
    "    @property\n",
    "    def len_sequence(self):\n",
    "        \"Return the len of the amino-acid sequences.\"\n",
    "        # TODO\n",
    "        pass\n",
    "    \n",
    "    def __len__(self):\n",
    "        \"Return the number of organisms in the stored data\"\n",
    "        # TODO\n",
    "        pass\n",
    "    \n",
    "    def substitution_count(self, organism_1, organism_2):\n",
    "        \"Return the substitution count for two organisms\"\n",
    "        # TODO\n",
    "        pass\n",
    "    \n",
    "    def substitution_matrix(self, organism_1_all, organism_2_all):\n",
    "        \"Return a substitution matrix for two lists of organisms\"\n",
    "        # TODO\n",
    "        pass\n",
    "    \n",
    "    def plot_substitution_matrix(self):\n",
    "        \"Plot the substitution matrix for the data\"\n",
    "        # TODO\n",
    "        pass\n",
    "    "
   ]
  },
  {
   "cell_type": "markdown",
   "metadata": {},
   "source": [
    "## Aln file parsing script\n",
    "Copy and paste your AlnParser class in the `__init__.py` file of the aln_parser folder.\n",
    "\n",
    "Write a python script taking as input the path to an aln file and an output path, that parses an aln file and save a figure of the resulting substitution matrix at the specified output path."
   ]
  },
  {
   "cell_type": "code",
   "execution_count": null,
   "metadata": {},
   "outputs": [],
   "source": []
  }
 ],
 "metadata": {
  "kernelspec": {
   "display_name": "Python 3",
   "language": "python",
   "name": "python3"
  },
  "language_info": {
   "codemirror_mode": {
    "name": "ipython",
    "version": 3
   },
   "file_extension": ".py",
   "mimetype": "text/x-python",
   "name": "python",
   "nbconvert_exporter": "python",
   "pygments_lexer": "ipython3",
   "version": "3.7.6"
  }
 },
 "nbformat": 4,
 "nbformat_minor": 4
}
