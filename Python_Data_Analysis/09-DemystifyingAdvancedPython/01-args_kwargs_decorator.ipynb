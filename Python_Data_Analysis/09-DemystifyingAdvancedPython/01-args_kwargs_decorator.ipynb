{
 "cells": [
  {
   "cell_type": "markdown",
   "metadata": {},
   "source": [
    "# args, kwargs and decorators "
   ]
  },
  {
   "cell_type": "code",
   "execution_count": null,
   "metadata": {},
   "outputs": [],
   "source": [
    "import numpy as np\n",
    "import matplotlib.pyplot as plt\n",
    "from time import time"
   ]
  },
  {
   "cell_type": "markdown",
   "metadata": {},
   "source": [
    "# args and kwargs"
   ]
  },
  {
   "cell_type": "markdown",
   "metadata": {},
   "source": [
    "If you have opened the online documentation of a few python functions (and you should !), you might have come across something like that:\n",
    "\n",
    "![matplotlib doc](ressources/matplotlib_doc.png)"
   ]
  },
  {
   "cell_type": "markdown",
   "metadata": {},
   "source": [
    "What do `*args` *(arguments)* and `**kwargs` *(key-word arguments)* mean and how can you use them ?"
   ]
  },
  {
   "cell_type": "markdown",
   "metadata": {},
   "source": [
    "## Using `*` and `**` to unpack values\n",
    "Outside of the context of doing simple arithmetic, `*` and `**` can be used to **unpack** values, respectively from a list/tuple/... and from a dictionary. **Unpacking** means extracting the element from an object.\n",
    "\n",
    "For instance compare the results from the two following code snippets:"
   ]
  },
  {
   "cell_type": "code",
   "execution_count": null,
   "metadata": {},
   "outputs": [],
   "source": [
    "my_small_list = [1, 2, 5]\n",
    "\n",
    "[my_small_list, 6, 7]"
   ]
  },
  {
   "cell_type": "code",
   "execution_count": null,
   "metadata": {},
   "outputs": [],
   "source": [
    "[*my_small_list, 6, 7]"
   ]
  },
  {
   "cell_type": "markdown",
   "metadata": {},
   "source": [
    "#### Exercise\n",
    "Combine the two following dictionaries using value unpacking (note: there are other ways to do that, E.G. `dict1.update(dict2)`)."
   ]
  },
  {
   "cell_type": "code",
   "execution_count": null,
   "metadata": {},
   "outputs": [],
   "source": [
    "dict1 = {\"my_first_key\": 0, \"my_second_key\": 1}\n",
    "dict2 = {\"my_third_key\": 2}\n",
    "# TODO"
   ]
  },
  {
   "cell_type": "markdown",
   "metadata": {},
   "source": [
    "## Looking into args and kwargs from a function\n",
    "Let's write our first function using **args** and **kwargs**:"
   ]
  },
  {
   "cell_type": "code",
   "execution_count": null,
   "metadata": {},
   "outputs": [],
   "source": [
    "def f(*args, **kwargs):\n",
    "    \"A dummy function taking args and kwargs\"\n",
    "    print(\"args:\")\n",
    "    print(args)\n",
    "    print(\"args is of type: \", type(args))\n",
    "    print(\"\\nkwargs:\")\n",
    "    print(kwargs)\n",
    "    print(\"kwargs is of type: \", type(kwargs))\n",
    "\n",
    "f(1, 2, 3, a=42)"
   ]
  },
  {
   "cell_type": "markdown",
   "metadata": {},
   "source": [
    "## Using args and kwargs to allow a function to take variable length argument\n",
    "One of the main use of `args` and `kwargs` is to allow a function to take variable length argument.\n",
    "\n",
    "#### Exercise:\n",
    "Modify the `compute_sum` function so that it works for any number (including 0) of arguments:"
   ]
  },
  {
   "cell_type": "code",
   "execution_count": null,
   "metadata": {},
   "outputs": [],
   "source": [
    "def compute_sum(x, y):\n",
    "    \"Return the sum of the inputs\"\n",
    "    return x + y\n",
    "\n",
    "compute_sum(1, 2)"
   ]
  },
  {
   "cell_type": "code",
   "execution_count": null,
   "metadata": {},
   "outputs": [],
   "source": [
    "# This should work with your new function\n",
    "compute_sum(1, 2, 3)"
   ]
  },
  {
   "cell_type": "markdown",
   "metadata": {},
   "source": [
    "## Passing arguments to a function\n",
    "Another useful use of `*args` and `**kwargs` is to use them to pass arguments or key-word argument to another function.\n",
    "\n",
    "#### Exercise:\n",
    "Modify the following function so that additional key-word arguments (color, linewidth...) can be passed to matplotlib's plot function, without explicitely defining them in `my_plotting_function`."
   ]
  },
  {
   "cell_type": "code",
   "execution_count": null,
   "metadata": {},
   "outputs": [],
   "source": [
    "x = np.linspace(0, 4, 100)\n",
    "y = x**2\n",
    "my_title = \"This is a beautiful title\"\n",
    "\n",
    "def my_plotting_function(x, y, title=None):\n",
    "    \"Plot x versus y with a custom title\"\n",
    "    fig, ax = plt.subplots()\n",
    "    ax.plot(x, y)\n",
    "    ax.set_title(title)\n",
    "    return fig, ax\n",
    "\n",
    "fig, ax = my_plotting_function(x, y, title=my_title)"
   ]
  },
  {
   "cell_type": "code",
   "execution_count": null,
   "metadata": {},
   "outputs": [],
   "source": [
    "fig, ax = my_plotting_function(x, y, title=my_title, linewidth=12)"
   ]
  },
  {
   "cell_type": "markdown",
   "metadata": {},
   "source": [
    "# Decorators\n",
    "## Returning a function from a function\n",
    "Functions can be used just like any other python object, and for instance be the return value of a function:"
   ]
  },
  {
   "cell_type": "code",
   "execution_count": null,
   "metadata": {},
   "outputs": [],
   "source": [
    "def g():\n",
    "    \"Return a function which simply add one to its inputs\"\n",
    "\n",
    "    def f(x):\n",
    "        \"Return x + 1\"\n",
    "        return x + 1\n",
    "    \n",
    "    return f\n",
    "\n",
    "type(g())"
   ]
  },
  {
   "cell_type": "code",
   "execution_count": null,
   "metadata": {},
   "outputs": [],
   "source": [
    "f = g()\n",
    "f(4)"
   ]
  },
  {
   "cell_type": "markdown",
   "metadata": {},
   "source": [
    "#### Exercise\n",
    "Use the previous example to create a function generator whose output is x + n, where n is an argument of g "
   ]
  },
  {
   "cell_type": "code",
   "execution_count": null,
   "metadata": {},
   "outputs": [],
   "source": []
  },
  {
   "cell_type": "markdown",
   "metadata": {},
   "source": [
    "## Taking a function as input\n",
    "Functions can also be the inputs of functions !"
   ]
  },
  {
   "cell_type": "code",
   "execution_count": null,
   "metadata": {},
   "outputs": [],
   "source": [
    "def f():\n",
    "    \"Dummy example, simply print a message\"\n",
    "    print(\"f was called !\")\n",
    "\n",
    "def g(f):\n",
    "    \"Dummy example function run f and return True\"\n",
    "    f()\n",
    "    return True\n",
    "    \n",
    "g(f)"
   ]
  },
  {
   "cell_type": "markdown",
   "metadata": {},
   "source": [
    "## Return a modified version of an input function"
   ]
  },
  {
   "cell_type": "code",
   "execution_count": null,
   "metadata": {},
   "outputs": [],
   "source": [
    "from time import time\n",
    "time()"
   ]
  },
  {
   "cell_type": "code",
   "execution_count": null,
   "metadata": {},
   "outputs": [],
   "source": [
    "def display_execution_time(f):\n",
    "    \"Return a modified version of the input function which print the execution time\"\n",
    "    \n",
    "    def g(TODO):\n",
    "        \"Modified function of f, print the execution time and return f's output\"\n",
    "        # TODO\n",
    "        return ...\n",
    "    # Return the modified version of f\n",
    "    return g"
   ]
  },
  {
   "cell_type": "code",
   "execution_count": null,
   "metadata": {},
   "outputs": [],
   "source": [
    "sum_with_timer = display_execution_time(np.sum)\n",
    "sum_with_timer(np.arange(42))"
   ]
  },
  {
   "cell_type": "markdown",
   "metadata": {},
   "source": [
    "## Using `@` to decorate a function\n",
    "`@` can directly be used when defining a function, in this case the function returning a modified version of its input is called a `decorator`."
   ]
  },
  {
   "cell_type": "code",
   "execution_count": null,
   "metadata": {},
   "outputs": [],
   "source": [
    "@display_execution_time\n",
    "def dummy_function():\n",
    "    \"Simply return 0\"\n",
    "    return 0\n",
    "\n",
    "dummy_function()"
   ]
  },
  {
   "cell_type": "code",
   "execution_count": null,
   "metadata": {},
   "outputs": [],
   "source": []
  }
 ],
 "metadata": {
  "kernelspec": {
   "display_name": "Python 3",
   "language": "python",
   "name": "python3"
  },
  "language_info": {
   "codemirror_mode": {
    "name": "ipython",
    "version": 3
   },
   "file_extension": ".py",
   "mimetype": "text/x-python",
   "name": "python",
   "nbconvert_exporter": "python",
   "pygments_lexer": "ipython3",
   "version": "3.7.6"
  }
 },
 "nbformat": 4,
 "nbformat_minor": 4
}
