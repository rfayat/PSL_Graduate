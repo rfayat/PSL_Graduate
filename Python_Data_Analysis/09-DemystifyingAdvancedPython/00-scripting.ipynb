{
 "cells": [
  {
   "cell_type": "markdown",
   "id": "contemporary-fraud",
   "metadata": {},
   "source": [
    "# Scripting\n",
    "\n",
    "## Running .py file\n",
    "Python code can be written in a `.py` file and executed as follows:\n",
    "\n",
    "```bash\n",
    "$ python path/to/file.py\n",
    "```\n",
    "\n",
    "Or (without the `.py` extension):\n",
    "```bash\n",
    "$ python -m path.to.file\n",
    "```\n",
    "\n",
    "Equivalently, from a jupyter notebook, the `!` magic command allows you to run commands as you would from a console as follows:"
   ]
  },
  {
   "cell_type": "code",
   "execution_count": null,
   "id": "extensive-opinion",
   "metadata": {},
   "outputs": [],
   "source": [
    "!python -m scripts.cwd"
   ]
  },
  {
   "cell_type": "markdown",
   "id": "unable-mozambique",
   "metadata": {},
   "source": [
    "Take a look at the file stored in `scripts/cwd.py` to see its content."
   ]
  },
  {
   "cell_type": "markdown",
   "id": "departmental-electric",
   "metadata": {},
   "source": [
    "## Using argparse\n",
    "The `argparse` module allows you to very easily pass and parse arguments to a python script directly from the command line.\n",
    "\n",
    "**TODO**\n",
    "Inspect the content of `scripts/sum.py` and try to use the script."
   ]
  },
  {
   "cell_type": "markdown",
   "id": "athletic-century",
   "metadata": {},
   "source": [
    "### A few tips with argparse\n",
    "#### Displaying the documentation of a script when calling help\n",
    "\n",
    "```python\n",
    "parser = argparse.ArgumentParser(__doc__)  # Show the doc when calling help\n",
    "```"
   ]
  },
  {
   "cell_type": "code",
   "execution_count": null,
   "id": "apart-breath",
   "metadata": {},
   "outputs": [],
   "source": [
    "# Example:\n",
    "!python -m scripts.sum --help"
   ]
  },
  {
   "cell_type": "markdown",
   "id": "mysterious-cuisine",
   "metadata": {},
   "source": [
    "#### Using a path as argument\n",
    "```python\n",
    "from pathlib import Path\n",
    "parser.add_argument(\"-p\", \"--my_path\",\n",
    "                    type=lambda x: Path(x),\n",
    "                    help=\"Path to the data directory\")\n",
    "```"
   ]
  },
  {
   "cell_type": "markdown",
   "id": "amended-lounge",
   "metadata": {},
   "source": [
    "### Setting a value based on a flag\n",
    "\n",
    "```python\n",
    "parser.add_argument(\n",
    "    \"--flag\", dest=\"my_flag\", action=\"store_const\",\n",
    "    const=True, default=False,\n",
    "    help=\"If --flag is provided, my_flag is set to True, else to False.\")\n",
    "```"
   ]
  },
  {
   "cell_type": "markdown",
   "id": "hawaiian-snowboard",
   "metadata": {},
   "source": [
    "## Importing from python files\n",
    "You can import functions / variables from .py files using the files / folder name, `.` being used to indicate a subfolder.\n",
    "\n",
    "**Warning**: Make sure to create an empty `__init__.py` in a directory containing python files from which you will import code, it is used to mark directories on disk as Python package directories."
   ]
  },
  {
   "cell_type": "code",
   "execution_count": null,
   "id": "metallic-estonia",
   "metadata": {},
   "outputs": [],
   "source": [
    "import scripts.print_string"
   ]
  },
  {
   "cell_type": "code",
   "execution_count": null,
   "id": "naval-homeless",
   "metadata": {},
   "outputs": [],
   "source": [
    "scripts.print_string.MY_STRING"
   ]
  },
  {
   "cell_type": "code",
   "execution_count": null,
   "id": "round-charity",
   "metadata": {},
   "outputs": [],
   "source": [
    "! python -m scripts.print_string"
   ]
  },
  {
   "cell_type": "markdown",
   "id": "increasing-cameroon",
   "metadata": {},
   "source": [
    "Take a look at `scripts/print_string.py` and note the effect of the `if __name__ == \"__main__:` line."
   ]
  }
 ],
 "metadata": {
  "kernelspec": {
   "display_name": "Python 3",
   "language": "python",
   "name": "python3"
  },
  "language_info": {
   "codemirror_mode": {
    "name": "ipython",
    "version": 3
   },
   "file_extension": ".py",
   "mimetype": "text/x-python",
   "name": "python",
   "nbconvert_exporter": "python",
   "pygments_lexer": "ipython3",
   "version": "3.7.6"
  }
 },
 "nbformat": 4,
 "nbformat_minor": 5
}
