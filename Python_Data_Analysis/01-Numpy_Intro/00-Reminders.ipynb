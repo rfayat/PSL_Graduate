{
 "cells": [
  {
   "cell_type": "markdown",
   "metadata": {},
   "source": [
    "# A few complements following the first lecture\n",
    "## Your weapons for solving issues\n",
    "- Inspect individual variables\n",
    "- Read error messages\n",
    "- Use humanity's knowledge (a.k.a. google / stackoverflow)\n",
    "- Don't hesitate to look at the documentation"
   ]
  },
  {
   "cell_type": "code",
   "execution_count": null,
   "metadata": {},
   "outputs": [],
   "source": [
    "# In general you can print the documentation of an object like this\n",
    "help(str.find)"
   ]
  },
  {
   "cell_type": "code",
   "execution_count": null,
   "metadata": {},
   "outputs": [],
   "source": [
    "# In jupyter, this also works:\n",
    "?str.find"
   ]
  },
  {
   "cell_type": "markdown",
   "metadata": {},
   "source": [
    "### Exercises\n",
    "Correct the following code snippets:"
   ]
  },
  {
   "cell_type": "code",
   "execution_count": null,
   "metadata": {},
   "outputs": [],
   "source": [
    "my_string = \"Hello World\"\n",
    "\n",
    "selected_letter = my_string(1)\n",
    "\n",
    "print(f\"{selected_letter} is the 1st letter of {my_string}\")"
   ]
  },
  {
   "cell_type": "code",
   "execution_count": null,
   "metadata": {},
   "outputs": [],
   "source": [
    "def get_sum(a, b)\n",
    "    \"Return the sum of a and b\"\n",
    "   return a + b\n",
    "\n",
    "get_sum(1, 2)"
   ]
  },
  {
   "cell_type": "code",
   "execution_count": null,
   "metadata": {
    "scrolled": true
   },
   "outputs": [],
   "source": [
    "# print 1, 2, 3\n",
    "for i in range(3):\n",
    "    print i"
   ]
  },
  {
   "cell_type": "code",
   "execution_count": null,
   "metadata": {},
   "outputs": [],
   "source": [
    "integer_to_test = 2\n",
    "\n",
    "if integer_to_test == 0 or 1:\n",
    "    print(\"This integer's value is 0 or 1\")"
   ]
  },
  {
   "cell_type": "markdown",
   "metadata": {},
   "source": [
    "### Good practices for improving your code\n",
    "Writting clean code will save you tremendous amounts of time when coding by making troubleshooting much more straightforward and by improving code reusability.\n",
    "\n",
    "![documenting meme](https://dmbeskow.github.io/images/2018-12-31-twitterCol1/meme1.png)\n",
    "\n",
    "A few advices in this direction (adapted from [Clean Code by Robert C.Martin](https://www.amazon.com/Clean-Code-Handbook-Software-Craftsmanship/dp/0132350882)):\n",
    "- Use meaningful variable names, with a consistent writting convention (E.G. in [snake_case](https://en.wikipedia.org/wiki/Snake_case))\n",
    "- Use comments to explain what your intent is when coding\n",
    "- Keep functions short and documented"
   ]
  },
  {
   "cell_type": "markdown",
   "metadata": {},
   "source": [
    "Here is how to document a function:"
   ]
  },
  {
   "cell_type": "code",
   "execution_count": null,
   "metadata": {},
   "outputs": [],
   "source": [
    "def f():\n",
    "    \"This is a short description of what f does\"\n",
    "    print(\"Hello\")\n",
    "\n",
    "def g(x, y, z=0):\n",
    "    \"\"\"This is a short summary of what g does.\n",
    "    \n",
    "    Additional explanations can go here, you can for instance give more\n",
    "    information about the parameters:\n",
    "    \n",
    "    Parameters\n",
    "    ----------\n",
    "    x, a first argument\n",
    "    y, a second argument\n",
    "    z, a third argument (optional, default: 0)\n",
    "    \n",
    "    \"\"\"\n",
    "    return x + y + z"
   ]
  },
  {
   "cell_type": "code",
   "execution_count": null,
   "metadata": {},
   "outputs": [],
   "source": [
    "# You can even access the documentation of your custom functions !\n",
    "help(g)"
   ]
  },
  {
   "cell_type": "markdown",
   "metadata": {},
   "source": [
    "**Example**, Both cells below lead to the same result:"
   ]
  },
  {
   "cell_type": "code",
   "execution_count": null,
   "metadata": {},
   "outputs": [],
   "source": [
    "L = [1., 1.5, 2., 2.5, 3.]\n",
    "O = []\n",
    "for i in range(len(L)):\n",
    "    O.append(3.14159 * L[i] ** 2)\n",
    "\n",
    "print(O)"
   ]
  },
  {
   "cell_type": "code",
   "execution_count": null,
   "metadata": {
    "scrolled": true
   },
   "outputs": [],
   "source": [
    "def compute_circle_area(radius):\n",
    "    \"Compute the area of a circle given its radius\"\n",
    "    pi = 3.14159  # Approximate value of pi\n",
    "    return pi * radius ** 2\n",
    "\n",
    "area_all = []\n",
    "radius_all = [1., 1.5, 2., 2.5, 3.]\n",
    "\n",
    "# Loop over all radii and append the corresponding area to area_all\n",
    "for radius in radius_all:\n",
    "    area = compute_circle_area(radius)\n",
    "    area_all.append(area)\n",
    "\n",
    "print(area_all)"
   ]
  },
  {
   "cell_type": "markdown",
   "metadata": {},
   "source": [
    "If you are already familiar with object oriented programming, you can also define a Circle class, initialized from a radius and having `area` as one of its properties.\n",
    "\n",
    "For documenting larger functions you can have a look at [numpy style docstring](https://sphinxcontrib-napoleon.readthedocs.io/en/latest/example_numpy.html)."
   ]
  },
  {
   "cell_type": "markdown",
   "metadata": {},
   "source": [
    "**Exercise:** Make the following code, which gets the first letter of each word in a string, more readable.:"
   ]
  },
  {
   "cell_type": "code",
   "execution_count": null,
   "metadata": {},
   "outputs": [],
   "source": [
    "A = \"You Only Live  Once ! \"  # input phrase\n",
    "O = []\n",
    "\n",
    "for e in \"!?.-,;.\":\n",
    "    A = A.replace(e, \"\")\n",
    "\n",
    "i = 0\n",
    "A = \" \" + A  # add \"_\" at the beginning of the input phrase\n",
    "while i < len(A) - 1:\n",
    "    if A[i] == \" \":\n",
    "        if A[i + 1] != \" \":\n",
    "            O.append(A[i + 1])\n",
    "    i += 1  # Add 1 to i\n",
    "    \n",
    "print(O)"
   ]
  },
  {
   "cell_type": "code",
   "execution_count": null,
   "metadata": {},
   "outputs": [],
   "source": [
    "# Your turn !\n"
   ]
  }
 ],
 "metadata": {
  "kernelspec": {
   "display_name": "Python 3",
   "language": "python",
   "name": "python3"
  },
  "language_info": {
   "codemirror_mode": {
    "name": "ipython",
    "version": 3
   },
   "file_extension": ".py",
   "mimetype": "text/x-python",
   "name": "python",
   "nbconvert_exporter": "python",
   "pygments_lexer": "ipython3",
   "version": "3.7.6"
  }
 },
 "nbformat": 4,
 "nbformat_minor": 4
}
