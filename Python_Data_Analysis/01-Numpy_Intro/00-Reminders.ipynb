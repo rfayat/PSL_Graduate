{
 "cells": [
  {
   "cell_type": "markdown",
   "metadata": {},
   "source": [
    "# A few complements following the first lecture\n",
    "## Your weapons for solving issues\n",
    "### The main tools for troubleshooting\n",
    "- Inspect individual variables\n",
    "- Read error messages\n",
    "- Use humanity's knowledge (a.k.a. google / stackoverflow)\n",
    "- Don't hesitate to look at the documentation"
   ]
  },
  {
   "cell_type": "code",
   "execution_count": 29,
   "metadata": {},
   "outputs": [
    {
     "name": "stdout",
     "output_type": "stream",
     "text": [
      "Help on method_descriptor:\n",
      "\n",
      "find(...)\n",
      "    S.find(sub[, start[, end]]) -> int\n",
      "    \n",
      "    Return the lowest index in S where substring sub is found,\n",
      "    such that sub is contained within S[start:end].  Optional\n",
      "    arguments start and end are interpreted as in slice notation.\n",
      "    \n",
      "    Return -1 on failure.\n",
      "\n"
     ]
    }
   ],
   "source": [
    "# In general you can print the documentation of an object like this\n",
    "help(str.find)"
   ]
  },
  {
   "cell_type": "code",
   "execution_count": 30,
   "metadata": {},
   "outputs": [
    {
     "data": {
      "text/plain": [
       "\u001b[0;31mDocstring:\u001b[0m\n",
       "S.find(sub[, start[, end]]) -> int\n",
       "\n",
       "Return the lowest index in S where substring sub is found,\n",
       "such that sub is contained within S[start:end].  Optional\n",
       "arguments start and end are interpreted as in slice notation.\n",
       "\n",
       "Return -1 on failure.\n",
       "\u001b[0;31mType:\u001b[0m      method_descriptor\n"
      ]
     },
     "metadata": {},
     "output_type": "display_data"
    }
   ],
   "source": [
    "# In jupyter, this also works:\n",
    "?str.find"
   ]
  },
  {
   "cell_type": "markdown",
   "metadata": {},
   "source": [
    "### Exercises\n",
    "Correct the following code snippets:"
   ]
  },
  {
   "cell_type": "code",
   "execution_count": 14,
   "metadata": {},
   "outputs": [
    {
     "ename": "TypeError",
     "evalue": "'str' object is not callable",
     "output_type": "error",
     "traceback": [
      "\u001b[0;31m---------------------------------------------------------------------------\u001b[0m",
      "\u001b[0;31mTypeError\u001b[0m                                 Traceback (most recent call last)",
      "\u001b[0;32m<ipython-input-14-d9d5f1912a6d>\u001b[0m in \u001b[0;36m<module>\u001b[0;34m\u001b[0m\n\u001b[1;32m      1\u001b[0m \u001b[0mmy_string\u001b[0m \u001b[0;34m=\u001b[0m \u001b[0;34m\"Hello World\"\u001b[0m\u001b[0;34m\u001b[0m\u001b[0;34m\u001b[0m\u001b[0m\n\u001b[1;32m      2\u001b[0m \u001b[0;34m\u001b[0m\u001b[0m\n\u001b[0;32m----> 3\u001b[0;31m \u001b[0mselected_letter\u001b[0m \u001b[0;34m=\u001b[0m \u001b[0mmy_string\u001b[0m\u001b[0;34m(\u001b[0m\u001b[0;36m1\u001b[0m\u001b[0;34m)\u001b[0m\u001b[0;34m\u001b[0m\u001b[0;34m\u001b[0m\u001b[0m\n\u001b[0m\u001b[1;32m      4\u001b[0m \u001b[0;34m\u001b[0m\u001b[0m\n\u001b[1;32m      5\u001b[0m \u001b[0mprint\u001b[0m\u001b[0;34m(\u001b[0m\u001b[0;34mf\"{selected_letter} is the 1st letter of {my_string}\"\u001b[0m\u001b[0;34m)\u001b[0m\u001b[0;34m\u001b[0m\u001b[0;34m\u001b[0m\u001b[0m\n",
      "\u001b[0;31mTypeError\u001b[0m: 'str' object is not callable"
     ]
    }
   ],
   "source": [
    "my_string = \"Hello World\"\n",
    "\n",
    "selected_letter = my_string(1)\n",
    "\n",
    "print(f\"{selected_letter} is the 1st letter of {my_string}\")"
   ]
  },
  {
   "cell_type": "code",
   "execution_count": 19,
   "metadata": {},
   "outputs": [
    {
     "ename": "IndentationError",
     "evalue": "unindent does not match any outer indentation level (<tokenize>, line 3)",
     "output_type": "error",
     "traceback": [
      "\u001b[0;36m  File \u001b[0;32m\"<tokenize>\"\u001b[0;36m, line \u001b[0;32m3\u001b[0m\n\u001b[0;31m    return a + b\u001b[0m\n\u001b[0m    ^\u001b[0m\n\u001b[0;31mIndentationError\u001b[0m\u001b[0;31m:\u001b[0m unindent does not match any outer indentation level\n"
     ]
    }
   ],
   "source": [
    "def get_sum(a, b)\n",
    "    \"Return the sum of a and b\"\n",
    "   return a + b\n",
    "\n",
    "get_sum(1, 2)"
   ]
  },
  {
   "cell_type": "code",
   "execution_count": 22,
   "metadata": {},
   "outputs": [
    {
     "ename": "SyntaxError",
     "evalue": "Missing parentheses in call to 'print'. Did you mean print(i)? (<ipython-input-22-6958b2341101>, line 3)",
     "output_type": "error",
     "traceback": [
      "\u001b[0;36m  File \u001b[0;32m\"<ipython-input-22-6958b2341101>\"\u001b[0;36m, line \u001b[0;32m3\u001b[0m\n\u001b[0;31m    print i\u001b[0m\n\u001b[0m          ^\u001b[0m\n\u001b[0;31mSyntaxError\u001b[0m\u001b[0;31m:\u001b[0m Missing parentheses in call to 'print'. Did you mean print(i)?\n"
     ]
    }
   ],
   "source": [
    "# print 1, 2, 3\n",
    "for i in range(3):\n",
    "    print i"
   ]
  },
  {
   "cell_type": "code",
   "execution_count": 8,
   "metadata": {},
   "outputs": [
    {
     "name": "stdout",
     "output_type": "stream",
     "text": [
      "This integer's value is 0 or 1\n"
     ]
    }
   ],
   "source": [
    "integer_to_test = 2\n",
    "\n",
    "if integer_to_test == 0 or 1:\n",
    "    print(\"This integer's value is 0 or 1\")"
   ]
  },
  {
   "cell_type": "markdown",
   "metadata": {},
   "source": [
    "### Good practices for improving your code\n",
    "Writting clean code will save you tremendous amounts of time when coding by making troubleshooting much more straightforward and by improving code reusability.\n",
    "\n",
    "![documenting meme](https://dmbeskow.github.io/images/2018-12-31-twitterCol1/meme1.png)\n",
    "\n",
    "A few advices in this direction (adapted from [Clean Code by Robert C.Martin](https://www.amazon.com/Clean-Code-Handbook-Software-Craftsmanship/dp/0132350882)):\n",
    "- Use meaningful variable names, with a consistent writting convention (E.G. in [snake_case](https://en.wikipedia.org/wiki/Snake_case))\n",
    "- Use comments to explain what your intent is when coding\n",
    "- Keep functions short and documented\n",
    "\n",
    "**Example**, Both cells below lead to the same result:"
   ]
  },
  {
   "cell_type": "code",
   "execution_count": 2,
   "metadata": {},
   "outputs": [
    {
     "name": "stdout",
     "output_type": "stream",
     "text": [
      "[3.14159, 7.0685775, 12.56636, 19.6349375, 28.27431]\n"
     ]
    }
   ],
   "source": [
    "L = [1., 1.5, 2., 2.5, 3.]\n",
    "O = []\n",
    "for i in range(len(L)):\n",
    "    O.append(3.14159 * L[i] ** 2)\n",
    "\n",
    "print(O)"
   ]
  },
  {
   "cell_type": "code",
   "execution_count": 31,
   "metadata": {},
   "outputs": [
    {
     "name": "stdout",
     "output_type": "stream",
     "text": [
      "[3.14159, 7.0685775, 12.56636, 19.6349375, 28.27431]\n"
     ]
    }
   ],
   "source": [
    "def compute_circle_area(radius):\n",
    "    \"Compute the area of a circle given its radius\"\n",
    "    pi = 3.14159  # Approximate value of pi\n",
    "    return pi * radius ** 2\n",
    "\n",
    "area_all = []\n",
    "radius_all = [1., 1.5, 2., 2.5, 3.]\n",
    "\n",
    "# Loop over all radii and append the corresponding area to area_all\n",
    "for radius in radius_all:\n",
    "    area = compute_circle_area(radius)\n",
    "    area_all.append(area)\n",
    "\n",
    "print(area_all)"
   ]
  },
  {
   "cell_type": "code",
   "execution_count": 7,
   "metadata": {},
   "outputs": [
    {
     "data": {
      "text/plain": [
       "\u001b[0;31mSignature:\u001b[0m \u001b[0mcompute_circle_area\u001b[0m\u001b[0;34m(\u001b[0m\u001b[0mradius\u001b[0m\u001b[0;34m)\u001b[0m\u001b[0;34m\u001b[0m\u001b[0;34m\u001b[0m\u001b[0m\n",
       "\u001b[0;31mDocstring:\u001b[0m Compute the area of a circle given its radius\n",
       "\u001b[0;31mFile:\u001b[0m      ~/Documents/python_course/PSL_Graduate/Python_Data_Analysis/01-Numpy_Intro/<ipython-input-4-6c838e0f8c1e>\n",
       "\u001b[0;31mType:\u001b[0m      function\n"
      ]
     },
     "metadata": {},
     "output_type": "display_data"
    }
   ],
   "source": [
    "# You can even access the documentation of your custom functions !\n",
    "?compute_circle_area"
   ]
  },
  {
   "cell_type": "markdown",
   "metadata": {},
   "source": [
    "If you are already familiar with object oriented programming, you can also define a Circle class, initialized from a radius and having `area` as one of its properties.\n",
    "\n",
    "For documenting larger functions you can have a look at [numpy style docstring](https://sphinxcontrib-napoleon.readthedocs.io/en/latest/example_numpy.html).\n",
    "\n",
    "**Exercise:** Make the following code, which gets the first letter of each word in a string, more readable:"
   ]
  },
  {
   "cell_type": "code",
   "execution_count": 13,
   "metadata": {},
   "outputs": [
    {
     "name": "stdout",
     "output_type": "stream",
     "text": [
      "['Y', 'O', 'L', 'O']\n"
     ]
    }
   ],
   "source": [
    "A = \"You Only Live  Once \"\n",
    "O = []\n",
    "\n",
    "i = 0\n",
    "A = \" \" + A\n",
    "while i < len(A) - 1:\n",
    "    if A[i] == \" \":\n",
    "        if A[i + 1] != \" \":\n",
    "            O.append(A[i + 1])\n",
    "    i += 1\n",
    "    \n",
    "print(O)"
   ]
  }
 ],
 "metadata": {
  "kernelspec": {
   "display_name": "Python 3",
   "language": "python",
   "name": "python3"
  },
  "language_info": {
   "codemirror_mode": {
    "name": "ipython",
    "version": 3
   },
   "file_extension": ".py",
   "mimetype": "text/x-python",
   "name": "python",
   "nbconvert_exporter": "python",
   "pygments_lexer": "ipython3",
   "version": "3.7.6"
  }
 },
 "nbformat": 4,
 "nbformat_minor": 4
}
