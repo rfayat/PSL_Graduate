{
 "cells": [
  {
   "cell_type": "markdown",
   "metadata": {
    "slideshow": {
     "slide_type": "slide"
    }
   },
   "source": [
    "# A few complements following the first lecture\n",
    "## Your weapons for solving issues\n",
    "- Inspect individual variables\n",
    "- Autocompletion\n",
    "- Read error messages\n",
    "- Use humanity's knowledge (a.k.a. google / stackoverflow)\n",
    "- Don't hesitate to look at the documentation"
   ]
  },
  {
   "cell_type": "code",
   "execution_count": 1,
   "metadata": {
    "slideshow": {
     "slide_type": "slide"
    }
   },
   "outputs": [
    {
     "name": "stdout",
     "output_type": "stream",
     "text": [
      "Help on method_descriptor:\n",
      "\n",
      "find(...)\n",
      "    S.find(sub[, start[, end]]) -> int\n",
      "    \n",
      "    Return the lowest index in S where substring sub is found,\n",
      "    such that sub is contained within S[start:end].  Optional\n",
      "    arguments start and end are interpreted as in slice notation.\n",
      "    \n",
      "    Return -1 on failure.\n",
      "\n"
     ]
    }
   ],
   "source": [
    "# In general you can print the documentation of an object/function like this\n",
    "help(str.find)"
   ]
  },
  {
   "cell_type": "code",
   "execution_count": 2,
   "metadata": {},
   "outputs": [],
   "source": [
    "# In jupyter, this also works:\n",
    "?str.find"
   ]
  },
  {
   "cell_type": "code",
   "execution_count": 3,
   "metadata": {},
   "outputs": [
    {
     "data": {
      "text/plain": [
       "'azerty'"
      ]
     },
     "execution_count": 3,
     "metadata": {},
     "output_type": "execute_result"
    }
   ],
   "source": [
    "a = \"azerty\"\n",
    "a.²"
   ]
  },
  {
   "cell_type": "markdown",
   "metadata": {
    "slideshow": {
     "slide_type": "slide"
    }
   },
   "source": [
    "### Exercises\n",
    "Correct the following code snippets:"
   ]
  },
  {
   "cell_type": "code",
   "execution_count": 6,
   "metadata": {
    "scrolled": false
   },
   "outputs": [
    {
     "name": "stdout",
     "output_type": "stream",
     "text": [
      "H is the 1st letter of Hello World\n"
     ]
    }
   ],
   "source": [
    "my_string = \"Hello World\"\n",
    "\n",
    "selected_letter = my_string[0]\n",
    "\n",
    "print(f\"{selected_letter} is the 1st letter of {my_string}\")"
   ]
  },
  {
   "cell_type": "code",
   "execution_count": 10,
   "metadata": {
    "slideshow": {
     "slide_type": "slide"
    }
   },
   "outputs": [
    {
     "data": {
      "text/plain": [
       "3"
      ]
     },
     "execution_count": 10,
     "metadata": {},
     "output_type": "execute_result"
    }
   ],
   "source": [
    "def get_sum(a, b):\n",
    "    \"Return the sum of a and b\"\n",
    "    return a + b\n",
    "\n",
    "get_sum(1, 2)"
   ]
  },
  {
   "cell_type": "code",
   "execution_count": 15,
   "metadata": {
    "scrolled": true,
    "slideshow": {
     "slide_type": "slide"
    }
   },
   "outputs": [
    {
     "name": "stdout",
     "output_type": "stream",
     "text": [
      "1\n",
      "2\n",
      "3\n"
     ]
    }
   ],
   "source": [
    "# print 1, 2, 3\n",
    "for i in range(1, 4):\n",
    "    print(i)\n"
   ]
  },
  {
   "cell_type": "code",
   "execution_count": 22,
   "metadata": {
    "scrolled": true,
    "slideshow": {
     "slide_type": "slide"
    }
   },
   "outputs": [],
   "source": [
    "integer_to_test = 2\n",
    "\n",
    "if integer_to_test == 0 or integer_to_test == 1:\n",
    "     print(\"This integer's value is 0 or 1\")"
   ]
  },
  {
   "cell_type": "markdown",
   "metadata": {
    "slideshow": {
     "slide_type": "slide"
    }
   },
   "source": [
    "### Good practices for improving your code\n",
    "Writting clean code will save you tremendous amounts of time when coding by making troubleshooting much more straightforward and by improving code reusability.\n",
    "\n",
    "![documenting meme](https://dmbeskow.github.io/images/2018-12-31-twitterCol1/meme1.png)\n",
    "\n",
    "A few advices in this direction (adapted from [Clean Code by Robert C.Martin](https://www.amazon.com/Clean-Code-Handbook-Software-Craftsmanship/dp/0132350882)):\n",
    "- Use meaningful variable names, with a consistent writting convention (E.G. in [snake_case](https://en.wikipedia.org/wiki/Snake_case))\n",
    "- Use comments to explain what your intent is when coding\n",
    "- Keep functions short and documented"
   ]
  },
  {
   "cell_type": "markdown",
   "metadata": {
    "slideshow": {
     "slide_type": "slide"
    }
   },
   "source": [
    "Here is how to document a function:"
   ]
  },
  {
   "cell_type": "code",
   "execution_count": 24,
   "metadata": {},
   "outputs": [],
   "source": [
    "def f():\n",
    "    \"This is a short description of what f does\"\n",
    "    print(\"Hello\")\n",
    "\n",
    "def g(x, y, z=0):\n",
    "    \"\"\"This is a short summary of what g does.\n",
    "    \n",
    "    Additional explanations can go here, you can for instance give more\n",
    "    information about the parameters:\n",
    "    \n",
    "    Parameters\n",
    "    ----------\n",
    "    x, a first argument\n",
    "    y, a second argument\n",
    "    z, a third argument (optional, default: 0)\n",
    "    \n",
    "    \"\"\"\n",
    "    return x + y + z"
   ]
  },
  {
   "cell_type": "code",
   "execution_count": 26,
   "metadata": {},
   "outputs": [],
   "source": [
    "# You can even access the documentation of your custom functions !\n",
    "?g"
   ]
  },
  {
   "cell_type": "markdown",
   "metadata": {
    "slideshow": {
     "slide_type": "slide"
    }
   },
   "source": [
    "**Example**, Both cells below lead to the same result:"
   ]
  },
  {
   "cell_type": "code",
   "execution_count": null,
   "metadata": {},
   "outputs": [],
   "source": [
    "L = [1., 1.5, 2., 2.5, 3.]\n",
    "O = []\n",
    "for i in range(len(L)):\n",
    "    O.append(3.14159 * L[i] ** 2)\n",
    "\n",
    "print(O)"
   ]
  },
  {
   "cell_type": "code",
   "execution_count": null,
   "metadata": {},
   "outputs": [],
   "source": [
    "def compute_circle_area(radius):\n",
    "    \"Compute the area of a circle given its radius\"\n",
    "    pi = 3.14159  # Approximate value of pi\n",
    "    return pi * radius ** 2\n",
    "\n",
    "\n",
    "area_all = []\n",
    "radius_all = [1., 1.5, 2., 2.5, 3.]\n",
    "\n",
    "# Loop over all radii and append the corresponding area to area_all\n",
    "for radius in radius_all:\n",
    "    area = compute_circle_area(radius)\n",
    "    area_all.append(area)\n",
    "\n",
    "print(area_all)"
   ]
  },
  {
   "cell_type": "markdown",
   "metadata": {
    "slideshow": {
     "slide_type": "skip"
    }
   },
   "source": [
    "If you are already familiar with object oriented programming, you can also define a Circle class, initialized from a radius and having `area` as one of its properties."
   ]
  },
  {
   "cell_type": "markdown",
   "metadata": {
    "slideshow": {
     "slide_type": "skip"
    }
   },
   "source": [
    "For documenting larger functions you can have a look at [numpy style docstring](https://sphinxcontrib-napoleon.readthedocs.io/en/latest/example_numpy.html)."
   ]
  },
  {
   "cell_type": "markdown",
   "metadata": {
    "slideshow": {
     "slide_type": "slide"
    }
   },
   "source": [
    "**Exercise:** Make the following code, which gets the first letter of each word in a string, more readable.:"
   ]
  },
  {
   "cell_type": "code",
   "execution_count": 27,
   "metadata": {},
   "outputs": [
    {
     "name": "stdout",
     "output_type": "stream",
     "text": [
      "['Y', 'O', 'L', 'O']\n"
     ]
    }
   ],
   "source": [
    "A = \"You Only Live  Once ! \"  # input phrase\n",
    "O = []\n",
    "\n",
    "for e in \"!?.-,;.\":\n",
    "    A = A.replace(e, \"\")\n",
    "\n",
    "i = 0  # set i to 0\n",
    "A = \" \" + A  # add \" \" at the beginning of the input phrase\n",
    "while i < len(A) - 1:\n",
    "    if A[i] == \" \":\n",
    "        if A[i + 1] != \" \":\n",
    "            O.append(A[i + 1])\n",
    "    i += 1  # Add 1 to i\n",
    "    \n",
    "print(O)"
   ]
  },
  {
   "cell_type": "code",
   "execution_count": 33,
   "metadata": {},
   "outputs": [
    {
     "data": {
      "text/plain": [
       "['Y', 'O', 'L', 'O']"
      ]
     },
     "execution_count": 33,
     "metadata": {},
     "output_type": "execute_result"
    }
   ],
   "source": [
    "# solution done live during the course\n",
    "def remove_punctuation(s):\n",
    "    \"Remove the punctuation from a string\"\n",
    "    for e in \"!?.-,;.\":\n",
    "        s = s.replace(e, \"\")\n",
    "    return s\n",
    "\n",
    "def get_first_letter_of_words(s):\n",
    "    \"Get the first letter of words in a string\"\n",
    "    first_letters = []\n",
    "    s = remove_punctuation(s)\n",
    "    \n",
    "    # We add a space at the beginning of the string and store all\n",
    "    # characters immediatly following a space in first_letters\n",
    "    s = \" \" + s\n",
    "    \n",
    "    for i in range(len(s) - 1):\n",
    "        if s[i] == \" \":\n",
    "            if s[i + 1] != \" \":\n",
    "                first_letters.append(s[i + 1])\n",
    "    \n",
    "    \n",
    "    return first_letters\n",
    "A = \"You Only Live  Once ! \"  # input phrase\n",
    "get_first_letter_of_words(A)"
   ]
  },
  {
   "cell_type": "code",
   "execution_count": null,
   "metadata": {},
   "outputs": [],
   "source": [
    "# other possibility (a little more pythonic)\n",
    "def remove_punctuation_characters(s):\n",
    "    \"Remove the punctuation characters (!?.-,;.) from a string\"\n",
    "    for e in \"!?.-,;.\":\n",
    "        s = s.replace(e, \"\")\n",
    "    return s\n",
    "\n",
    "\n",
    "def remove_value_from_list(l, value):\n",
    "    \"Remove all occurences of a value in a list\"\n",
    "    while value in l:\n",
    "        l.remove(value)\n",
    "    return l\n",
    "\n",
    "\n",
    "def get_words_first_letters(my_string):\n",
    "    \"Return a list of the first letters of each word in an input string\"\n",
    "    first_letters = []\n",
    "    my_string = remove_punctuation_characters(my_string)\n",
    "    \n",
    "    # Prepend a space so that the first letters follows a space\n",
    "    my_string = \" \" + my_string\n",
    "    # Append all characters immediately following a space to first_letters\n",
    "    for i, e in enumerate(my_string[:-1]):\n",
    "        if e == \" \":\n",
    "            first_letters.append(my_string[i + 1])\n",
    "    \n",
    "    first_letters = remove_value_from_list(first_letters, value=\" \")\n",
    "\n",
    "    return first_letters\n",
    "\n",
    "get_words_first_letters(\"You Only Live  Once ! \")\n"
   ]
  }
 ],
 "metadata": {
  "celltoolbar": "Slideshow",
  "kernelspec": {
   "display_name": "Python 3",
   "language": "python",
   "name": "python3"
  },
  "language_info": {
   "codemirror_mode": {
    "name": "ipython",
    "version": 3
   },
   "file_extension": ".py",
   "mimetype": "text/x-python",
   "name": "python",
   "nbconvert_exporter": "python",
   "pygments_lexer": "ipython3",
   "version": "3.7.6"
  }
 },
 "nbformat": 4,
 "nbformat_minor": 4
}
