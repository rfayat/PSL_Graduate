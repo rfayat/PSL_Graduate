{
 "cells": [
  {
   "cell_type": "markdown",
   "metadata": {
    "slideshow": {
     "slide_type": "slide"
    }
   },
   "source": [
    "# A survival kit for dealing with Regular Expressions in Python\n",
    "\n",
    "This introduction is very, very heavily inspired by [this tutorial](https://scotch.io/tutorials/an-introduction-to-regex-in-python) by [Jee Gikera](https://scotch.io/@jee). You can find a lot of Cheatsheets for writting regular expressions online, like for instance [here](https://www.debuggex.com/cheatsheet/regex/python)."
   ]
  },
  {
   "cell_type": "markdown",
   "metadata": {
    "slideshow": {
     "slide_type": "slide"
    }
   },
   "source": [
    "## What are regular expressions ?\n",
    "Regular expressions are basically just a sequence of characters that can be used to define a search pattern for finding text. This \"search engine\" is embedded within the Python programming language (and many other languages as well) and made available through the `re` module."
   ]
  },
  {
   "cell_type": "code",
   "execution_count": 1,
   "metadata": {},
   "outputs": [],
   "source": [
    "import re"
   ]
  },
  {
   "cell_type": "markdown",
   "metadata": {
    "slideshow": {
     "slide_type": "slide"
    }
   },
   "source": [
    "## Main use cases in data analysis in biology\n",
    "\n",
    "- Parsing the path to recording files\n",
    "- Reading the content of data files when it does not make sense / it is impossible to use dedicated Python library\n",
    "- Finding basic patterns in DNA/RNA/Amino-Acid sequences"
   ]
  },
  {
   "cell_type": "markdown",
   "metadata": {
    "slideshow": {
     "slide_type": "slide"
    }
   },
   "source": [
    "### Regular expressions can be extremely useful but also a bit tricky in the beginning\n",
    "![facepalm](https://miro.medium.com/max/400/0*eiqUk8yDrfMCGwsN.jpg)"
   ]
  },
  {
   "cell_type": "markdown",
   "metadata": {
    "slideshow": {
     "slide_type": "slide"
    }
   },
   "source": [
    "## Regular expression syntax\n",
    "### Ordinary characters\n",
    "Regular expressions can contain both special and ordinary characters. Most ordinary characters, like 'A', 'a', or '0', are the simplest regular expressions; they simply match themselves.\n",
    "\n",
    "E.G. \"ABC\" will only match \"ABC\""
   ]
  },
  {
   "cell_type": "markdown",
   "metadata": {
    "slideshow": {
     "slide_type": "slide"
    }
   },
   "source": [
    "### Special characters\n",
    "There are also other special characters which can't match themselves, i.e. `^`, `$`, `*`, `+`, `?`, `{`, `}`, `[`, `]`, `\\`, `|`, `(`, and `)`. The best practice is to systematically refer to a cheatsheet unless you have a supernatural Beth-Harmon-level instinct for regular expressions.\n",
    "\n",
    "![regexp first time](https://i.redd.it/iywcj7vuieg21.png)"
   ]
  },
  {
   "cell_type": "markdown",
   "metadata": {
    "slideshow": {
     "slide_type": "slide"
    }
   },
   "source": [
    "\n",
    "A few examples from [wikipedia](https://en.wikipedia.org/wiki/Regular_expression) and this [cheatsheet](https://www.debuggex.com/cheatsheet/regex/python):\n",
    "\n",
    "- `a|b`\ta or b\n",
    "- `a*`\t0 or more a's\n",
    "- `a+`  1 or more a's\n",
    "- `a?`  0 or 1 a's\n",
    "- `\\d`  one digit\n",
    "- `\\s`  one space\n",
    "- `\\w`  one alphanumeric character\n",
    "- `{2}`\tExactly 2\n",
    "- `{2,5}` 2 to 5\n",
    "- `[A-D]` A to D (A, B, C or D)\n",
    "- `[3-5]` 3 to 5 (3, 4 or 5)\n",
    "- `(...)` Capturing group\n",
    "- `^` Start of the string `$` End of the string\n",
    "- `.` Any character except newline"
   ]
  },
  {
   "cell_type": "markdown",
   "metadata": {
    "slideshow": {
     "slide_type": "slide"
    }
   },
   "source": [
    "A few examples using special characters:\n",
    "- `(a|b){2}` a or b two times (\"aa\", \"ab\", \"ba\" or \"bb\")\n",
    "- `^[3-5].*`   A number between 3 and 5 at the beginning of the string followed by 0 or more alphanumerical characters (e.g. \"4 is a beautiful integer\")\n",
    "- `\\d{6,8}`  6 to 8 digits\n",
    "- `[a-z]+`   One or more lowercase letter\n",
    "- `\\d_[a-e]` A digit, followed by an underscore, followed by a lowercase letter between a and e (e.g. \"3_d\")."
   ]
  },
  {
   "cell_type": "markdown",
   "metadata": {
    "slideshow": {
     "slide_type": "slide"
    }
   },
   "source": [
    "## Using the re module"
   ]
  },
  {
   "cell_type": "markdown",
   "metadata": {
    "slideshow": {
     "slide_type": "-"
    }
   },
   "source": [
    "### Using re.match and re.search\n",
    "`re.match(pattern, string)` checks for a match only at the beginning of the string, while a  `re.search(pattern, string)` checks for a match anywhere in the string.\n",
    "\n",
    "The output is a `re.Match` object which has a boolean value of `True`, None is returned if the pattern does not match the string:"
   ]
  },
  {
   "cell_type": "code",
   "execution_count": 3,
   "metadata": {},
   "outputs": [
    {
     "name": "stdout",
     "output_type": "stream",
     "text": [
      "The input string does not match the pattern\n"
     ]
    }
   ],
   "source": [
    "pattern = \"\\d{6,8}\"\n",
    "\n",
    "if re.match(pattern, \"123456\"):\n",
    "    print(\"I found the pattern !\")\n",
    "else:\n",
    "    print(\"The input string does not match the pattern\")"
   ]
  },
  {
   "cell_type": "code",
   "execution_count": 4,
   "metadata": {
    "scrolled": true,
    "slideshow": {
     "slide_type": "slide"
    }
   },
   "outputs": [
    {
     "name": "stdout",
     "output_type": "stream",
     "text": [
      "The input string does not match the pattern\n"
     ]
    }
   ],
   "source": [
    "# Note that re.match only looks at the beginning of the string\n",
    "pattern = \"\\d{6,8}\"\n",
    "\n",
    "if re.match(pattern, \"a_123456\"):\n",
    "    print(\"I found the pattern !\")\n",
    "else:\n",
    "    print(\"The input string does not match the pattern\")"
   ]
  },
  {
   "cell_type": "code",
   "execution_count": 5,
   "metadata": {
    "scrolled": true
   },
   "outputs": [
    {
     "name": "stdout",
     "output_type": "stream",
     "text": [
      "I found the pattern !\n"
     ]
    }
   ],
   "source": [
    "# ..whereas re.search looks everywhere\n",
    "pattern = \"\\d{6,8}\"\n",
    "\n",
    "if re.search(pattern, \"a_123456\"):\n",
    "    print(\"I found the pattern !\")\n",
    "else:\n",
    "    print(\"The input string does not match the pattern\")"
   ]
  },
  {
   "cell_type": "markdown",
   "metadata": {
    "slideshow": {
     "slide_type": "slide"
    }
   },
   "source": [
    "The resulting re.Match object has several built-in methods for instance for finding the index of the occurence of a match or the value of the match:"
   ]
  },
  {
   "cell_type": "code",
   "execution_count": 6,
   "metadata": {},
   "outputs": [
    {
     "name": "stdout",
     "output_type": "stream",
     "text": [
      "beautiful\n",
      "beautiful\n"
     ]
    }
   ],
   "source": [
    "my_string = \"Cats are beautiful creatures\"\n",
    "\n",
    "# b followed by one or more alphanumerical characters\n",
    "pattern = \"b\\w+\"\n",
    "\n",
    "# create a re.Match object\n",
    "my_match = re.search(\"b\\w+\", my_string)\n",
    "\n",
    "# Index of the start and end of the match\n",
    "start_idx, end_idx = my_match.span()\n",
    "print(my_string[start_idx: end_idx])\n",
    "# Show the match directly\n",
    "print(my_match.group())"
   ]
  },
  {
   "cell_type": "markdown",
   "metadata": {
    "slideshow": {
     "slide_type": "slide"
    }
   },
   "source": [
    "#### Optional exercise:\n",
    "You can practice your regexp skills on [this](https://regexone.com/) website."
   ]
  },
  {
   "cell_type": "markdown",
   "metadata": {
    "slideshow": {
     "slide_type": "slide"
    }
   },
   "source": [
    "#### Exercise: \n",
    "You obtained the content of one of your folders containing experimental data (using for instance the [pathlib](https://realpython.com/python-pathlib/) module). \n",
    "\n",
    "From the list of files, filter the `.csv` files whose name `start with 8 digits` (corresponding to a date) and exclude those which include `test` in their name:"
   ]
  },
  {
   "cell_type": "code",
   "execution_count": 12,
   "metadata": {
    "slideshow": {
     "slide_type": "slide"
    }
   },
   "outputs": [
    {
     "data": {
      "text/plain": [
       "['20200112_dark.csv', '20200112_light_02.csv', '20200113_dark_03.csv']"
      ]
     },
     "execution_count": 12,
     "metadata": {},
     "output_type": "execute_result"
    }
   ],
   "source": [
    "file_names = [\"20200112_dark_test_01.csv\", \"20200112_dark_test_01.avi\", \".tmp_20200112_dark_test_01.csv\",\n",
    "              \"20200112_light_test.csv\", \"20200112_light_test.avi\", \"20200112_dark.avi\", \"20200112_dark.csv\",\n",
    "              \"20200112_light_02.avi\", \"20200112_light_02.csv\", \"metadata.csv\", \"20200113_dark_test_02.csv\",\n",
    "              \"20200113_dark_test_02.avi\", \"20200113_dark_test_02.avi\", \"20200113_dark_03.csv\",\n",
    "              \"20200113_dark_03.avi\", \"20200113_csv\", \"backup_csv.json\"]\n",
    "\n",
    "pattern = \"\\d{8}.*\\.csv$\"\n",
    "pattern_test = \"test\"\n",
    "\n",
    "matching_names = []\n",
    "for f in file_names:\n",
    "    if re.match(pattern, f):\n",
    "        if not re.search(pattern_test, f):\n",
    "            matching_names.append(f)\n",
    "matching_names"
   ]
  },
  {
   "cell_type": "code",
   "execution_count": null,
   "metadata": {},
   "outputs": [],
   "source": []
  },
  {
   "cell_type": "code",
   "execution_count": null,
   "metadata": {
    "slideshow": {
     "slide_type": "slide"
    }
   },
   "outputs": [],
   "source": []
  },
  {
   "cell_type": "markdown",
   "metadata": {
    "slideshow": {
     "slide_type": "slide"
    }
   },
   "source": [
    "![how you feel](https://i.imgflip.com/2x54jq.jpg)"
   ]
  },
  {
   "cell_type": "markdown",
   "metadata": {
    "slideshow": {
     "slide_type": "slide"
    }
   },
   "source": [
    "## A few tricks\n",
    "### Compiling regular expressions for improving speed\n",
    "`re.compile(pattern)` is used to compile a regular expression pattern into a regular expression object, which can be used for matching using its `match()` and `search()` methods, which we have discussed above. This can also save time since parsing/handling regex strings can be computationally expensive to run.\n",
    "\n",
    "**Example:**"
   ]
  },
  {
   "cell_type": "code",
   "execution_count": 7,
   "metadata": {},
   "outputs": [
    {
     "name": "stdout",
     "output_type": "stream",
     "text": [
      "['Python', 'Python']\n",
      "['Python']\n"
     ]
    }
   ],
   "source": [
    "pattern = re.compile('Python')\n",
    "\n",
    "result = pattern.findall('Pythonistas are programmers that use Python, which is an easy-to-learn and powerful language.')\n",
    "print(result)\n",
    "\n",
    "find = pattern.findall('Python is easy to learn')\n",
    "print(find)"
   ]
  },
  {
   "cell_type": "markdown",
   "metadata": {
    "slideshow": {
     "slide_type": "slide"
    }
   },
   "source": [
    "### Find all occurences of a pattern\n",
    "`re.findall(pattern, string)` is used to search all occurences of an input pattern in a string:\n",
    "\n",
    "**Example:**"
   ]
  },
  {
   "cell_type": "code",
   "execution_count": 8,
   "metadata": {
    "scrolled": true
   },
   "outputs": [
    {
     "data": {
      "text/plain": [
       "['42',\n",
       " 'is',\n",
       " 'the',\n",
       " 'Answer',\n",
       " 'to',\n",
       " 'the',\n",
       " 'Ultimate',\n",
       " 'Question',\n",
       " 'of',\n",
       " 'Life',\n",
       " 'the',\n",
       " 'Universe',\n",
       " 'and',\n",
       " 'Everything']"
      ]
     },
     "execution_count": 8,
     "metadata": {},
     "output_type": "execute_result"
    }
   ],
   "source": [
    "# Find the occurences of groups of one or more alphanumerical characters\n",
    "my_string = \"42 is the Answer to the Ultimate Question of Life, the Universe, and Everything\"\n",
    "re.findall(\"\\w+\", my_string)"
   ]
  },
  {
   "cell_type": "markdown",
   "metadata": {
    "slideshow": {
     "slide_type": "slide"
    }
   },
   "source": [
    "### Substitute a string if a pattern occurs\n",
    "`re.sub(pattern, replacement, string)` is used to search and substitute for a new string if the pattern occurs.\n",
    "\n",
    "**Example:**"
   ]
  },
  {
   "cell_type": "code",
   "execution_count": 9,
   "metadata": {},
   "outputs": [
    {
     "name": "stdout",
     "output_type": "stream",
     "text": [
      "I love learning regexp\n"
     ]
    }
   ],
   "source": [
    "result = re.sub('python', 'regexp', 'I love learning python')\n",
    "print(result)"
   ]
  },
  {
   "cell_type": "markdown",
   "metadata": {
    "slideshow": {
     "slide_type": "slide"
    }
   },
   "source": [
    "### Using groupdict to extract variables from a string\n",
    "The following syntax can be used to give a name to a substring matching an expression:\n",
    "\n",
    "`(?P<Y>...)`\tCapturing group named Y\n",
    "\n",
    "The groupdict method can then be used to extract this or these substring(s):"
   ]
  },
  {
   "cell_type": "code",
   "execution_count": 10,
   "metadata": {},
   "outputs": [
    {
     "name": "stdout",
     "output_type": "stream",
     "text": [
      "{'date': '191201', 'format': 'csv'}\n"
     ]
    }
   ],
   "source": [
    "pattern = \"(?P<date>\\d{6})_test\\.(?P<format>[a-z]+)\"\n",
    "target = \"191201_test.csv\"\n",
    "\n",
    "my_match = re.search(pattern, target)\n",
    "# If the pattern was found\n",
    "if my_match:\n",
    "    print(my_match.groupdict())\n",
    "# If the pattern was not found\n",
    "else:\n",
    "    print(\"Pattern not found\")"
   ]
  },
  {
   "cell_type": "markdown",
   "metadata": {
    "slideshow": {
     "slide_type": "slide"
    }
   },
   "source": [
    "#### Exercise: Parse the content of the following strings with the same regexp"
   ]
  },
  {
   "cell_type": "code",
   "execution_count": 17,
   "metadata": {},
   "outputs": [
    {
     "data": {
      "text/plain": [
       "{'organism_id': '28892',\n",
       " 'sequence': 'YVGEEDFGIVKGVAGGNFFVMGENQMAALMGAQAAVDAIAGVGGVITSFPIVASGSKVGKYKFMASTNEK',\n",
       " 'end_position': '210'}"
      ]
     },
     "execution_count": 17,
     "metadata": {},
     "output_type": "execute_result"
    }
   ],
   "source": [
    "example1 = \"190192    MEINGVEIEDTFAEAFEAKMARVLITAASHKWAMIAVKEATGFGTSVIMCPAEAGIDCYVPPEETPDGRP 70\\n\"\n",
    "example2 = \"28892     YVGEEDFGIVKGVAGGNFFVMGENQMAALMGAQAAVDAIAGVGGVITSFPIVASGSKVGKYKFMASTNEK 210\\n\"\n",
    "# We expect for example1:\n",
    "# {'organism_id': '190192',\n",
    "#  'sequence': 'MEINGVEIEDTFAEAFEAKMARVLITAASHKWAMIAVKEATGFGTSVIMCPAEAGIDCYVPPEETPDGRP',\n",
    "#  'end_position': '70'}\n",
    "# and for example2:\n",
    "# {'organism_id': '28892',\n",
    "#  'sequence': 'YVGEEDFGIVKGVAGGNFFVMGENQMAALMGAQAAVDAIAGVGGVITSFPIVASGSKVGKYKFMASTNEK',\n",
    "#  'end_position': '210'}\n",
    "\n",
    "pattern = \"(?P<organism_id>\\d+)\\s+(?P<sequence>\\w+)\\s+(?P<end_position>\\d+)\\n\"\n",
    "\n",
    "my_match = re.search(pattern, example2)\n",
    "my_match.groupdict()\n"
   ]
  }
 ],
 "metadata": {
  "celltoolbar": "Slideshow",
  "kernelspec": {
   "display_name": "Python 3",
   "language": "python",
   "name": "python3"
  },
  "language_info": {
   "codemirror_mode": {
    "name": "ipython",
    "version": 3
   },
   "file_extension": ".py",
   "mimetype": "text/x-python",
   "name": "python",
   "nbconvert_exporter": "python",
   "pygments_lexer": "ipython3",
   "version": "3.7.6"
  }
 },
 "nbformat": 4,
 "nbformat_minor": 4
}
