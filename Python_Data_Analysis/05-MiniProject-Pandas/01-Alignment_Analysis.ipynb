{
 "cells": [
  {
   "cell_type": "markdown",
   "metadata": {},
   "source": [
    "# Identifying patterns in protein adaptation to temperature.\n",
    "\n",
    "**Acknowledgement**: A huge thanks to [Antonin Affholder](https://www.ens.psl.eu/actualites/antonin-affholder) for the dataset and global layout of this mini-project.\n",
    "\n",
    "## Problem\n",
    "\n",
    "<!-- Proteins of species living in high or low temperature have specific properties. -->\n",
    "\n",
    "Proteins from bacteria and archaea have often been used to elucidate patterns in protein adaptation across wide temperature ranges. To identify these patterns, researchers compared sequences of families of homologous high and low-temperature proteins. This approach allows to extract recurring amino acid replacement trends potentially important for thermal adaptation (e.g. more charged and hydrophobic amino acids).\n",
    "\n",
    "From a set of protein sequences of mesophilic* and hyperthermophilic** archaea, your mission, should you choose to accept it, is to code a script that would detect preferential amino acid replacement in hyperthermophilic species, that would indicate adaptation to high temperature.\n",
    "- `*` mesophilic organism = organism that grows in moderate temperatures (between 20°C and 45°C)\n",
    "- `**`hyperthermophilic organism = organism that thrives in extremely hot environments (above 60°C)\n",
    "\n",
    "Here, we are interested in comparing hyperthermophiles with mesophiles.\n",
    "\n",
    "### Details\n",
    "\n",
    "The dataset you will use (`Ftr_A.aln`) consists in an alignement of the set of protein sequences (an enzyme involved in methanogenesis) of mesophilic and hyperthermophilic archaea species, aligned with the software MAFFT, it follows the same standards as the fasta format.\n",
    "The `metadata.csv` file is a table containing the information on the dataset and most importantly associates sequences ID with organism type (hyperthermophile, thermophile or mesophile).\n",
    "\n",
    "The number of substitutions from mesophilic sequences to hyperthermophilic sequences will be stored in a matrix. This will be a 20x20 matrix (as there are 20 amino acids). Element M[i,j] will be the number of substitutions from amino-acid i in the mesophilic sequences to amino-acid j in the hyperthermophile sequences.\n",
    "\n",
    "The substitution ratios are then computed by dividing the substitution matrix M by its transpose.\n",
    "\n",
    "<!-- Is there a preferential amino acid replacement in hyperthermophilic species? Can you identify groups of amino acids (charged, polar, hydrophobic) that are preferentially replaced? -->\n",
    "\n",
    "### Some tips\n",
    "\n",
    "To do so, you will need to:\n",
    "\n",
    "- Find a way to read data\n",
    "- Classify the two types of sequences (mesophilic and hyperthermophilic)\n",
    "- Compute and store in a matrix the number of amino acids substitutions between the two sets of sequences (mesophilic and hyperthermophilic)\n",
    "- Compute the substitution ratios from mesophilic to hyperthermophilic sequences\n",
    "- Visually represent the substitution matrix as a heatmap\n",
    "- Conclude on a potential preferential amino acid replacement \n"
   ]
  },
  {
   "cell_type": "code",
   "execution_count": null,
   "metadata": {},
   "outputs": [],
   "source": [
    "import pandas as pd\n",
    "import numpy as np\n",
    "import re\n",
    "import matplotlib.pyplot as plt"
   ]
  },
  {
   "cell_type": "markdown",
   "metadata": {},
   "source": [
    "## Step 1 - File reading\n",
    "### Metadata file"
   ]
  },
  {
   "cell_type": "code",
   "execution_count": null,
   "metadata": {
    "scrolled": false
   },
   "outputs": [],
   "source": [
    "# TODO: Load metadata.csv as a dataframe\n",
    "metadata = ...\n",
    "metadata.head(5)"
   ]
  },
  {
   "cell_type": "code",
   "execution_count": null,
   "metadata": {
    "scrolled": true
   },
   "outputs": [],
   "source": [
    "# TODO: Find the organism IDs of the mesophilic and hyperthermophilic archaea\n",
    "\n",
    "# hyperthermophilic\n",
    "ht_id = ...\n",
    "# mesophilic\n",
    "t_id =  ...\n",
    "\n",
    "print(ht_id)\n",
    "print(t_id)\n",
    "# We expect:\n",
    "# [ 190192  880724  243232  573063  573064  523846  579137 1069083]\n",
    "# [ 647171  187420  523845   79929  647113  523844 1041930  882090  419665\n",
    "#   351160 1715806  323259    2162]"
   ]
  },
  {
   "cell_type": "markdown",
   "metadata": {},
   "source": [
    "### Aligned sequences\n",
    "#### Reading of a row of data"
   ]
  },
  {
   "cell_type": "code",
   "execution_count": null,
   "metadata": {},
   "outputs": [],
   "source": [
    "def read_aln_row(row):\n",
    "    \"\"\"Parse a row of an aln file and return its content.\n",
    "    \n",
    "    If the row does not contain any data, None is returned.\n",
    "    \n",
    "    Parameters\n",
    "    ----------\n",
    "    row: str\n",
    "        A row of an aln file.\n",
    "        \n",
    "    Returns\n",
    "    -------\n",
    "    parsed_row: dict or None\n",
    "        A dictionary containing the parsed data.\n",
    "        The dictionary has format:\n",
    "        \n",
    "            {\"organism_id\": organism_id,\n",
    "             \"sequence\": sequence,\n",
    "              \"end_position\": end_position}\n",
    "              \n",
    "        Where organism_id, sequence and end_position correspond to:\n",
    "        \n",
    "        organism_id: int\n",
    "            The organism ID.\n",
    "\n",
    "        sequence: str\n",
    "            The protein sequence stored on the row.\n",
    "\n",
    "        end_position: int\n",
    "            The position of the last amino-acid of the row.\n",
    "    \"\"\"\n",
    "    # TODO"
   ]
  },
  {
   "cell_type": "code",
   "execution_count": null,
   "metadata": {},
   "outputs": [],
   "source": [
    "# Example row\n",
    "row = \"190192    MEINGVEIEDTFAEAFEAKMARVLITAASHKWAMIAVKEATGFGTSVIMCPAEAGIDCYVPPEETPDGRP 70\\n\"\n",
    "\n",
    "read_aln_row(row)\n",
    "# We expect:\n",
    "# {'organism_id': 190192,\n",
    "#  'sequence': 'MEINGVEIEDTFAEAFEAKMARVLITAASHKWAMIAVKEATGFGTSVIMCPAEAGIDCYVPPEETPDGRP',\n",
    "#  'end_position': 70}\n",
    "# WARNING: organism_id and end_position should be integers"
   ]
  },
  {
   "cell_type": "markdown",
   "metadata": {},
   "source": [
    "#### Parsing of the full file"
   ]
  },
  {
   "cell_type": "code",
   "execution_count": null,
   "metadata": {
    "scrolled": true
   },
   "outputs": [],
   "source": [
    "def read_text_file(path):\n",
    "    \"\"\"Return the rows of a text file as elements of a list\n",
    "    \n",
    "    Parameters\n",
    "    ----------\n",
    "    path: str\n",
    "        The path to the text file to read\n",
    "    \n",
    "    Returns\n",
    "    -------\n",
    "    list of str\n",
    "        A list containing the text file's rows.\n",
    "    \"\"\"\n",
    "    # TODO"
   ]
  },
  {
   "cell_type": "code",
   "execution_count": null,
   "metadata": {},
   "outputs": [],
   "source": [
    "# Test it on the data\n",
    "data_path = \"Ftr_A.aln\"\n",
    "# Print the first four lines of the file\n",
    "read_text_file(data_path)[:4]\n",
    "\n",
    "# We expect:\n",
    "# ['CLUSTAL W 2.0 multiple sequence alignment\\n',\n",
    "#  '\\n',\n",
    "#  '190192    MEINGVEIEDTFAEAFEAKMARVLITAASHKWAMIAVKEATGFGTSVIMCPAEAGIDCYVPPEETPDGRP 70\\n',\n",
    "#  '243232    MEINGVYIEDTFAEAFPIWVSRVLITAATKKWAKIAATEATGFGCSVIMCPAEAGIEKYVPPSKTPDGRP 70\\n']"
   ]
  },
  {
   "cell_type": "code",
   "execution_count": null,
   "metadata": {},
   "outputs": [],
   "source": [
    "def load_aln_data(path):\n",
    "    \"\"\"Load an aln file as a pandas dataframe\n",
    "    \n",
    "    Parameters\n",
    "    ----------\n",
    "    path: str\n",
    "        The path to the data file.\n",
    "        \n",
    "    Returns\n",
    "    -------\n",
    "    df: pd.DataFrame\n",
    "        The aligned sequences stored in a dataframe.\n",
    "        Each row correspond to a position in the sequence,\n",
    "        each column to an organism ID.\n",
    "    \"\"\"\n",
    "    # Open the file whose path is given as input and read its content\n",
    "    row_all = read_text_file(path)\n",
    "    \n",
    "    # Parse each row and store those containing data in a list\n",
    "    parsed_row_all = []\n",
    "    for row in row_all:\n",
    "        parsed_row = read_aln_row(row)\n",
    "        if parsed_row is not None:\n",
    "            parsed_row_all.append(parsed_row)\n",
    "\n",
    "    # Find the maximum value of end position and all organism IDs\n",
    "    # TODO\n",
    "    end_position_max = ...\n",
    "    organism_id_all = ...\n",
    "            \n",
    "    # Preallocate the output dataframe\n",
    "    df = pd.DataFrame(index=np.arange(1, end_position_max + 1),\n",
    "                      columns=organism_id_all, dtype=str)\n",
    "    \n",
    "    # Store the data from each parsed row in df\n",
    "    for parsed_row in parsed_row_all:\n",
    "        # TODO\n",
    "\n",
    "    return df"
   ]
  },
  {
   "cell_type": "code",
   "execution_count": null,
   "metadata": {
    "scrolled": false
   },
   "outputs": [],
   "source": [
    "data_path = \"Ftr_A.aln\"\n",
    "data = load_aln_data(data_path)\n",
    "data.head(5)\n",
    "\n",
    "# We expect something similar to:\n",
    "#    190192  243232  523846  573063  573064  579137  880724  1069083   2162  ...   \n",
    "# 1       M       M       M       M       M       M       M       M       M   \n",
    "# 2       E       E       K       E       E       E       E       E       E   \n",
    "# 3       I       I       V       I       I       I       I       I       I   \n",
    "# 4       N       N       N       N       N       N       N       N       N   \n",
    "# 5       G       G       G       G       G       G       G       G       G   "
   ]
  },
  {
   "cell_type": "markdown",
   "metadata": {},
   "source": [
    "## Step 2 - Number of substitutions\n",
    "We will loop over each pair of mesophilic and hyperthermophilic organism and each position and store the comparison between each resulting pair of aminoacid in a pandas dataframe. "
   ]
  },
  {
   "cell_type": "code",
   "execution_count": null,
   "metadata": {},
   "outputs": [],
   "source": [
    "amino_acids = ['A', 'C', 'D', 'E', 'F', 'G', 'H', 'I', 'K', 'L', 'M', 'N', 'P',\n",
    "               'Q', 'R', 'S', 'T', 'V', 'W', 'Y']\n",
    "\n",
    "substitution_count = pd.DataFrame(np.zeros((len(amino_acids), len(amino_acids)), dtype=int),\n",
    "                                  index=amino_acids, columns=amino_acids)\n",
    "\n",
    "print(t_id)  # mesophilic\n",
    "print(ht_id) # hyperthermophilic\n",
    "\n",
    "\n",
    "# TODO: for each mesophilic archae, loop over all hyperthermophilic organisms\n",
    "# and over each position in the sequence and increment the count of substitutions\n",
    "# E.G. substitution_count[\"A\"][\"L\"] is how many time an Alanine in the sequence of a\n",
    "# mesophilic archae was replaced by a leucine in the protein sequence of a hyperthermophilic\n",
    "# archae\n",
    "# TODO\n",
    "substitution_count"
   ]
  },
  {
   "cell_type": "markdown",
   "metadata": {},
   "source": [
    "### Step 4 - Substitution ration\n",
    "Compute the substitution ratios by dividing the substitution matrix by its transpose and plot the result."
   ]
  },
  {
   "cell_type": "code",
   "execution_count": null,
   "metadata": {},
   "outputs": [],
   "source": [
    "# TODO: Compute the substitution ratios\n",
    "substitution_ratios = ..."
   ]
  },
  {
   "cell_type": "code",
   "execution_count": null,
   "metadata": {
    "scrolled": true
   },
   "outputs": [],
   "source": [
    "substitution_ratios\n",
    "# We expect something similar to:\n",
    "#           A         C         D         E         F         G          H ...\n",
    "# A  1.000000  4.050000  0.363636  5.125000  0.000000  1.118110        inf   \n",
    "# C  0.246914  1.000000       NaN       NaN       NaN  0.590909        inf   \n",
    "# D  2.750000       NaN  1.000000  1.314607       NaN  1.294118   0.000000   \n",
    "# E  0.195122       NaN  0.760684  1.000000  0.000000  2.421053   3.310345   \n",
    "# ..."
   ]
  },
  {
   "cell_type": "code",
   "execution_count": null,
   "metadata": {},
   "outputs": [],
   "source": [
    "# TODO: Plot the output"
   ]
  },
  {
   "cell_type": "code",
   "execution_count": null,
   "metadata": {},
   "outputs": [],
   "source": []
  }
 ],
 "metadata": {
  "kernelspec": {
   "display_name": "Python 3",
   "language": "python",
   "name": "python3"
  },
  "language_info": {
   "codemirror_mode": {
    "name": "ipython",
    "version": 3
   },
   "file_extension": ".py",
   "mimetype": "text/x-python",
   "name": "python",
   "nbconvert_exporter": "python",
   "pygments_lexer": "ipython3",
   "version": "3.7.6"
  }
 },
 "nbformat": 4,
 "nbformat_minor": 4
}
